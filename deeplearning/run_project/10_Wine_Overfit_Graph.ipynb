{
  "nbformat": 4,
  "nbformat_minor": 0,
  "metadata": {
    "kernelspec": {
      "display_name": "Python 3",
      "language": "python",
      "name": "python3"
    },
    "language_info": {
      "codemirror_mode": {
        "name": "ipython",
        "version": 3
      },
      "file_extension": ".py",
      "mimetype": "text/x-python",
      "name": "python",
      "nbconvert_exporter": "python",
      "pygments_lexer": "ipython3",
      "version": "3.7.3"
    },
    "colab": {
      "name": "10_Wine_Overfit_Graph.ipynb",
      "provenance": [],
      "include_colab_link": true
    }
  },
  "cells": [
    {
      "cell_type": "markdown",
      "metadata": {
        "id": "view-in-github",
        "colab_type": "text"
      },
      "source": [
        "<a href=\"https://colab.research.google.com/github/junhansong/deeplearning/blob/master/deeplearning/run_project/10_Wine_Overfit_Graph.ipynb\" target=\"_parent\"><img src=\"https://colab.research.google.com/assets/colab-badge.svg\" alt=\"Open In Colab\"/></a>"
      ]
    },
    {
      "cell_type": "markdown",
      "metadata": {
        "id": "JyYDIPrWr668",
        "colab_type": "text"
      },
      "source": [
        "### 라이브러리 호출\n"
      ]
    },
    {
      "cell_type": "code",
      "metadata": {
        "id": "WYAMKuYM8xOT",
        "colab_type": "code",
        "colab": {
          "base_uri": "https://localhost:8080/",
          "height": 33
        },
        "outputId": "d678471a-20ce-45f2-e725-dbc7e8d9e6a5"
      },
      "source": [
        "from keras.models import Sequential\n",
        "from keras.layers import Dense\n",
        "from keras.callbacks import ModelCheckpoint\n",
        "\n",
        "import pandas as pd\n",
        "import numpy\n",
        "import os\n",
        "import matplotlib.pyplot as plt\n",
        "import tensorflow as tf\n",
        "\n"
      ],
      "execution_count": 1,
      "outputs": [
        {
          "output_type": "stream",
          "text": [
            "Using TensorFlow backend.\n"
          ],
          "name": "stderr"
        }
      ]
    },
    {
      "cell_type": "markdown",
      "metadata": {
        "id": "wA6wMFAt8yfG",
        "colab_type": "text"
      },
      "source": [
        "# seed 값 설정\n"
      ]
    },
    {
      "cell_type": "code",
      "metadata": {
        "id": "ko742iiR8zaO",
        "colab_type": "code",
        "colab": {}
      },
      "source": [
        "numpy.random.seed(3)\n",
        "tf.random.set_seed(3)\n",
        "\n"
      ],
      "execution_count": 0,
      "outputs": []
    },
    {
      "cell_type": "markdown",
      "metadata": {
        "id": "e2g1DgHS80O3",
        "colab_type": "text"
      },
      "source": [
        "### 데이터 로딩\n"
      ]
    },
    {
      "cell_type": "code",
      "metadata": {
        "id": "xbPDA0LO809J",
        "colab_type": "code",
        "colab": {}
      },
      "source": [
        "df_pre = pd.read_csv('https://raw.githubusercontent.com/junhansong/deeplearning/master/deeplearning/dataset/wine.csv', header=None)\n",
        "df = df_pre.sample(frac=0.15)\n",
        "\n"
      ],
      "execution_count": 0,
      "outputs": []
    },
    {
      "cell_type": "markdown",
      "metadata": {
        "id": "ejaoatla81m6",
        "colab_type": "text"
      },
      "source": [
        "### 데이터 셋 분리\n"
      ]
    },
    {
      "cell_type": "code",
      "metadata": {
        "id": "utD79cMG82R4",
        "colab_type": "code",
        "colab": {}
      },
      "source": [
        "dataset = df.values\n",
        "X = dataset[:,0:12]\n",
        "Y = dataset[:,12]\n",
        "\n"
      ],
      "execution_count": 0,
      "outputs": []
    },
    {
      "cell_type": "markdown",
      "metadata": {
        "id": "4k2ajRpS83EO",
        "colab_type": "text"
      },
      "source": [
        "### 모델의 설정\n"
      ]
    },
    {
      "cell_type": "code",
      "metadata": {
        "id": "zjaRV5gk83mr",
        "colab_type": "code",
        "colab": {}
      },
      "source": [
        "model = Sequential()\n",
        "model.add(Dense(30,  input_dim=12, activation='relu'))\n",
        "model.add(Dense(12, activation='relu'))\n",
        "model.add(Dense(8, activation='relu'))\n",
        "model.add(Dense(1, activation='sigmoid'))\n",
        "\n"
      ],
      "execution_count": 0,
      "outputs": []
    },
    {
      "cell_type": "markdown",
      "metadata": {
        "id": "To8vas1J84mQ",
        "colab_type": "text"
      },
      "source": [
        "### 모델 컴파일\n"
      ]
    },
    {
      "cell_type": "code",
      "metadata": {
        "id": "c49bniVE85Ml",
        "colab_type": "code",
        "colab": {}
      },
      "source": [
        "model.compile(loss='binary_crossentropy',\n",
        "          optimizer='adam',\n",
        "          metrics=['accuracy'])\n",
        "\n"
      ],
      "execution_count": 0,
      "outputs": []
    },
    {
      "cell_type": "markdown",
      "metadata": {
        "id": "l3J8S11K857a",
        "colab_type": "text"
      },
      "source": [
        "### 모델 저장 폴더 설정\n"
      ]
    },
    {
      "cell_type": "code",
      "metadata": {
        "id": "2lUuUrfc86cH",
        "colab_type": "code",
        "colab": {}
      },
      "source": [
        "MODEL_DIR = './model/'\n",
        "if not os.path.exists(MODEL_DIR):\n",
        "   os.mkdir(MODEL_DIR)\n",
        "\n"
      ],
      "execution_count": 0,
      "outputs": []
    },
    {
      "cell_type": "markdown",
      "metadata": {
        "id": "L8Xcud9S87KJ",
        "colab_type": "text"
      },
      "source": [
        "### 모델 저장 조건 설정\n"
      ]
    },
    {
      "cell_type": "code",
      "metadata": {
        "id": "2opovjYN87rr",
        "colab_type": "code",
        "colab": {}
      },
      "source": [
        "modelpath=\"./model/{epoch:02d}-{val_loss:.4f}.hdf5\"\n",
        "checkpointer = ModelCheckpoint(filepath=modelpath, monitor='val_loss', verbose=1, save_best_only=True)\n",
        "\n"
      ],
      "execution_count": 0,
      "outputs": []
    },
    {
      "cell_type": "markdown",
      "metadata": {
        "id": "mcQIIyrc88X_",
        "colab_type": "text"
      },
      "source": [
        "### 모델 실행 및 저장\n"
      ]
    },
    {
      "cell_type": "code",
      "metadata": {
        "id": "QWtPxaI7889q",
        "colab_type": "code",
        "colab": {}
      },
      "source": [
        "history = model.fit(X, Y, validation_split=0.33, epochs=3500, batch_size=500)\n",
        "\n"
      ],
      "execution_count": 0,
      "outputs": []
    },
    {
      "cell_type": "markdown",
      "metadata": {
        "id": "Q8TOEKOj89jx",
        "colab_type": "text"
      },
      "source": [
        "### y_vloss에 테스트셋으로 실험 결과의 오차 값을 저장\n"
      ]
    },
    {
      "cell_type": "code",
      "metadata": {
        "id": "DJJfuBJI8-Fg",
        "colab_type": "code",
        "colab": {}
      },
      "source": [
        "y_vloss=history.history['val_loss']\n",
        "\n"
      ],
      "execution_count": 0,
      "outputs": []
    },
    {
      "cell_type": "markdown",
      "metadata": {
        "id": "rgbxh-yU8-sY",
        "colab_type": "text"
      },
      "source": [
        "### y_acc 에 학습 셋으로 측정한 정확도의 값을 저장\n"
      ]
    },
    {
      "cell_type": "code",
      "metadata": {
        "id": "ls1OlVZi8_NI",
        "colab_type": "code",
        "colab": {
          "base_uri": "https://localhost:8080/"
        },
        "outputId": "7a6566be-0853-403f-87bc-862447b2b1bc"
      },
      "source": [
        "y_acc=history.history['acc']\n",
        "\n"
      ],
      "execution_count": 11,
      "outputs": [
        {
          "output_type": "error",
          "ename": "KeyError",
          "evalue": "ignored",
          "traceback": [
            "\u001b[0;31m---------------------------------------------------------------------------\u001b[0m",
            "\u001b[0;31mKeyError\u001b[0m                                  Traceback (most recent call last)",
            "\u001b[0;32m<ipython-input-11-25e5930e3de0>\u001b[0m in \u001b[0;36m<module>\u001b[0;34m()\u001b[0m\n\u001b[0;32m----> 1\u001b[0;31m \u001b[0my_acc\u001b[0m\u001b[0;34m=\u001b[0m\u001b[0mhistory\u001b[0m\u001b[0;34m.\u001b[0m\u001b[0mhistory\u001b[0m\u001b[0;34m[\u001b[0m\u001b[0;34m'acc'\u001b[0m\u001b[0;34m]\u001b[0m\u001b[0;34m\u001b[0m\u001b[0;34m\u001b[0m\u001b[0m\n\u001b[0m\u001b[1;32m      2\u001b[0m \u001b[0;34m\u001b[0m\u001b[0m\n",
            "\u001b[0;31mKeyError\u001b[0m: 'acc'"
          ]
        }
      ]
    },
    {
      "cell_type": "markdown",
      "metadata": {
        "id": "WOB8wyTJ8_2E",
        "colab_type": "text"
      },
      "source": [
        "### x값을 지정하고 정확도를 파란색으로, 오차를 빨간색으로 표시\n"
      ]
    },
    {
      "cell_type": "code",
      "metadata": {
        "id": "xm-XLvBd9AX1",
        "colab_type": "code",
        "colab": {}
      },
      "source": [
        "x_len = numpy.arange(len(y_acc))\n",
        "plt.plot(x_len, y_vloss, \"o\", c=\"red\", markersize=3)\n",
        "plt.plot(x_len, y_acc, \"o\", c=\"blue\", markersize=3)\n",
        "\n",
        "plt.show()\n"
      ],
      "execution_count": 0,
      "outputs": []
    },
    {
      "cell_type": "code",
      "metadata": {
        "id": "8nQ_iivir67F",
        "colab_type": "code",
        "colab": {}
      },
      "source": [
        ""
      ],
      "execution_count": 0,
      "outputs": []
    }
  ]
}