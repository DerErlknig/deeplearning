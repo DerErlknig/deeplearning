{
  "nbformat": 4,
  "nbformat_minor": 0,
  "metadata": {
    "kernelspec": {
      "display_name": "Python 3",
      "language": "python",
      "name": "python3"
    },
    "language_info": {
      "codemirror_mode": {
        "name": "ipython",
        "version": 3
      },
      "file_extension": ".py",
      "mimetype": "text/x-python",
      "name": "python",
      "nbconvert_exporter": "python",
      "pygments_lexer": "ipython3",
      "version": "3.7.3"
    },
    "colab": {
      "name": "06-Sonar-Save-Model.ipynb",
      "provenance": [],
      "include_colab_link": true
    }
  },
  "cells": [
    {
      "cell_type": "markdown",
      "metadata": {
        "id": "view-in-github",
        "colab_type": "text"
      },
      "source": [
        "<a href=\"https://colab.research.google.com/github/junhansong/deeplearning/blob/master/deeplearning/run_project/06-Sonar-Save-Model.ipynb\" target=\"_parent\"><img src=\"https://colab.research.google.com/assets/colab-badge.svg\" alt=\"Open In Colab\"/></a>"
      ]
    },
    {
      "cell_type": "markdown",
      "metadata": {
        "id": "GhcC6tGTpTJK",
        "colab_type": "text"
      },
      "source": [
        "### 라이브러리 호출\n"
      ]
    },
    {
      "cell_type": "code",
      "metadata": {
        "id": "LdG-A7YJytnN",
        "colab_type": "code",
        "colab": {
          "base_uri": "https://localhost:8080/",
          "height": 33
        },
        "outputId": "41e18d98-7e44-451b-8e29-a9d38d95a2c5"
      },
      "source": [
        "from keras.models import Sequential, load_model\n",
        "from keras.layers.core import Dense\n",
        "from sklearn.preprocessing import LabelEncoder\n",
        "\n",
        "import pandas as pd\n",
        "import numpy\n",
        "import tensorflow as tf\n",
        "\n"
      ],
      "execution_count": 1,
      "outputs": [
        {
          "output_type": "stream",
          "text": [
            "Using TensorFlow backend.\n"
          ],
          "name": "stderr"
        }
      ]
    },
    {
      "cell_type": "markdown",
      "metadata": {
        "id": "RONVIGErxrvX",
        "colab_type": "text"
      },
      "source": [
        "### seed 값 설정\n"
      ]
    },
    {
      "cell_type": "code",
      "metadata": {
        "id": "L3fUeIbGyUej",
        "colab_type": "code",
        "colab": {}
      },
      "source": [
        "seed = 0\n",
        "numpy.random.seed(seed)\n",
        "tf.random.set_seed(3)\n",
        "\n"
      ],
      "execution_count": 0,
      "outputs": []
    },
    {
      "cell_type": "markdown",
      "metadata": {
        "id": "VTtmmnzsxv_J",
        "colab_type": "text"
      },
      "source": [
        "### 데이터 로딩\n"
      ]
    },
    {
      "cell_type": "code",
      "metadata": {
        "id": "CYEsmc4Py0Bq",
        "colab_type": "code",
        "colab": {
          "base_uri": "https://localhost:8080/",
          "height": 33
        },
        "outputId": "e903fcca-ef95-43c0-8ebf-70404d4cdec0"
      },
      "source": [
        "df = pd.read_csv('https://raw.githubusercontent.com/junhansong/deeplearning/master/deeplearning/dataset/sonar.csv', header=None)\n",
        "'''\n",
        "print(df.info())\n",
        "print(df.head())\n",
        "'''\n"
      ],
      "execution_count": 3,
      "outputs": [
        {
          "output_type": "execute_result",
          "data": {
            "text/plain": [
              "'\\nprint(df.info())\\nprint(df.head())\\n'"
            ]
          },
          "metadata": {
            "tags": []
          },
          "execution_count": 3
        }
      ]
    },
    {
      "cell_type": "markdown",
      "metadata": {
        "id": "9-WWFoduxxHw",
        "colab_type": "text"
      },
      "source": [
        "### 데이터 셋 변환\n"
      ]
    },
    {
      "cell_type": "code",
      "metadata": {
        "id": "kE-T4Lh5y7uX",
        "colab_type": "code",
        "colab": {}
      },
      "source": [
        "dataset = df.values\n",
        "X = dataset[:,0:60]\n",
        "Y_obj = dataset[:,60]\n",
        "\n",
        "e = LabelEncoder()\n",
        "e.fit(Y_obj)\n",
        "Y = e.transform(Y_obj)\n"
      ],
      "execution_count": 0,
      "outputs": []
    },
    {
      "cell_type": "markdown",
      "metadata": {
        "id": "Yq44hSLDxyJx",
        "colab_type": "text"
      },
      "source": [
        "### 학습셋과 테스트셋을 나눔\n"
      ]
    },
    {
      "cell_type": "code",
      "metadata": {
        "id": "js15YTYFxy1G",
        "colab_type": "code",
        "colab": {}
      },
      "source": [
        "from sklearn.model_selection import train_test_split\n",
        "\n",
        "X_train, X_test, Y_train, Y_test = train_test_split(X, Y, test_size=0.3, random_state=seed)\n",
        "\n"
      ],
      "execution_count": 0,
      "outputs": []
    },
    {
      "cell_type": "markdown",
      "metadata": {
        "id": "YCQ2CUhXx0mV",
        "colab_type": "text"
      },
      "source": [
        "### 모델 정의 \n"
      ]
    },
    {
      "cell_type": "code",
      "metadata": {
        "id": "anIMCfwlzEP8",
        "colab_type": "code",
        "colab": {}
      },
      "source": [
        "model = Sequential()\n",
        "model.add(Dense(24,  input_dim=60, activation='relu'))\n",
        "model.add(Dense(10, activation='relu'))\n",
        "model.add(Dense(1, activation='sigmoid'))\n",
        "\n"
      ],
      "execution_count": 0,
      "outputs": []
    },
    {
      "cell_type": "markdown",
      "metadata": {
        "id": "mEiHF6CZx1bx",
        "colab_type": "text"
      },
      "source": [
        "### 모델 컴파일\n"
      ]
    },
    {
      "cell_type": "code",
      "metadata": {
        "id": "ZH-4nVZIzMYS",
        "colab_type": "code",
        "colab": {}
      },
      "source": [
        "model.compile(loss='mean_squared_error',\n",
        "            optimizer='adam',\n",
        "            metrics=['accuracy'])\n",
        "\n"
      ],
      "execution_count": 0,
      "outputs": []
    },
    {
      "cell_type": "markdown",
      "metadata": {
        "id": "3hUbVY5cx2eQ",
        "colab_type": "text"
      },
      "source": [
        "### 모델 실행\n"
      ]
    },
    {
      "cell_type": "code",
      "metadata": {
        "id": "lsURIazRzQ8j",
        "colab_type": "code",
        "colab": {
          "base_uri": "https://localhost:8080/",
          "height": 1000
        },
        "outputId": "9bd5eea0-e64d-4f1e-c423-f0942f146f39"
      },
      "source": [
        "model.fit(X_train, Y_train, epochs=130, batch_size=5)\n"
      ],
      "execution_count": 8,
      "outputs": [
        {
          "output_type": "stream",
          "text": [
            "Epoch 1/130\n",
            "145/145 [==============================] - 0s 2ms/step - loss: 0.2486 - accuracy: 0.5379\n",
            "Epoch 2/130\n",
            "145/145 [==============================] - 0s 279us/step - loss: 0.2341 - accuracy: 0.5862\n",
            "Epoch 3/130\n",
            "145/145 [==============================] - 0s 233us/step - loss: 0.2228 - accuracy: 0.6690\n",
            "Epoch 4/130\n",
            "145/145 [==============================] - 0s 236us/step - loss: 0.2094 - accuracy: 0.7448\n",
            "Epoch 5/130\n",
            "145/145 [==============================] - 0s 251us/step - loss: 0.2001 - accuracy: 0.7172\n",
            "Epoch 6/130\n",
            "145/145 [==============================] - 0s 281us/step - loss: 0.1894 - accuracy: 0.7517\n",
            "Epoch 7/130\n",
            "145/145 [==============================] - 0s 237us/step - loss: 0.1823 - accuracy: 0.7586\n",
            "Epoch 8/130\n",
            "145/145 [==============================] - 0s 223us/step - loss: 0.1714 - accuracy: 0.7586\n",
            "Epoch 9/130\n",
            "145/145 [==============================] - 0s 237us/step - loss: 0.1616 - accuracy: 0.8069\n",
            "Epoch 10/130\n",
            "145/145 [==============================] - 0s 264us/step - loss: 0.1566 - accuracy: 0.8069\n",
            "Epoch 11/130\n",
            "145/145 [==============================] - 0s 243us/step - loss: 0.1510 - accuracy: 0.8276\n",
            "Epoch 12/130\n",
            "145/145 [==============================] - 0s 263us/step - loss: 0.1515 - accuracy: 0.7724\n",
            "Epoch 13/130\n",
            "145/145 [==============================] - 0s 275us/step - loss: 0.1446 - accuracy: 0.8207\n",
            "Epoch 14/130\n",
            "145/145 [==============================] - 0s 281us/step - loss: 0.1358 - accuracy: 0.8414\n",
            "Epoch 15/130\n",
            "145/145 [==============================] - 0s 275us/step - loss: 0.1327 - accuracy: 0.8552\n",
            "Epoch 16/130\n",
            "145/145 [==============================] - 0s 277us/step - loss: 0.1290 - accuracy: 0.8345\n",
            "Epoch 17/130\n",
            "145/145 [==============================] - 0s 223us/step - loss: 0.1268 - accuracy: 0.8483\n",
            "Epoch 18/130\n",
            "145/145 [==============================] - 0s 240us/step - loss: 0.1244 - accuracy: 0.8621\n",
            "Epoch 19/130\n",
            "145/145 [==============================] - 0s 216us/step - loss: 0.1224 - accuracy: 0.8483\n",
            "Epoch 20/130\n",
            "145/145 [==============================] - 0s 239us/step - loss: 0.1180 - accuracy: 0.8690\n",
            "Epoch 21/130\n",
            "145/145 [==============================] - 0s 235us/step - loss: 0.1212 - accuracy: 0.8552\n",
            "Epoch 22/130\n",
            "145/145 [==============================] - 0s 228us/step - loss: 0.1158 - accuracy: 0.8483\n",
            "Epoch 23/130\n",
            "145/145 [==============================] - 0s 241us/step - loss: 0.1137 - accuracy: 0.8621\n",
            "Epoch 24/130\n",
            "145/145 [==============================] - 0s 225us/step - loss: 0.1090 - accuracy: 0.8690\n",
            "Epoch 25/130\n",
            "145/145 [==============================] - 0s 225us/step - loss: 0.1069 - accuracy: 0.8621\n",
            "Epoch 26/130\n",
            "145/145 [==============================] - 0s 219us/step - loss: 0.1063 - accuracy: 0.8552\n",
            "Epoch 27/130\n",
            "145/145 [==============================] - 0s 221us/step - loss: 0.1024 - accuracy: 0.8690\n",
            "Epoch 28/130\n",
            "145/145 [==============================] - 0s 232us/step - loss: 0.1050 - accuracy: 0.8621\n",
            "Epoch 29/130\n",
            "145/145 [==============================] - 0s 231us/step - loss: 0.0993 - accuracy: 0.8966\n",
            "Epoch 30/130\n",
            "145/145 [==============================] - 0s 237us/step - loss: 0.1050 - accuracy: 0.8759\n",
            "Epoch 31/130\n",
            "145/145 [==============================] - 0s 228us/step - loss: 0.0987 - accuracy: 0.8621\n",
            "Epoch 32/130\n",
            "145/145 [==============================] - 0s 222us/step - loss: 0.0978 - accuracy: 0.8828\n",
            "Epoch 33/130\n",
            "145/145 [==============================] - 0s 226us/step - loss: 0.0931 - accuracy: 0.8897\n",
            "Epoch 34/130\n",
            "145/145 [==============================] - 0s 228us/step - loss: 0.0938 - accuracy: 0.8690\n",
            "Epoch 35/130\n",
            "145/145 [==============================] - 0s 225us/step - loss: 0.0919 - accuracy: 0.8759\n",
            "Epoch 36/130\n",
            "145/145 [==============================] - 0s 237us/step - loss: 0.0916 - accuracy: 0.8759\n",
            "Epoch 37/130\n",
            "145/145 [==============================] - 0s 217us/step - loss: 0.0910 - accuracy: 0.8966\n",
            "Epoch 38/130\n",
            "145/145 [==============================] - 0s 283us/step - loss: 0.0832 - accuracy: 0.8966\n",
            "Epoch 39/130\n",
            "145/145 [==============================] - 0s 235us/step - loss: 0.0834 - accuracy: 0.8828\n",
            "Epoch 40/130\n",
            "145/145 [==============================] - 0s 223us/step - loss: 0.0788 - accuracy: 0.9034\n",
            "Epoch 41/130\n",
            "145/145 [==============================] - 0s 220us/step - loss: 0.0770 - accuracy: 0.8966\n",
            "Epoch 42/130\n",
            "145/145 [==============================] - 0s 221us/step - loss: 0.0740 - accuracy: 0.8966\n",
            "Epoch 43/130\n",
            "145/145 [==============================] - 0s 219us/step - loss: 0.0719 - accuracy: 0.9103\n",
            "Epoch 44/130\n",
            "145/145 [==============================] - 0s 218us/step - loss: 0.0715 - accuracy: 0.9103\n",
            "Epoch 45/130\n",
            "145/145 [==============================] - 0s 224us/step - loss: 0.0704 - accuracy: 0.8966\n",
            "Epoch 46/130\n",
            "145/145 [==============================] - 0s 228us/step - loss: 0.0691 - accuracy: 0.9379\n",
            "Epoch 47/130\n",
            "145/145 [==============================] - 0s 231us/step - loss: 0.0737 - accuracy: 0.8966\n",
            "Epoch 48/130\n",
            "145/145 [==============================] - 0s 239us/step - loss: 0.0613 - accuracy: 0.9379\n",
            "Epoch 49/130\n",
            "145/145 [==============================] - 0s 227us/step - loss: 0.0649 - accuracy: 0.9241\n",
            "Epoch 50/130\n",
            "145/145 [==============================] - 0s 231us/step - loss: 0.0656 - accuracy: 0.9310\n",
            "Epoch 51/130\n",
            "145/145 [==============================] - 0s 220us/step - loss: 0.0588 - accuracy: 0.9379\n",
            "Epoch 52/130\n",
            "145/145 [==============================] - 0s 221us/step - loss: 0.0571 - accuracy: 0.9379\n",
            "Epoch 53/130\n",
            "145/145 [==============================] - 0s 221us/step - loss: 0.0553 - accuracy: 0.9586\n",
            "Epoch 54/130\n",
            "145/145 [==============================] - 0s 233us/step - loss: 0.0525 - accuracy: 0.9586\n",
            "Epoch 55/130\n",
            "145/145 [==============================] - 0s 256us/step - loss: 0.0506 - accuracy: 0.9517\n",
            "Epoch 56/130\n",
            "145/145 [==============================] - 0s 246us/step - loss: 0.0495 - accuracy: 0.9517\n",
            "Epoch 57/130\n",
            "145/145 [==============================] - 0s 246us/step - loss: 0.0500 - accuracy: 0.9379\n",
            "Epoch 58/130\n",
            "145/145 [==============================] - 0s 273us/step - loss: 0.0487 - accuracy: 0.9586\n",
            "Epoch 59/130\n",
            "145/145 [==============================] - 0s 222us/step - loss: 0.0474 - accuracy: 0.9517\n",
            "Epoch 60/130\n",
            "145/145 [==============================] - 0s 219us/step - loss: 0.0477 - accuracy: 0.9517\n",
            "Epoch 61/130\n",
            "145/145 [==============================] - 0s 230us/step - loss: 0.0431 - accuracy: 0.9655\n",
            "Epoch 62/130\n",
            "145/145 [==============================] - 0s 220us/step - loss: 0.0438 - accuracy: 0.9448\n",
            "Epoch 63/130\n",
            "145/145 [==============================] - 0s 235us/step - loss: 0.0387 - accuracy: 0.9586\n",
            "Epoch 64/130\n",
            "145/145 [==============================] - 0s 225us/step - loss: 0.0399 - accuracy: 0.9586\n",
            "Epoch 65/130\n",
            "145/145 [==============================] - 0s 232us/step - loss: 0.0424 - accuracy: 0.9724\n",
            "Epoch 66/130\n",
            "145/145 [==============================] - 0s 225us/step - loss: 0.0471 - accuracy: 0.9448\n",
            "Epoch 67/130\n",
            "145/145 [==============================] - 0s 263us/step - loss: 0.0337 - accuracy: 0.9724\n",
            "Epoch 68/130\n",
            "145/145 [==============================] - 0s 228us/step - loss: 0.0352 - accuracy: 0.9586\n",
            "Epoch 69/130\n",
            "145/145 [==============================] - 0s 230us/step - loss: 0.0310 - accuracy: 0.9793\n",
            "Epoch 70/130\n",
            "145/145 [==============================] - 0s 221us/step - loss: 0.0307 - accuracy: 0.9724\n",
            "Epoch 71/130\n",
            "145/145 [==============================] - 0s 223us/step - loss: 0.0312 - accuracy: 0.9862\n",
            "Epoch 72/130\n",
            "145/145 [==============================] - 0s 235us/step - loss: 0.0291 - accuracy: 0.9724\n",
            "Epoch 73/130\n",
            "145/145 [==============================] - 0s 226us/step - loss: 0.0289 - accuracy: 0.9862\n",
            "Epoch 74/130\n",
            "145/145 [==============================] - 0s 243us/step - loss: 0.0331 - accuracy: 0.9724\n",
            "Epoch 75/130\n",
            "145/145 [==============================] - 0s 232us/step - loss: 0.0311 - accuracy: 0.9655\n",
            "Epoch 76/130\n",
            "145/145 [==============================] - 0s 227us/step - loss: 0.0265 - accuracy: 0.9793\n",
            "Epoch 77/130\n",
            "145/145 [==============================] - 0s 224us/step - loss: 0.0256 - accuracy: 0.9862\n",
            "Epoch 78/130\n",
            "145/145 [==============================] - 0s 233us/step - loss: 0.0263 - accuracy: 0.9793\n",
            "Epoch 79/130\n",
            "145/145 [==============================] - 0s 228us/step - loss: 0.0230 - accuracy: 0.9862\n",
            "Epoch 80/130\n",
            "145/145 [==============================] - 0s 242us/step - loss: 0.0240 - accuracy: 0.9862\n",
            "Epoch 81/130\n",
            "145/145 [==============================] - 0s 219us/step - loss: 0.0237 - accuracy: 0.9862\n",
            "Epoch 82/130\n",
            "145/145 [==============================] - 0s 223us/step - loss: 0.0213 - accuracy: 0.9931\n",
            "Epoch 83/130\n",
            "145/145 [==============================] - 0s 218us/step - loss: 0.0195 - accuracy: 1.0000\n",
            "Epoch 84/130\n",
            "145/145 [==============================] - 0s 222us/step - loss: 0.0196 - accuracy: 0.9931\n",
            "Epoch 85/130\n",
            "145/145 [==============================] - 0s 225us/step - loss: 0.0217 - accuracy: 0.9931\n",
            "Epoch 86/130\n",
            "145/145 [==============================] - 0s 227us/step - loss: 0.0180 - accuracy: 0.9931\n",
            "Epoch 87/130\n",
            "145/145 [==============================] - 0s 245us/step - loss: 0.0183 - accuracy: 1.0000\n",
            "Epoch 88/130\n",
            "145/145 [==============================] - 0s 232us/step - loss: 0.0181 - accuracy: 0.9862\n",
            "Epoch 89/130\n",
            "145/145 [==============================] - 0s 260us/step - loss: 0.0171 - accuracy: 0.9862\n",
            "Epoch 90/130\n",
            "145/145 [==============================] - 0s 233us/step - loss: 0.0158 - accuracy: 0.9931\n",
            "Epoch 91/130\n",
            "145/145 [==============================] - 0s 237us/step - loss: 0.0234 - accuracy: 0.9793\n",
            "Epoch 92/130\n",
            "145/145 [==============================] - 0s 233us/step - loss: 0.0188 - accuracy: 0.9862\n",
            "Epoch 93/130\n",
            "145/145 [==============================] - 0s 229us/step - loss: 0.0155 - accuracy: 0.9862\n",
            "Epoch 94/130\n",
            "145/145 [==============================] - 0s 229us/step - loss: 0.0148 - accuracy: 0.9931\n",
            "Epoch 95/130\n",
            "145/145 [==============================] - 0s 226us/step - loss: 0.0161 - accuracy: 0.9862\n",
            "Epoch 96/130\n",
            "145/145 [==============================] - 0s 255us/step - loss: 0.0181 - accuracy: 0.9862\n",
            "Epoch 97/130\n",
            "145/145 [==============================] - 0s 219us/step - loss: 0.0124 - accuracy: 0.9931\n",
            "Epoch 98/130\n",
            "145/145 [==============================] - 0s 258us/step - loss: 0.0118 - accuracy: 1.0000\n",
            "Epoch 99/130\n",
            "145/145 [==============================] - 0s 247us/step - loss: 0.0128 - accuracy: 0.9931\n",
            "Epoch 100/130\n",
            "145/145 [==============================] - 0s 227us/step - loss: 0.0153 - accuracy: 0.9931\n",
            "Epoch 101/130\n",
            "145/145 [==============================] - 0s 229us/step - loss: 0.0124 - accuracy: 0.9931\n",
            "Epoch 102/130\n",
            "145/145 [==============================] - 0s 226us/step - loss: 0.0116 - accuracy: 0.9931\n",
            "Epoch 103/130\n",
            "145/145 [==============================] - 0s 233us/step - loss: 0.0101 - accuracy: 1.0000\n",
            "Epoch 104/130\n",
            "145/145 [==============================] - 0s 225us/step - loss: 0.0107 - accuracy: 1.0000\n",
            "Epoch 105/130\n",
            "145/145 [==============================] - 0s 233us/step - loss: 0.0106 - accuracy: 0.9931\n",
            "Epoch 106/130\n",
            "145/145 [==============================] - 0s 239us/step - loss: 0.0134 - accuracy: 1.0000\n",
            "Epoch 107/130\n",
            "145/145 [==============================] - 0s 223us/step - loss: 0.0097 - accuracy: 1.0000\n",
            "Epoch 108/130\n",
            "145/145 [==============================] - 0s 293us/step - loss: 0.0101 - accuracy: 1.0000\n",
            "Epoch 109/130\n",
            "145/145 [==============================] - 0s 281us/step - loss: 0.0115 - accuracy: 0.9931\n",
            "Epoch 110/130\n",
            "145/145 [==============================] - 0s 263us/step - loss: 0.0124 - accuracy: 0.9931\n",
            "Epoch 111/130\n",
            "145/145 [==============================] - 0s 284us/step - loss: 0.0096 - accuracy: 0.9931\n",
            "Epoch 112/130\n",
            "145/145 [==============================] - 0s 262us/step - loss: 0.0073 - accuracy: 1.0000\n",
            "Epoch 113/130\n",
            "145/145 [==============================] - 0s 259us/step - loss: 0.0077 - accuracy: 1.0000\n",
            "Epoch 114/130\n",
            "145/145 [==============================] - 0s 237us/step - loss: 0.0087 - accuracy: 1.0000\n",
            "Epoch 115/130\n",
            "145/145 [==============================] - 0s 252us/step - loss: 0.0062 - accuracy: 1.0000\n",
            "Epoch 116/130\n",
            "145/145 [==============================] - 0s 223us/step - loss: 0.0070 - accuracy: 1.0000\n",
            "Epoch 117/130\n",
            "145/145 [==============================] - 0s 224us/step - loss: 0.0064 - accuracy: 1.0000\n",
            "Epoch 118/130\n",
            "145/145 [==============================] - 0s 233us/step - loss: 0.0056 - accuracy: 1.0000\n",
            "Epoch 119/130\n",
            "145/145 [==============================] - 0s 246us/step - loss: 0.0080 - accuracy: 1.0000\n",
            "Epoch 120/130\n",
            "145/145 [==============================] - 0s 226us/step - loss: 0.0059 - accuracy: 1.0000\n",
            "Epoch 121/130\n",
            "145/145 [==============================] - 0s 226us/step - loss: 0.0073 - accuracy: 1.0000\n",
            "Epoch 122/130\n",
            "145/145 [==============================] - 0s 251us/step - loss: 0.0056 - accuracy: 1.0000\n",
            "Epoch 123/130\n",
            "145/145 [==============================] - 0s 222us/step - loss: 0.0051 - accuracy: 1.0000\n",
            "Epoch 124/130\n",
            "145/145 [==============================] - 0s 297us/step - loss: 0.0060 - accuracy: 1.0000\n",
            "Epoch 125/130\n",
            "145/145 [==============================] - 0s 219us/step - loss: 0.0047 - accuracy: 1.0000\n",
            "Epoch 126/130\n",
            "145/145 [==============================] - 0s 232us/step - loss: 0.0050 - accuracy: 1.0000\n",
            "Epoch 127/130\n",
            "145/145 [==============================] - 0s 226us/step - loss: 0.0068 - accuracy: 1.0000\n",
            "Epoch 128/130\n",
            "145/145 [==============================] - 0s 231us/step - loss: 0.0065 - accuracy: 0.9931\n",
            "Epoch 129/130\n",
            "145/145 [==============================] - 0s 226us/step - loss: 0.0050 - accuracy: 1.0000\n",
            "Epoch 130/130\n",
            "145/145 [==============================] - 0s 236us/step - loss: 0.0046 - accuracy: 1.0000\n"
          ],
          "name": "stdout"
        },
        {
          "output_type": "execute_result",
          "data": {
            "text/plain": [
              "<keras.callbacks.callbacks.History at 0x7efbf5d5f550>"
            ]
          },
          "metadata": {
            "tags": []
          },
          "execution_count": 8
        }
      ]
    },
    {
      "cell_type": "markdown",
      "metadata": {
        "id": "hxnJYIFPx3sh",
        "colab_type": "text"
      },
      "source": [
        "### 모델을 컴퓨터에 저장\n"
      ]
    },
    {
      "cell_type": "code",
      "metadata": {
        "id": "TA7rr6kfybdD",
        "colab_type": "code",
        "colab": {}
      },
      "source": [
        "model.save('my_model.h5')  \n",
        "\n"
      ],
      "execution_count": 0,
      "outputs": []
    },
    {
      "cell_type": "markdown",
      "metadata": {
        "id": "cm8wKMnGx7mJ",
        "colab_type": "text"
      },
      "source": [
        "### 테스트를 위해 메모리 내의 모델을 삭제\n"
      ]
    },
    {
      "cell_type": "code",
      "metadata": {
        "id": "F54N-GcSyexs",
        "colab_type": "code",
        "colab": {}
      },
      "source": [
        "del model       \n"
      ],
      "execution_count": 0,
      "outputs": []
    },
    {
      "cell_type": "markdown",
      "metadata": {
        "id": "vt-Jpw41x88q",
        "colab_type": "text"
      },
      "source": [
        "### 모델을 새로 불러옴\n"
      ]
    },
    {
      "cell_type": "code",
      "metadata": {
        "id": "CmqzGS2Tyhrm",
        "colab_type": "code",
        "colab": {}
      },
      "source": [
        "model = load_model('my_model.h5') \n",
        "\n"
      ],
      "execution_count": 0,
      "outputs": []
    },
    {
      "cell_type": "markdown",
      "metadata": {
        "id": "B2_Ms1uex-e2",
        "colab_type": "text"
      },
      "source": [
        "### 불러온 모델로 테스트 실행\n"
      ]
    },
    {
      "cell_type": "code",
      "metadata": {
        "id": "LtblGb_oyIt6",
        "colab_type": "code",
        "colab": {
          "base_uri": "https://localhost:8080/",
          "height": 66
        },
        "outputId": "dcd45d61-8d0a-4ec1-f4ec-c456c3637e02"
      },
      "source": [
        "print(\"\\n Test Accuracy: %.4f\" % (model.evaluate(X_test, Y_test)[1]))  \n",
        "\n"
      ],
      "execution_count": 12,
      "outputs": [
        {
          "output_type": "stream",
          "text": [
            "63/63 [==============================] - 0s 327us/step\n",
            "\n",
            " Test Accuracy: 0.7778\n"
          ],
          "name": "stdout"
        }
      ]
    },
    {
      "cell_type": "code",
      "metadata": {
        "id": "aAvmJ0YcpTJS",
        "colab_type": "code",
        "colab": {}
      },
      "source": [
        ""
      ],
      "execution_count": 0,
      "outputs": []
    }
  ]
}