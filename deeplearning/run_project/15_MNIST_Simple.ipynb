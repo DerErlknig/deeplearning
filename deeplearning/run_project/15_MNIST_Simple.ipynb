{
  "nbformat": 4,
  "nbformat_minor": 0,
  "metadata": {
    "kernelspec": {
      "display_name": "Python 3",
      "language": "python",
      "name": "python3"
    },
    "language_info": {
      "codemirror_mode": {
        "name": "ipython",
        "version": 3
      },
      "file_extension": ".py",
      "mimetype": "text/x-python",
      "name": "python",
      "nbconvert_exporter": "python",
      "pygments_lexer": "ipython3",
      "version": "3.6.9"
    },
    "colab": {
      "name": "15_MNIST_Simple.ipynb",
      "provenance": [],
      "include_colab_link": true
    }
  },
  "cells": [
    {
      "cell_type": "markdown",
      "metadata": {
        "id": "view-in-github",
        "colab_type": "text"
      },
      "source": [
        "<a href=\"https://colab.research.google.com/github/junhansong/deeplearning/blob/master/deeplearning/run_project/15_MNIST_Simple.ipynb\" target=\"_parent\"><img src=\"https://colab.research.google.com/assets/colab-badge.svg\" alt=\"Open In Colab\"/></a>"
      ]
    },
    {
      "cell_type": "markdown",
      "metadata": {
        "id": "LYok2_vrttBp",
        "colab_type": "text"
      },
      "source": [
        "###-*- coding: utf-8 -*-\n",
        "### 라이브러리 호출\n"
      ]
    },
    {
      "cell_type": "code",
      "metadata": {
        "id": "EWwYE1BidjQH",
        "colab_type": "code",
        "colab": {
          "base_uri": "https://localhost:8080/",
          "height": 34
        },
        "outputId": "0c8847e8-0550-4c2e-f386-3cd1ad7f6d5b"
      },
      "source": [
        "from keras.datasets import mnist\n",
        "from keras.utils import np_utils\n",
        "from keras.models import Sequential\n",
        "from keras.layers import Dense\n",
        "from keras.callbacks import ModelCheckpoint,EarlyStopping\n",
        "\n",
        "import matplotlib.pyplot as plt\n",
        "import numpy\n",
        "import os\n",
        "import tensorflow as tf\n",
        "\n"
      ],
      "execution_count": 1,
      "outputs": [
        {
          "output_type": "stream",
          "text": [
            "Using TensorFlow backend.\n"
          ],
          "name": "stderr"
        }
      ]
    },
    {
      "cell_type": "markdown",
      "metadata": {
        "id": "DRUPcWPSdlDF",
        "colab_type": "text"
      },
      "source": [
        "### seed 값 설정\n"
      ]
    },
    {
      "cell_type": "code",
      "metadata": {
        "id": "aaPb09uldl2N",
        "colab_type": "code",
        "colab": {}
      },
      "source": [
        "seed = 0\n",
        "numpy.random.seed(seed)\n",
        "tf.random.set_seed(3)\n",
        "\n"
      ],
      "execution_count": 0,
      "outputs": []
    },
    {
      "cell_type": "markdown",
      "metadata": {
        "id": "Fmel052sdmno",
        "colab_type": "text"
      },
      "source": [
        "### MNIST 데이터 불러오기\n"
      ]
    },
    {
      "cell_type": "code",
      "metadata": {
        "id": "yafn6TaadnNt",
        "colab_type": "code",
        "colab": {
          "base_uri": "https://localhost:8080/",
          "height": 51
        },
        "outputId": "a635b408-9898-4a23-d878-85e9f71c45f5"
      },
      "source": [
        "(X_train, Y_train), (X_test, Y_test) = mnist.load_data()\n",
        "\n",
        "X_train = X_train.reshape(X_train.shape[0], 784).astype('float32') / 255\n",
        "X_test = X_test.reshape(X_test.shape[0], 784).astype('float32') / 255\n",
        "\n",
        "Y_train = np_utils.to_categorical(Y_train, 10)\n",
        "Y_test = np_utils.to_categorical(Y_test, 10)\n",
        "\n"
      ],
      "execution_count": 3,
      "outputs": [
        {
          "output_type": "stream",
          "text": [
            "Downloading data from https://s3.amazonaws.com/img-datasets/mnist.npz\n",
            "11493376/11490434 [==============================] - 2s 0us/step\n"
          ],
          "name": "stdout"
        }
      ]
    },
    {
      "cell_type": "markdown",
      "metadata": {
        "id": "wITTVREQdoNy",
        "colab_type": "text"
      },
      "source": [
        "### 모델 프레임 설정\n"
      ]
    },
    {
      "cell_type": "code",
      "metadata": {
        "id": "07g6gX-MdpAo",
        "colab_type": "code",
        "colab": {}
      },
      "source": [
        "model = Sequential()\n",
        "model.add(Dense(512, input_dim=784, activation='relu'))\n",
        "model.add(Dense(10, activation='softmax'))\n",
        "\n"
      ],
      "execution_count": 0,
      "outputs": []
    },
    {
      "cell_type": "markdown",
      "metadata": {
        "id": "gGRa50JKdpwG",
        "colab_type": "text"
      },
      "source": [
        "### 모델 실행 환경 설정\n"
      ]
    },
    {
      "cell_type": "code",
      "metadata": {
        "id": "nUXf-QfZdqdH",
        "colab_type": "code",
        "colab": {}
      },
      "source": [
        "model.compile(loss='categorical_crossentropy',\n",
        "              optimizer='adam',\n",
        "              metrics=['accuracy'])\n",
        "\n"
      ],
      "execution_count": 0,
      "outputs": []
    },
    {
      "cell_type": "markdown",
      "metadata": {
        "id": "vJgD3x4SdrPc",
        "colab_type": "text"
      },
      "source": [
        "### 모델 최적화 설정\n"
      ]
    },
    {
      "cell_type": "code",
      "metadata": {
        "id": "QsiIFUV3dr0T",
        "colab_type": "code",
        "colab": {}
      },
      "source": [
        "MODEL_DIR = './model/'\n",
        "if not os.path.exists(MODEL_DIR):\n",
        "    os.mkdir(MODEL_DIR)\n",
        "\n",
        "modelpath=\"./model/{epoch:02d}-{val_loss:.4f}.hdf5\"\n",
        "checkpointer = ModelCheckpoint(filepath=modelpath, monitor='val_loss', verbose=1, save_best_only=True)\n",
        "early_stopping_callback = EarlyStopping(monitor='val_loss', patience=10)\n",
        "\n"
      ],
      "execution_count": 0,
      "outputs": []
    },
    {
      "cell_type": "markdown",
      "metadata": {
        "id": "PIvEriF6dsuA",
        "colab_type": "text"
      },
      "source": [
        "### 모델의 실행\n"
      ]
    },
    {
      "cell_type": "code",
      "metadata": {
        "id": "1mHJ1GL9dtSn",
        "colab_type": "code",
        "colab": {
          "base_uri": "https://localhost:8080/",
          "height": 663
        },
        "outputId": "ecba57e9-d2e4-4314-e44d-9ad5a89f4072"
      },
      "source": [
        "history = model.fit(X_train, Y_train, validation_data=(X_test, Y_test), epochs=30, batch_size=200, verbose=0, callbacks=[early_stopping_callback,checkpointer])\n",
        "\n"
      ],
      "execution_count": 7,
      "outputs": [
        {
          "output_type": "stream",
          "text": [
            "\n",
            "Epoch 00001: val_loss improved from inf to 0.15426, saving model to ./model/01-0.1543.hdf5\n",
            "\n",
            "Epoch 00002: val_loss improved from 0.15426 to 0.10422, saving model to ./model/02-0.1042.hdf5\n",
            "\n",
            "Epoch 00003: val_loss improved from 0.10422 to 0.08489, saving model to ./model/03-0.0849.hdf5\n",
            "\n",
            "Epoch 00004: val_loss improved from 0.08489 to 0.07692, saving model to ./model/04-0.0769.hdf5\n",
            "\n",
            "Epoch 00005: val_loss improved from 0.07692 to 0.06917, saving model to ./model/05-0.0692.hdf5\n",
            "\n",
            "Epoch 00006: val_loss improved from 0.06917 to 0.06106, saving model to ./model/06-0.0611.hdf5\n",
            "\n",
            "Epoch 00007: val_loss did not improve from 0.06106\n",
            "\n",
            "Epoch 00008: val_loss improved from 0.06106 to 0.05864, saving model to ./model/08-0.0586.hdf5\n",
            "\n",
            "Epoch 00009: val_loss improved from 0.05864 to 0.05645, saving model to ./model/09-0.0565.hdf5\n",
            "\n",
            "Epoch 00010: val_loss did not improve from 0.05645\n",
            "\n",
            "Epoch 00011: val_loss did not improve from 0.05645\n",
            "\n",
            "Epoch 00012: val_loss did not improve from 0.05645\n",
            "\n",
            "Epoch 00013: val_loss did not improve from 0.05645\n",
            "\n",
            "Epoch 00014: val_loss did not improve from 0.05645\n",
            "\n",
            "Epoch 00015: val_loss did not improve from 0.05645\n",
            "\n",
            "Epoch 00016: val_loss did not improve from 0.05645\n",
            "\n",
            "Epoch 00017: val_loss did not improve from 0.05645\n",
            "\n",
            "Epoch 00018: val_loss did not improve from 0.05645\n",
            "\n",
            "Epoch 00019: val_loss did not improve from 0.05645\n"
          ],
          "name": "stdout"
        }
      ]
    },
    {
      "cell_type": "markdown",
      "metadata": {
        "id": "hNIDRbxndu-C",
        "colab_type": "text"
      },
      "source": [
        "### 테스트 정확도 출력\n"
      ]
    },
    {
      "cell_type": "code",
      "metadata": {
        "id": "0D-XBuafdvhQ",
        "colab_type": "code",
        "colab": {
          "base_uri": "https://localhost:8080/",
          "height": 68
        },
        "outputId": "0a680ffc-0aab-47b5-9036-d82b4c44da99"
      },
      "source": [
        "print(\"\\n Test Accuracy: %.4f\" % (model.evaluate(X_test, Y_test)[1]))\n",
        "\n"
      ],
      "execution_count": 8,
      "outputs": [
        {
          "output_type": "stream",
          "text": [
            "10000/10000 [==============================] - 0s 46us/step\n",
            "\n",
            " Test Accuracy: 0.9826\n"
          ],
          "name": "stdout"
        }
      ]
    },
    {
      "cell_type": "markdown",
      "metadata": {
        "id": "uj1m8sJZdwHE",
        "colab_type": "text"
      },
      "source": [
        "### 테스트 셋의 오차\n"
      ]
    },
    {
      "cell_type": "code",
      "metadata": {
        "id": "wTDWtY8gdwrt",
        "colab_type": "code",
        "colab": {}
      },
      "source": [
        "y_vloss = history.history['val_loss']\n",
        "\n"
      ],
      "execution_count": 0,
      "outputs": []
    },
    {
      "cell_type": "markdown",
      "metadata": {
        "id": "RwM5cbvmdxzT",
        "colab_type": "text"
      },
      "source": [
        "### 학습셋의 오차\n"
      ]
    },
    {
      "cell_type": "code",
      "metadata": {
        "id": "UBHfZ02RdyT2",
        "colab_type": "code",
        "colab": {}
      },
      "source": [
        "y_loss = history.history['loss']\n",
        "\n"
      ],
      "execution_count": 0,
      "outputs": []
    },
    {
      "cell_type": "markdown",
      "metadata": {
        "id": "aW3V4s2Ody3E",
        "colab_type": "text"
      },
      "source": [
        "### 그래프로 표현\n"
      ]
    },
    {
      "cell_type": "code",
      "metadata": {
        "id": "7iwEfB-ydzZW",
        "colab_type": "code",
        "colab": {
          "base_uri": "https://localhost:8080/",
          "height": 282
        },
        "outputId": "4794fc54-49f4-4129-d974-bf3ce6d72477"
      },
      "source": [
        "x_len = numpy.arange(len(y_loss))\n",
        "plt.plot(x_len, y_vloss, marker='.', c=\"red\", label='Testset_loss')\n",
        "plt.plot(x_len, y_loss, marker='.', c=\"blue\", label='Trainset_loss')\n",
        "\n"
      ],
      "execution_count": 11,
      "outputs": [
        {
          "output_type": "execute_result",
          "data": {
            "text/plain": [
              "[<matplotlib.lines.Line2D at 0x7f80e78de160>]"
            ]
          },
          "metadata": {
            "tags": []
          },
          "execution_count": 11
        },
        {
          "output_type": "display_data",
          "data": {
            "image/png": "[encoded data removed]",
            "text/plain": [
              "<Figure size 432x288 with 1 Axes>"
            ]
          },
          "metadata": {
            "tags": [],
            "needs_background": "light"
          }
        }
      ]
    },
    {
      "cell_type": "markdown",
      "metadata": {
        "id": "qn7OpUjtd0DK",
        "colab_type": "text"
      },
      "source": [
        "### 그래프에 그리드를 주고 레이블을 표시\n"
      ]
    },
    {
      "cell_type": "code",
      "metadata": {
        "id": "oGiW-RSHd0qr",
        "colab_type": "code",
        "colab": {
          "base_uri": "https://localhost:8080/",
          "height": 303
        },
        "outputId": "2fae5d6f-d8e3-4e1c-e8a7-8117021dc005"
      },
      "source": [
        "plt.legend(loc='upper right')\n",
        "# plt.axis([0, 20, 0, 0.35])"
      ],
      "execution_count": 12,
      "outputs": [
        {
          "output_type": "stream",
          "text": [
            "No handles with labels found to put in legend.\n"
          ],
          "name": "stderr"
        },
        {
          "output_type": "execute_result",
          "data": {
            "text/plain": [
              "<matplotlib.legend.Legend at 0x7f80e6625630>"
            ]
          },
          "metadata": {
            "tags": []
          },
          "execution_count": 12
        },
        {
          "output_type": "display_data",
          "data": {
            "image/png": "[encoded data removed]",
            "text/plain": [
              "<Figure size 432x288 with 1 Axes>"
            ]
          },
          "metadata": {
            "tags": [],
            "needs_background": "light"
          }
        }
      ]
    },
    {
      "cell_type": "code",
      "metadata": {
        "id": "2pluVysYeKBd",
        "colab_type": "code",
        "colab": {
          "base_uri": "https://localhost:8080/",
          "height": 283
        },
        "outputId": "cceb830d-4232-4696-e208-65c029ad6d7f"
      },
      "source": [
        "plt.grid()\n",
        "plt.xlabel('epoch')\n",
        "plt.ylabel('loss')\n",
        "plt.show()\n"
      ],
      "execution_count": 13,
      "outputs": [
        {
          "output_type": "display_data",
          "data": {
            "image/png": "[encoded data removed]",
            "text/plain": [
              "<Figure size 432x288 with 1 Axes>"
            ]
          },
          "metadata": {
            "tags": [],
            "needs_background": "light"
          }
        }
      ]
    },
    {
      "cell_type": "code",
      "metadata": {
        "id": "aIL0HZXVttBw",
        "colab_type": "code",
        "colab": {}
      },
      "source": [
        ""
      ],
      "execution_count": 0,
      "outputs": []
    }
  ]
}