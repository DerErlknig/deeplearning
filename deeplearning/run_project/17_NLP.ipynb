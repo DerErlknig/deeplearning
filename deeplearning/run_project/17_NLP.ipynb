{
  "nbformat": 4,
  "nbformat_minor": 0,
  "metadata": {
    "kernelspec": {
      "display_name": "Python 3",
      "language": "python",
      "name": "python3"
    },
    "language_info": {
      "codemirror_mode": {
        "name": "ipython",
        "version": 3
      },
      "file_extension": ".py",
      "mimetype": "text/x-python",
      "name": "python",
      "nbconvert_exporter": "python",
      "pygments_lexer": "ipython3",
      "version": "3.7.3"
    },
    "colab": {
      "name": "17_NLP.ipynb",
      "provenance": [],
      "include_colab_link": true
    },
    "accelerator": "GPU"
  },
  "cells": [
    {
      "cell_type": "markdown",
      "metadata": {
        "id": "view-in-github",
        "colab_type": "text"
      },
      "source": [
        "<a href=\"https://colab.research.google.com/github/junhansong/deeplearning/blob/master/deeplearning/run_project/17_NLP.ipynb\" target=\"_parent\"><img src=\"https://colab.research.google.com/assets/colab-badge.svg\" alt=\"Open In Colab\"/></a>"
      ]
    },
    {
      "cell_type": "markdown",
      "metadata": {
        "id": "htGP7y9muLNK",
        "colab_type": "text"
      },
      "source": [
        "### 라이브러리 호출\n"
      ]
    },
    {
      "cell_type": "code",
      "metadata": {
        "id": "xQpUdLINpxZw",
        "colab_type": "code",
        "colab": {}
      },
      "source": [
        "# -*- coding: utf-8 -*-\n",
        "# 코드 내부에 한글을 사용가능 하게 해주는 부분입니다.\n",
        "\n",
        "import numpy\n",
        "import tensorflow as tf\n",
        "from numpy import array\n",
        "from tensorflow.keras.preprocessing.text import Tokenizer\n",
        "from tensorflow.keras.preprocessing.sequence import pad_sequences\n",
        "from tensorflow.keras.models import Sequential\n",
        "from tensorflow.keras.layers import Dense,Flatten,Embedding\n",
        "\n",
        "\n"
      ],
      "execution_count": 0,
      "outputs": []
    },
    {
      "cell_type": "markdown",
      "metadata": {
        "id": "MgEZgQjMp2Wh",
        "colab_type": "text"
      },
      "source": [
        "###----주어진 문장을 '단어'로 토큰화 하기\n",
        "\n",
        "###케라스의 텍스트 전처리와 관련한 함수중 text_to_word_sequence 함수를 불러 옵니다.\n"
      ]
    },
    {
      "cell_type": "code",
      "metadata": {
        "id": "9F4N8rhSp3NY",
        "colab_type": "code",
        "colab": {}
      },
      "source": [
        "from tensorflow.keras.preprocessing.text import text_to_word_sequence\n",
        " \n"
      ],
      "execution_count": 0,
      "outputs": []
    },
    {
      "cell_type": "markdown",
      "metadata": {
        "id": "unRpiuk3p32x",
        "colab_type": "text"
      },
      "source": [
        "### 전처리할 텍스트를 정합니다.\n"
      ]
    },
    {
      "cell_type": "code",
      "metadata": {
        "id": "fUHb6rjJp4b5",
        "colab_type": "code",
        "colab": {}
      },
      "source": [
        "text = '해보지 않으면 해낼 수 없다'\n",
        " \n"
      ],
      "execution_count": 0,
      "outputs": []
    },
    {
      "cell_type": "markdown",
      "metadata": {
        "id": "hrXO74Irp5EE",
        "colab_type": "text"
      },
      "source": [
        "### 해당 텍스트를 토큰화 합니다.\n"
      ]
    },
    {
      "cell_type": "code",
      "metadata": {
        "id": "qOdJeqnCp5of",
        "colab_type": "code",
        "colab": {
          "base_uri": "https://localhost:8080/",
          "height": 119
        },
        "outputId": "6149bea8-e75d-4b06-cb41-84a13b1b68b7"
      },
      "source": [
        "result = text_to_word_sequence(text)\n",
        "print(\"\\n원문:\\n\", text)\n",
        "print(\"\\n토큰화:\\n\", result)\n",
        " \n"
      ],
      "execution_count": 4,
      "outputs": [
        {
          "output_type": "stream",
          "text": [
            "\n",
            "원문:\n",
            " 해보지 않으면 해낼 수 없다\n",
            "\n",
            "토큰화:\n",
            " ['해보지', '않으면', '해낼', '수', '없다']\n"
          ],
          "name": "stdout"
        }
      ]
    },
    {
      "cell_type": "markdown",
      "metadata": {
        "id": "aMqHMzzdp6Uk",
        "colab_type": "text"
      },
      "source": [
        "### 단어 빈도수 세기\n",
        "\n",
        "### 전처리 하려는 세개의 문장을 정합니다.\n",
        " \n"
      ]
    },
    {
      "cell_type": "code",
      "metadata": {
        "id": "TTQz0k6Pp78v",
        "colab_type": "code",
        "colab": {}
      },
      "source": [
        "docs = ['먼저 텍스트의 각 단어를 나누어 토큰화 합니다.',\n",
        "       '텍스트의 단어로 토큰화 해야 딥러닝에서 인식됩니다.',\n",
        "       '토큰화 한 결과는 딥러닝에서 사용 할 수 있습니다.',\n",
        "       ]\n",
        " \n"
      ],
      "execution_count": 0,
      "outputs": []
    },
    {
      "cell_type": "markdown",
      "metadata": {
        "id": "ebjFD7Hep86e",
        "colab_type": "text"
      },
      "source": [
        "### 토큰화 함수를 이용해 전처리 하는 과정입니다.\n"
      ]
    },
    {
      "cell_type": "code",
      "metadata": {
        "id": "zibxXfxRp9pb",
        "colab_type": "code",
        "colab": {}
      },
      "source": [
        "token = Tokenizer()             # 토큰화 함수 지정\n",
        "token.fit_on_texts(docs)       # 토큰화 함수에 문장 적용\n",
        " \n"
      ],
      "execution_count": 0,
      "outputs": []
    },
    {
      "cell_type": "markdown",
      "metadata": {
        "id": "SOsVIDPbqA0M",
        "colab_type": "text"
      },
      "source": [
        "### 단어의 빈도수를 계산한 결과를 각 옵션에 맞추어 출력합니다. \n",
        " \n"
      ]
    },
    {
      "cell_type": "code",
      "metadata": {
        "id": "rgBv4NX3qBnO",
        "colab_type": "code",
        "colab": {
          "base_uri": "https://localhost:8080/",
          "height": 88
        },
        "outputId": "0c874a19-548d-4bf5-8b15-ab394bbc5086"
      },
      "source": [
        "print(\"\\n단어 카운트:\\n\", token.word_counts) \n",
        "# Tokenizer()의 word_counts 함수는 순서를 기억하는 OrderedDict클래스를 사용합니다.\n",
        " \n"
      ],
      "execution_count": 7,
      "outputs": [
        {
          "output_type": "stream",
          "text": [
            "\n",
            "단어 카운트:\n",
            " OrderedDict([('먼저', 1), ('텍스트의', 2), ('각', 1), ('단어를', 1), ('나누어', 1), ('토큰화', 3), ('합니다', 1), ('단어로', 1), ('해야', 1), ('딥러닝에서', 2), ('인식됩니다', 1), ('한', 1), ('결과는', 1), ('사용', 1), ('할', 1), ('수', 1), ('있습니다', 1)])\n"
          ],
          "name": "stdout"
        }
      ]
    },
    {
      "cell_type": "markdown",
      "metadata": {
        "id": "RPWyFvT7qERH",
        "colab_type": "text"
      },
      "source": [
        "### 출력되는 순서는 랜덤입니다. \n"
      ]
    },
    {
      "cell_type": "code",
      "metadata": {
        "id": "XuOP_IOmqE8C",
        "colab_type": "code",
        "colab": {
          "base_uri": "https://localhost:8080/",
          "height": 173
        },
        "outputId": "7f648497-0d7b-4098-e411-44d4c1de27a2"
      },
      "source": [
        "print(\"\\n문장 카운트: \", token.document_count)\n",
        "print(\"\\n각 단어가 몇개의 문장에 포함되어 있는가:\\n\", token.word_docs)\n",
        "print(\"\\n각 단어에 매겨진 인덱스 값:\\n\",  token.word_index)\n",
        "\n",
        "\n"
      ],
      "execution_count": 8,
      "outputs": [
        {
          "output_type": "stream",
          "text": [
            "\n",
            "문장 카운트:  3\n",
            "\n",
            "각 단어가 몇개의 문장에 포함되어 있는가:\n",
            " defaultdict(<class 'int'>, {'토큰화': 3, '각': 1, '합니다': 1, '먼저': 1, '나누어': 1, '텍스트의': 2, '단어를': 1, '인식됩니다': 1, '단어로': 1, '딥러닝에서': 2, '해야': 1, '할': 1, '있습니다': 1, '한': 1, '수': 1, '사용': 1, '결과는': 1})\n",
            "\n",
            "각 단어에 매겨진 인덱스 값:\n",
            " {'토큰화': 1, '텍스트의': 2, '딥러닝에서': 3, '먼저': 4, '각': 5, '단어를': 6, '나누어': 7, '합니다': 8, '단어로': 9, '해야': 10, '인식됩니다': 11, '한': 12, '결과는': 13, '사용': 14, '할': 15, '수': 16, '있습니다': 17}\n"
          ],
          "name": "stdout"
        }
      ]
    },
    {
      "cell_type": "markdown",
      "metadata": {
        "id": "ZGdtrMAKqFy-",
        "colab_type": "text"
      },
      "source": [
        "### 텍스트 리뷰 자료를 지정합니다.\n"
      ]
    },
    {
      "cell_type": "code",
      "metadata": {
        "id": "NanGd0-lqGYd",
        "colab_type": "code",
        "colab": {}
      },
      "source": [
        "docs = [\"너무 재밌네요\",\"최고예요\",\"참 잘 만든 영화예요\",\"추천하고 싶은 영화입니다\",\"한번 더 보고싶네요\",\"글쎄요\",\"별로예요\",\"생각보다 지루하네요\",\"연기가 어색해요\",\"재미없어요\"]\n",
        "\n"
      ],
      "execution_count": 0,
      "outputs": []
    },
    {
      "cell_type": "markdown",
      "metadata": {
        "id": "eloy7MIYqG_6",
        "colab_type": "text"
      },
      "source": [
        "### 긍정 리뷰는 1, 부정 리뷰는 0으로 클래스를 지정합니다.\n"
      ]
    },
    {
      "cell_type": "code",
      "metadata": {
        "id": "vbroz3PkqHjU",
        "colab_type": "code",
        "colab": {}
      },
      "source": [
        "classes = array([1,1,1,1,1,0,0,0,0,0])\n",
        "\n"
      ],
      "execution_count": 0,
      "outputs": []
    },
    {
      "cell_type": "markdown",
      "metadata": {
        "id": "qu7O5zGIqINy",
        "colab_type": "text"
      },
      "source": [
        "### 토큰화 \n"
      ]
    },
    {
      "cell_type": "code",
      "metadata": {
        "id": "0TIayfdcqIxZ",
        "colab_type": "code",
        "colab": {
          "base_uri": "https://localhost:8080/",
          "height": 105
        },
        "outputId": "2eaa87da-4507-4218-b946-14ad8f8e90cb"
      },
      "source": [
        "token = Tokenizer()\n",
        "token.fit_on_texts(docs)\n",
        "print(token.word_index)\n",
        "x = token.texts_to_sequences(docs)\n",
        "print(\"\\n리뷰 텍스트, 토큰화 결과:\\n\",  x)\n",
        "\n"
      ],
      "execution_count": 11,
      "outputs": [
        {
          "output_type": "stream",
          "text": [
            "{'너무': 1, '재밌네요': 2, '최고예요': 3, '참': 4, '잘': 5, '만든': 6, '영화예요': 7, '추천하고': 8, '싶은': 9, '영화입니다': 10, '한번': 11, '더': 12, '보고싶네요': 13, '글쎄요': 14, '별로예요': 15, '생각보다': 16, '지루하네요': 17, '연기가': 18, '어색해요': 19, '재미없어요': 20}\n",
            "\n",
            "리뷰 텍스트, 토큰화 결과:\n",
            " [[1, 2], [3], [4, 5, 6, 7], [8, 9, 10], [11, 12, 13], [14], [15], [16, 17], [18, 19], [20]]\n"
          ],
          "name": "stdout"
        }
      ]
    },
    {
      "cell_type": "markdown",
      "metadata": {
        "id": "8wFBza7mqJlB",
        "colab_type": "text"
      },
      "source": [
        "### 패딩, 서로 다른 길이의 데이터를 4로 맞추어 줍니다.\n"
      ]
    },
    {
      "cell_type": "code",
      "metadata": {
        "id": "s87cTuR6qKF4",
        "colab_type": "code",
        "colab": {
          "base_uri": "https://localhost:8080/",
          "height": 221
        },
        "outputId": "70de9dbe-fd31-4b1b-cbdf-31ab00b90fc0"
      },
      "source": [
        "padded_x = pad_sequences(x, 4)  \n",
        "print(\"\\n패딩 결과:\\n\", padded_x)\n",
        " \n"
      ],
      "execution_count": 12,
      "outputs": [
        {
          "output_type": "stream",
          "text": [
            "\n",
            "패딩 결과:\n",
            " [[ 0  0  1  2]\n",
            " [ 0  0  0  3]\n",
            " [ 4  5  6  7]\n",
            " [ 0  8  9 10]\n",
            " [ 0 11 12 13]\n",
            " [ 0  0  0 14]\n",
            " [ 0  0  0 15]\n",
            " [ 0  0 16 17]\n",
            " [ 0  0 18 19]\n",
            " [ 0  0  0 20]]\n"
          ],
          "name": "stdout"
        }
      ]
    },
    {
      "cell_type": "markdown",
      "metadata": {
        "id": "wxpaV8GZqK1x",
        "colab_type": "text"
      },
      "source": [
        "### 딥러닝 모델\n"
      ]
    },
    {
      "cell_type": "code",
      "metadata": {
        "id": "G5KdT8kAqLgH",
        "colab_type": "code",
        "colab": {
          "base_uri": "https://localhost:8080/",
          "height": 51
        },
        "outputId": "9092d238-e7c8-4000-cb83-05f3f113206f"
      },
      "source": [
        "print(\"\\n딥러닝 모델 시작:\")\n",
        "\n"
      ],
      "execution_count": 13,
      "outputs": [
        {
          "output_type": "stream",
          "text": [
            "\n",
            "딥러닝 모델 시작:\n"
          ],
          "name": "stdout"
        }
      ]
    },
    {
      "cell_type": "markdown",
      "metadata": {
        "id": "kEqBHBJTqMG4",
        "colab_type": "text"
      },
      "source": [
        "### 임베딩에 입력될 단어의 수를 지정합니다.\n"
      ]
    },
    {
      "cell_type": "code",
      "metadata": {
        "id": "W2MB_MqXqNQY",
        "colab_type": "code",
        "colab": {}
      },
      "source": [
        "word_size = len(token.word_index) +1\n",
        " \n"
      ],
      "execution_count": 0,
      "outputs": []
    },
    {
      "cell_type": "markdown",
      "metadata": {
        "id": "yDchh6TcqORu",
        "colab_type": "text"
      },
      "source": [
        "### 단어 임베딩을 포함하여 딥러닝 모델을 만들고 결과를 출력합니다.\n"
      ]
    },
    {
      "cell_type": "code",
      "metadata": {
        "id": "M3HDW-p6qOv7",
        "colab_type": "code",
        "colab": {
          "base_uri": "https://localhost:8080/",
          "height": 748
        },
        "outputId": "65f3c6ba-b199-4501-f252-1d1abdb63170"
      },
      "source": [
        "model = Sequential()\n",
        "model.add(Embedding(word_size, 8, input_length=4))\n",
        "model.add(Flatten())\n",
        "model.add(Dense(1, activation='sigmoid'))\n",
        "model.compile(optimizer='adam', loss='binary_crossentropy', metrics=['accuracy'])\n",
        "model.fit(padded_x, classes, epochs=20)\n",
        "print(\"\\n Accuracy: %.4f\" % (model.evaluate(padded_x, classes)[1]))"
      ],
      "execution_count": 15,
      "outputs": [
        {
          "output_type": "stream",
          "text": [
            "Epoch 1/20\n",
            "1/1 [==============================] - 0s 2ms/step - loss: 0.6853 - accuracy: 0.5000\n",
            "Epoch 2/20\n",
            "1/1 [==============================] - 0s 764us/step - loss: 0.6833 - accuracy: 0.5000\n",
            "Epoch 3/20\n",
            "1/1 [==============================] - 0s 735us/step - loss: 0.6812 - accuracy: 0.6000\n",
            "Epoch 4/20\n",
            "1/1 [==============================] - 0s 748us/step - loss: 0.6791 - accuracy: 0.6000\n",
            "Epoch 5/20\n",
            "1/1 [==============================] - 0s 962us/step - loss: 0.6770 - accuracy: 0.7000\n",
            "Epoch 6/20\n",
            "1/1 [==============================] - 0s 1ms/step - loss: 0.6749 - accuracy: 0.7000\n",
            "Epoch 7/20\n",
            "1/1 [==============================] - 0s 2ms/step - loss: 0.6728 - accuracy: 0.8000\n",
            "Epoch 8/20\n",
            "1/1 [==============================] - 0s 872us/step - loss: 0.6707 - accuracy: 0.8000\n",
            "Epoch 9/20\n",
            "1/1 [==============================] - 0s 1ms/step - loss: 0.6686 - accuracy: 0.9000\n",
            "Epoch 10/20\n",
            "1/1 [==============================] - 0s 2ms/step - loss: 0.6665 - accuracy: 0.9000\n",
            "Epoch 11/20\n",
            "1/1 [==============================] - 0s 752us/step - loss: 0.6644 - accuracy: 0.9000\n",
            "Epoch 12/20\n",
            "1/1 [==============================] - 0s 741us/step - loss: 0.6623 - accuracy: 0.9000\n",
            "Epoch 13/20\n",
            "1/1 [==============================] - 0s 762us/step - loss: 0.6602 - accuracy: 0.9000\n",
            "Epoch 14/20\n",
            "1/1 [==============================] - 0s 1ms/step - loss: 0.6581 - accuracy: 0.9000\n",
            "Epoch 15/20\n",
            "1/1 [==============================] - 0s 771us/step - loss: 0.6559 - accuracy: 0.9000\n",
            "Epoch 16/20\n",
            "1/1 [==============================] - 0s 827us/step - loss: 0.6538 - accuracy: 0.9000\n",
            "Epoch 17/20\n",
            "1/1 [==============================] - 0s 893us/step - loss: 0.6517 - accuracy: 0.9000\n",
            "Epoch 18/20\n",
            "1/1 [==============================] - 0s 749us/step - loss: 0.6495 - accuracy: 0.9000\n",
            "Epoch 19/20\n",
            "1/1 [==============================] - 0s 740us/step - loss: 0.6473 - accuracy: 0.9000\n",
            "Epoch 20/20\n",
            "1/1 [==============================] - 0s 751us/step - loss: 0.6451 - accuracy: 0.9000\n",
            "1/1 [==============================] - 0s 832us/step - loss: 0.6429 - accuracy: 0.9000\n",
            "\n",
            " Accuracy: 0.9000\n"
          ],
          "name": "stdout"
        }
      ]
    },
    {
      "cell_type": "code",
      "metadata": {
        "id": "_JH0gqwluLNU",
        "colab_type": "code",
        "colab": {}
      },
      "source": [
        ""
      ],
      "execution_count": 0,
      "outputs": []
    }
  ]
}