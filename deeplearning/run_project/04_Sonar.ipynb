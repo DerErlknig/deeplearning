{
  "nbformat": 4,
  "nbformat_minor": 0,
  "metadata": {
    "kernelspec": {
      "display_name": "Python 3",
      "language": "python",
      "name": "python3"
    },
    "language_info": {
      "codemirror_mode": {
        "name": "ipython",
        "version": 3
      },
      "file_extension": ".py",
      "mimetype": "text/x-python",
      "name": "python",
      "nbconvert_exporter": "python",
      "pygments_lexer": "ipython3",
      "version": "3.7.3"
    },
    "colab": {
      "name": "04_Sonar.ipynb",
      "provenance": [],
      "include_colab_link": true
    }
  },
  "cells": [
    {
      "cell_type": "markdown",
      "metadata": {
        "id": "view-in-github",
        "colab_type": "text"
      },
      "source": [
        "<a href=\"https://colab.research.google.com/github/junhansong/deeplearning/blob/master/deeplearning/run_project/04_Sonar.ipynb\" target=\"_parent\"><img src=\"https://colab.research.google.com/assets/colab-badge.svg\" alt=\"Open In Colab\"/></a>"
      ]
    },
    {
      "cell_type": "markdown",
      "metadata": {
        "id": "cwC8UkNhocQm",
        "colab_type": "text"
      },
      "source": [
        "### 딥러닝 라이브러리 케라스 호출\n"
      ]
    },
    {
      "cell_type": "code",
      "metadata": {
        "id": "C3b7Tfq4ZvaE",
        "colab_type": "code",
        "colab": {
          "base_uri": "https://localhost:8080/",
          "height": 33
        },
        "outputId": "02878189-09ad-4ea5-858f-0673d99103b2"
      },
      "source": [
        "from keras.models import Sequential\n",
        "from keras.layers.core import Dense\n",
        "from sklearn.preprocessing import LabelEncoder\n",
        "\n",
        "import pandas as pd\n",
        "import numpy\n",
        "import tensorflow as tf"
      ],
      "execution_count": 1,
      "outputs": [
        {
          "output_type": "stream",
          "text": [
            "Using TensorFlow backend.\n"
          ],
          "name": "stderr"
        }
      ]
    },
    {
      "cell_type": "markdown",
      "metadata": {
        "id": "7dvgAZ6YZ-vO",
        "colab_type": "text"
      },
      "source": [
        "### seed 값 설정\n"
      ]
    },
    {
      "cell_type": "code",
      "metadata": {
        "id": "SiebrlP1Z_ew",
        "colab_type": "code",
        "colab": {}
      },
      "source": [
        "numpy.random.seed(3)\n",
        "tf.random.set_seed(3)"
      ],
      "execution_count": 0,
      "outputs": []
    },
    {
      "cell_type": "markdown",
      "metadata": {
        "id": "4AQbzUfoaASG",
        "colab_type": "text"
      },
      "source": [
        "### 데이터 입력\n"
      ]
    },
    {
      "cell_type": "code",
      "metadata": {
        "id": "uMkV3FOBaA-_",
        "colab_type": "code",
        "colab": {}
      },
      "source": [
        "df = pd.read_csv('https://raw.githubusercontent.com/junhansong/deeplearning/master/deeplearning/dataset/sonar.csv', header=None)"
      ],
      "execution_count": 0,
      "outputs": []
    },
    {
      "cell_type": "markdown",
      "metadata": {
        "id": "VmiK7lOcaDjU",
        "colab_type": "text"
      },
      "source": [
        "### 데이터 개괄 보기\n"
      ]
    },
    {
      "cell_type": "code",
      "metadata": {
        "id": "aLURarNMa0v6",
        "colab_type": "code",
        "colab": {
          "base_uri": "https://localhost:8080/",
          "height": 1000
        },
        "outputId": "f48caafe-3b2e-4d78-dc6f-cb2dde619d66"
      },
      "source": [
        "print(df.info())"
      ],
      "execution_count": 4,
      "outputs": [
        {
          "output_type": "stream",
          "text": [
            "<class 'pandas.core.frame.DataFrame'>\n",
            "RangeIndex: 208 entries, 0 to 207\n",
            "Data columns (total 61 columns):\n",
            " #   Column  Non-Null Count  Dtype  \n",
            "---  ------  --------------  -----  \n",
            " 0   0       208 non-null    float64\n",
            " 1   1       208 non-null    float64\n",
            " 2   2       208 non-null    float64\n",
            " 3   3       208 non-null    float64\n",
            " 4   4       208 non-null    float64\n",
            " 5   5       208 non-null    float64\n",
            " 6   6       208 non-null    float64\n",
            " 7   7       208 non-null    float64\n",
            " 8   8       208 non-null    float64\n",
            " 9   9       208 non-null    float64\n",
            " 10  10      208 non-null    float64\n",
            " 11  11      208 non-null    float64\n",
            " 12  12      208 non-null    float64\n",
            " 13  13      208 non-null    float64\n",
            " 14  14      208 non-null    float64\n",
            " 15  15      208 non-null    float64\n",
            " 16  16      208 non-null    float64\n",
            " 17  17      208 non-null    float64\n",
            " 18  18      208 non-null    float64\n",
            " 19  19      208 non-null    float64\n",
            " 20  20      208 non-null    float64\n",
            " 21  21      208 non-null    float64\n",
            " 22  22      208 non-null    float64\n",
            " 23  23      208 non-null    float64\n",
            " 24  24      208 non-null    float64\n",
            " 25  25      208 non-null    float64\n",
            " 26  26      208 non-null    float64\n",
            " 27  27      208 non-null    float64\n",
            " 28  28      208 non-null    float64\n",
            " 29  29      208 non-null    float64\n",
            " 30  30      208 non-null    float64\n",
            " 31  31      208 non-null    float64\n",
            " 32  32      208 non-null    float64\n",
            " 33  33      208 non-null    float64\n",
            " 34  34      208 non-null    float64\n",
            " 35  35      208 non-null    float64\n",
            " 36  36      208 non-null    float64\n",
            " 37  37      208 non-null    float64\n",
            " 38  38      208 non-null    float64\n",
            " 39  39      208 non-null    float64\n",
            " 40  40      208 non-null    float64\n",
            " 41  41      208 non-null    float64\n",
            " 42  42      208 non-null    float64\n",
            " 43  43      208 non-null    float64\n",
            " 44  44      208 non-null    float64\n",
            " 45  45      208 non-null    float64\n",
            " 46  46      208 non-null    float64\n",
            " 47  47      208 non-null    float64\n",
            " 48  48      208 non-null    float64\n",
            " 49  49      208 non-null    float64\n",
            " 50  50      208 non-null    float64\n",
            " 51  51      208 non-null    float64\n",
            " 52  52      208 non-null    float64\n",
            " 53  53      208 non-null    float64\n",
            " 54  54      208 non-null    float64\n",
            " 55  55      208 non-null    float64\n",
            " 56  56      208 non-null    float64\n",
            " 57  57      208 non-null    float64\n",
            " 58  58      208 non-null    float64\n",
            " 59  59      208 non-null    float64\n",
            " 60  60      208 non-null    object \n",
            "dtypes: float64(60), object(1)\n",
            "memory usage: 99.2+ KB\n",
            "None\n"
          ],
          "name": "stdout"
        }
      ]
    },
    {
      "cell_type": "markdown",
      "metadata": {
        "id": "1i4db5DOaKCQ",
        "colab_type": "text"
      },
      "source": [
        "### 데이터의 일부분 미리 보기\n"
      ]
    },
    {
      "cell_type": "code",
      "metadata": {
        "id": "QnwWZa0xaLlI",
        "colab_type": "code",
        "colab": {
          "base_uri": "https://localhost:8080/",
          "height": 150
        },
        "outputId": "3ca25347-8246-46ea-ba6c-cc0311425c08"
      },
      "source": [
        "print(df.head())\n"
      ],
      "execution_count": 5,
      "outputs": [
        {
          "output_type": "stream",
          "text": [
            "       0       1       2       3       4   ...      56      57      58      59  60\n",
            "0  0.0200  0.0371  0.0428  0.0207  0.0954  ...  0.0180  0.0084  0.0090  0.0032   R\n",
            "1  0.0453  0.0523  0.0843  0.0689  0.1183  ...  0.0140  0.0049  0.0052  0.0044   R\n",
            "2  0.0262  0.0582  0.1099  0.1083  0.0974  ...  0.0316  0.0164  0.0095  0.0078   R\n",
            "3  0.0100  0.0171  0.0623  0.0205  0.0205  ...  0.0050  0.0044  0.0040  0.0117   R\n",
            "4  0.0762  0.0666  0.0481  0.0394  0.0590  ...  0.0072  0.0048  0.0107  0.0094   R\n",
            "\n",
            "[5 rows x 61 columns]\n"
          ],
          "name": "stdout"
        }
      ]
    },
    {
      "cell_type": "markdown",
      "metadata": {
        "id": "DoD1owEkbgcF",
        "colab_type": "text"
      },
      "source": [
        "### pandas df.values 사용하기\n",
        "\n"
      ]
    },
    {
      "cell_type": "code",
      "metadata": {
        "id": "K-nN05Yrd8cL",
        "colab_type": "code",
        "colab": {}
      },
      "source": [
        "dataset = df.values\n",
        "X = dataset[:,0:60]\n",
        "Y_obj = dataset[:,60]\n",
        "\n"
      ],
      "execution_count": 0,
      "outputs": []
    },
    {
      "cell_type": "markdown",
      "metadata": {
        "id": "1PqA3l5RaNXC",
        "colab_type": "text"
      },
      "source": [
        "### 문자열 변환\n"
      ]
    },
    {
      "cell_type": "code",
      "metadata": {
        "id": "rlk-_3YoaN-r",
        "colab_type": "code",
        "colab": {}
      },
      "source": [
        "e = LabelEncoder()\n",
        "e.fit(Y_obj)\n",
        "Y = e.transform(Y_obj)\n",
        "\n"
      ],
      "execution_count": 0,
      "outputs": []
    },
    {
      "cell_type": "markdown",
      "metadata": {
        "id": "UIA4MUFRaOtQ",
        "colab_type": "text"
      },
      "source": [
        "### 모델 설정\n"
      ]
    },
    {
      "cell_type": "code",
      "metadata": {
        "id": "DKaVwuuPaPRO",
        "colab_type": "code",
        "colab": {}
      },
      "source": [
        "model = Sequential()\n",
        "model.add(Dense(24,  input_dim=60, activation='relu'))\n",
        "model.add(Dense(10, activation='relu'))\n",
        "model.add(Dense(1, activation='sigmoid'))\n",
        "\n"
      ],
      "execution_count": 0,
      "outputs": []
    },
    {
      "cell_type": "markdown",
      "metadata": {
        "id": "7bspsqPIaQEg",
        "colab_type": "text"
      },
      "source": [
        "### 모델 컴파일\n"
      ]
    },
    {
      "cell_type": "code",
      "metadata": {
        "id": "26X2xko8aQo-",
        "colab_type": "code",
        "colab": {}
      },
      "source": [
        "model.compile(loss='mean_squared_error',\n",
        "            optimizer='adam',\n",
        "            metrics=['accuracy'])\n",
        "\n"
      ],
      "execution_count": 0,
      "outputs": []
    },
    {
      "cell_type": "markdown",
      "metadata": {
        "id": "ZuEVkdzdaRUr",
        "colab_type": "text"
      },
      "source": [
        "### 모델 실행\n"
      ]
    },
    {
      "cell_type": "code",
      "metadata": {
        "id": "2XVkgthUaR3K",
        "colab_type": "code",
        "colab": {
          "base_uri": "https://localhost:8080/",
          "height": 1000
        },
        "outputId": "10434529-1f3a-4bcc-f7ca-c4af746f22b0"
      },
      "source": [
        "model.fit(X, Y, epochs=200, batch_size=5)\n",
        "\n"
      ],
      "execution_count": 10,
      "outputs": [
        {
          "output_type": "stream",
          "text": [
            "Epoch 1/200\n",
            "208/208 [==============================] - 0s 2ms/step - loss: 0.2469 - accuracy: 0.5625\n",
            "Epoch 2/200\n",
            "208/208 [==============================] - 0s 239us/step - loss: 0.2408 - accuracy: 0.5433\n",
            "Epoch 3/200\n",
            "208/208 [==============================] - 0s 236us/step - loss: 0.2269 - accuracy: 0.6154\n",
            "Epoch 4/200\n",
            "208/208 [==============================] - 0s 238us/step - loss: 0.2186 - accuracy: 0.6346\n",
            "Epoch 5/200\n",
            "208/208 [==============================] - 0s 236us/step - loss: 0.2100 - accuracy: 0.6875\n",
            "Epoch 6/200\n",
            "208/208 [==============================] - 0s 234us/step - loss: 0.2023 - accuracy: 0.7115\n",
            "Epoch 7/200\n",
            "208/208 [==============================] - 0s 295us/step - loss: 0.1941 - accuracy: 0.7404\n",
            "Epoch 8/200\n",
            "208/208 [==============================] - 0s 262us/step - loss: 0.1855 - accuracy: 0.7692\n",
            "Epoch 9/200\n",
            "208/208 [==============================] - 0s 246us/step - loss: 0.1762 - accuracy: 0.7981\n",
            "Epoch 10/200\n",
            "208/208 [==============================] - 0s 236us/step - loss: 0.1641 - accuracy: 0.7933\n",
            "Epoch 11/200\n",
            "208/208 [==============================] - 0s 235us/step - loss: 0.1543 - accuracy: 0.7981\n",
            "Epoch 12/200\n",
            "208/208 [==============================] - 0s 247us/step - loss: 0.1478 - accuracy: 0.7933\n",
            "Epoch 13/200\n",
            "208/208 [==============================] - 0s 232us/step - loss: 0.1389 - accuracy: 0.8269\n",
            "Epoch 14/200\n",
            "208/208 [==============================] - 0s 236us/step - loss: 0.1343 - accuracy: 0.8365\n",
            "Epoch 15/200\n",
            "208/208 [==============================] - 0s 254us/step - loss: 0.1363 - accuracy: 0.8173\n",
            "Epoch 16/200\n",
            "208/208 [==============================] - 0s 234us/step - loss: 0.1298 - accuracy: 0.8173\n",
            "Epoch 17/200\n",
            "208/208 [==============================] - 0s 239us/step - loss: 0.1276 - accuracy: 0.8173\n",
            "Epoch 18/200\n",
            "208/208 [==============================] - 0s 231us/step - loss: 0.1214 - accuracy: 0.8317\n",
            "Epoch 19/200\n",
            "208/208 [==============================] - 0s 230us/step - loss: 0.1144 - accuracy: 0.8413\n",
            "Epoch 20/200\n",
            "208/208 [==============================] - 0s 253us/step - loss: 0.1119 - accuracy: 0.8558\n",
            "Epoch 21/200\n",
            "208/208 [==============================] - 0s 237us/step - loss: 0.1086 - accuracy: 0.8846\n",
            "Epoch 22/200\n",
            "208/208 [==============================] - 0s 235us/step - loss: 0.1014 - accuracy: 0.8702\n",
            "Epoch 23/200\n",
            "208/208 [==============================] - 0s 239us/step - loss: 0.1117 - accuracy: 0.8510\n",
            "Epoch 24/200\n",
            "208/208 [==============================] - 0s 277us/step - loss: 0.0995 - accuracy: 0.8702\n",
            "Epoch 25/200\n",
            "208/208 [==============================] - 0s 234us/step - loss: 0.1002 - accuracy: 0.8558\n",
            "Epoch 26/200\n",
            "208/208 [==============================] - 0s 243us/step - loss: 0.0950 - accuracy: 0.8798\n",
            "Epoch 27/200\n",
            "208/208 [==============================] - 0s 241us/step - loss: 0.0919 - accuracy: 0.8894\n",
            "Epoch 28/200\n",
            "208/208 [==============================] - 0s 242us/step - loss: 0.0933 - accuracy: 0.8750\n",
            "Epoch 29/200\n",
            "208/208 [==============================] - 0s 239us/step - loss: 0.0888 - accuracy: 0.8846\n",
            "Epoch 30/200\n",
            "208/208 [==============================] - 0s 238us/step - loss: 0.0846 - accuracy: 0.8894\n",
            "Epoch 31/200\n",
            "208/208 [==============================] - 0s 242us/step - loss: 0.0800 - accuracy: 0.9038\n",
            "Epoch 32/200\n",
            "208/208 [==============================] - 0s 249us/step - loss: 0.0869 - accuracy: 0.8750\n",
            "Epoch 33/200\n",
            "208/208 [==============================] - 0s 232us/step - loss: 0.0846 - accuracy: 0.8942\n",
            "Epoch 34/200\n",
            "208/208 [==============================] - 0s 239us/step - loss: 0.0784 - accuracy: 0.9087\n",
            "Epoch 35/200\n",
            "208/208 [==============================] - 0s 261us/step - loss: 0.0780 - accuracy: 0.9038\n",
            "Epoch 36/200\n",
            "208/208 [==============================] - 0s 246us/step - loss: 0.0726 - accuracy: 0.9183\n",
            "Epoch 37/200\n",
            "208/208 [==============================] - 0s 242us/step - loss: 0.0733 - accuracy: 0.9279\n",
            "Epoch 38/200\n",
            "208/208 [==============================] - 0s 241us/step - loss: 0.0707 - accuracy: 0.9183\n",
            "Epoch 39/200\n",
            "208/208 [==============================] - 0s 240us/step - loss: 0.0709 - accuracy: 0.9183\n",
            "Epoch 40/200\n",
            "208/208 [==============================] - 0s 237us/step - loss: 0.0656 - accuracy: 0.9327\n",
            "Epoch 41/200\n",
            "208/208 [==============================] - 0s 242us/step - loss: 0.0658 - accuracy: 0.8942\n",
            "Epoch 42/200\n",
            "208/208 [==============================] - 0s 237us/step - loss: 0.0629 - accuracy: 0.9231\n",
            "Epoch 43/200\n",
            "208/208 [==============================] - 0s 240us/step - loss: 0.0607 - accuracy: 0.9471\n",
            "Epoch 44/200\n",
            "208/208 [==============================] - 0s 239us/step - loss: 0.0638 - accuracy: 0.9279\n",
            "Epoch 45/200\n",
            "208/208 [==============================] - 0s 236us/step - loss: 0.0559 - accuracy: 0.9471\n",
            "Epoch 46/200\n",
            "208/208 [==============================] - 0s 253us/step - loss: 0.0563 - accuracy: 0.9423\n",
            "Epoch 47/200\n",
            "208/208 [==============================] - 0s 225us/step - loss: 0.0519 - accuracy: 0.9663\n",
            "Epoch 48/200\n",
            "208/208 [==============================] - 0s 236us/step - loss: 0.0554 - accuracy: 0.9471\n",
            "Epoch 49/200\n",
            "208/208 [==============================] - 0s 239us/step - loss: 0.0498 - accuracy: 0.9567\n",
            "Epoch 50/200\n",
            "208/208 [==============================] - 0s 249us/step - loss: 0.0492 - accuracy: 0.9567\n",
            "Epoch 51/200\n",
            "208/208 [==============================] - 0s 234us/step - loss: 0.0492 - accuracy: 0.9519\n",
            "Epoch 52/200\n",
            "208/208 [==============================] - 0s 251us/step - loss: 0.0454 - accuracy: 0.9615\n",
            "Epoch 53/200\n",
            "208/208 [==============================] - 0s 241us/step - loss: 0.0504 - accuracy: 0.9519\n",
            "Epoch 54/200\n",
            "208/208 [==============================] - 0s 234us/step - loss: 0.0473 - accuracy: 0.9567\n",
            "Epoch 55/200\n",
            "208/208 [==============================] - 0s 249us/step - loss: 0.0444 - accuracy: 0.9663\n",
            "Epoch 56/200\n",
            "208/208 [==============================] - 0s 242us/step - loss: 0.0406 - accuracy: 0.9712\n",
            "Epoch 57/200\n",
            "208/208 [==============================] - 0s 244us/step - loss: 0.0391 - accuracy: 0.9663\n",
            "Epoch 58/200\n",
            "208/208 [==============================] - 0s 230us/step - loss: 0.0393 - accuracy: 0.9760\n",
            "Epoch 59/200\n",
            "208/208 [==============================] - 0s 255us/step - loss: 0.0400 - accuracy: 0.9712\n",
            "Epoch 60/200\n",
            "208/208 [==============================] - 0s 240us/step - loss: 0.0364 - accuracy: 0.9712\n",
            "Epoch 61/200\n",
            "208/208 [==============================] - 0s 234us/step - loss: 0.0370 - accuracy: 0.9712\n",
            "Epoch 62/200\n",
            "208/208 [==============================] - 0s 237us/step - loss: 0.0341 - accuracy: 0.9760\n",
            "Epoch 63/200\n",
            "208/208 [==============================] - 0s 238us/step - loss: 0.0336 - accuracy: 0.9712\n",
            "Epoch 64/200\n",
            "208/208 [==============================] - 0s 248us/step - loss: 0.0312 - accuracy: 0.9808\n",
            "Epoch 65/200\n",
            "208/208 [==============================] - 0s 259us/step - loss: 0.0305 - accuracy: 0.9808\n",
            "Epoch 66/200\n",
            "208/208 [==============================] - 0s 236us/step - loss: 0.0336 - accuracy: 0.9663\n",
            "Epoch 67/200\n",
            "208/208 [==============================] - 0s 285us/step - loss: 0.0296 - accuracy: 0.9808\n",
            "Epoch 68/200\n",
            "208/208 [==============================] - 0s 290us/step - loss: 0.0289 - accuracy: 0.9712\n",
            "Epoch 69/200\n",
            "208/208 [==============================] - 0s 272us/step - loss: 0.0254 - accuracy: 0.9856\n",
            "Epoch 70/200\n",
            "208/208 [==============================] - 0s 240us/step - loss: 0.0267 - accuracy: 0.9760\n",
            "Epoch 71/200\n",
            "208/208 [==============================] - 0s 231us/step - loss: 0.0279 - accuracy: 0.9712\n",
            "Epoch 72/200\n",
            "208/208 [==============================] - 0s 229us/step - loss: 0.0250 - accuracy: 0.9808\n",
            "Epoch 73/200\n",
            "208/208 [==============================] - 0s 237us/step - loss: 0.0270 - accuracy: 0.9808\n",
            "Epoch 74/200\n",
            "208/208 [==============================] - 0s 288us/step - loss: 0.0240 - accuracy: 0.9856\n",
            "Epoch 75/200\n",
            "208/208 [==============================] - 0s 240us/step - loss: 0.0243 - accuracy: 0.9808\n",
            "Epoch 76/200\n",
            "208/208 [==============================] - 0s 228us/step - loss: 0.0213 - accuracy: 0.9904\n",
            "Epoch 77/200\n",
            "208/208 [==============================] - 0s 240us/step - loss: 0.0215 - accuracy: 0.9856\n",
            "Epoch 78/200\n",
            "208/208 [==============================] - 0s 235us/step - loss: 0.0199 - accuracy: 0.9856\n",
            "Epoch 79/200\n",
            "208/208 [==============================] - 0s 235us/step - loss: 0.0195 - accuracy: 0.9808\n",
            "Epoch 80/200\n",
            "208/208 [==============================] - 0s 246us/step - loss: 0.0199 - accuracy: 0.9904\n",
            "Epoch 81/200\n",
            "208/208 [==============================] - 0s 231us/step - loss: 0.0192 - accuracy: 0.9856\n",
            "Epoch 82/200\n",
            "208/208 [==============================] - 0s 240us/step - loss: 0.0193 - accuracy: 0.9856\n",
            "Epoch 83/200\n",
            "208/208 [==============================] - 0s 246us/step - loss: 0.0181 - accuracy: 0.9856\n",
            "Epoch 84/200\n",
            "208/208 [==============================] - 0s 239us/step - loss: 0.0168 - accuracy: 0.9904\n",
            "Epoch 85/200\n",
            "208/208 [==============================] - 0s 241us/step - loss: 0.0168 - accuracy: 0.9904\n",
            "Epoch 86/200\n",
            "208/208 [==============================] - 0s 247us/step - loss: 0.0161 - accuracy: 0.9904\n",
            "Epoch 87/200\n",
            "208/208 [==============================] - 0s 242us/step - loss: 0.0147 - accuracy: 0.9952\n",
            "Epoch 88/200\n",
            "208/208 [==============================] - 0s 233us/step - loss: 0.0161 - accuracy: 0.9952\n",
            "Epoch 89/200\n",
            "208/208 [==============================] - 0s 236us/step - loss: 0.0161 - accuracy: 0.9952\n",
            "Epoch 90/200\n",
            "208/208 [==============================] - 0s 236us/step - loss: 0.0141 - accuracy: 0.9952\n",
            "Epoch 91/200\n",
            "208/208 [==============================] - 0s 252us/step - loss: 0.0138 - accuracy: 0.9904\n",
            "Epoch 92/200\n",
            "208/208 [==============================] - 0s 229us/step - loss: 0.0123 - accuracy: 0.9952\n",
            "Epoch 93/200\n",
            "208/208 [==============================] - 0s 280us/step - loss: 0.0140 - accuracy: 0.9952\n",
            "Epoch 94/200\n",
            "208/208 [==============================] - 0s 237us/step - loss: 0.0128 - accuracy: 0.9952\n",
            "Epoch 95/200\n",
            "208/208 [==============================] - 0s 239us/step - loss: 0.0135 - accuracy: 0.9952\n",
            "Epoch 96/200\n",
            "208/208 [==============================] - 0s 237us/step - loss: 0.0119 - accuracy: 0.9952\n",
            "Epoch 97/200\n",
            "208/208 [==============================] - 0s 237us/step - loss: 0.0105 - accuracy: 0.9952\n",
            "Epoch 98/200\n",
            "208/208 [==============================] - 0s 242us/step - loss: 0.0115 - accuracy: 0.9952\n",
            "Epoch 99/200\n",
            "208/208 [==============================] - 0s 243us/step - loss: 0.0114 - accuracy: 0.9952\n",
            "Epoch 100/200\n",
            "208/208 [==============================] - 0s 232us/step - loss: 0.0111 - accuracy: 0.9952\n",
            "Epoch 101/200\n",
            "208/208 [==============================] - 0s 238us/step - loss: 0.0104 - accuracy: 0.9952\n",
            "Epoch 102/200\n",
            "208/208 [==============================] - 0s 237us/step - loss: 0.0102 - accuracy: 0.9952\n",
            "Epoch 103/200\n",
            "208/208 [==============================] - 0s 237us/step - loss: 0.0099 - accuracy: 0.9952\n",
            "Epoch 104/200\n",
            "208/208 [==============================] - 0s 235us/step - loss: 0.0106 - accuracy: 0.9952\n",
            "Epoch 105/200\n",
            "208/208 [==============================] - 0s 242us/step - loss: 0.0092 - accuracy: 0.9952\n",
            "Epoch 106/200\n",
            "208/208 [==============================] - 0s 242us/step - loss: 0.0093 - accuracy: 0.9952\n",
            "Epoch 107/200\n",
            "208/208 [==============================] - 0s 238us/step - loss: 0.0090 - accuracy: 0.9952\n",
            "Epoch 108/200\n",
            "208/208 [==============================] - 0s 235us/step - loss: 0.0091 - accuracy: 0.9952\n",
            "Epoch 109/200\n",
            "208/208 [==============================] - 0s 251us/step - loss: 0.0086 - accuracy: 0.9952\n",
            "Epoch 110/200\n",
            "208/208 [==============================] - 0s 230us/step - loss: 0.0095 - accuracy: 0.9952\n",
            "Epoch 111/200\n",
            "208/208 [==============================] - 0s 251us/step - loss: 0.0087 - accuracy: 0.9952\n",
            "Epoch 112/200\n",
            "208/208 [==============================] - 0s 243us/step - loss: 0.0088 - accuracy: 0.9952\n",
            "Epoch 113/200\n",
            "208/208 [==============================] - 0s 266us/step - loss: 0.0084 - accuracy: 0.9952\n",
            "Epoch 114/200\n",
            "208/208 [==============================] - 0s 230us/step - loss: 0.0078 - accuracy: 0.9952\n",
            "Epoch 115/200\n",
            "208/208 [==============================] - 0s 229us/step - loss: 0.0077 - accuracy: 0.9952\n",
            "Epoch 116/200\n",
            "208/208 [==============================] - 0s 247us/step - loss: 0.0078 - accuracy: 0.9952\n",
            "Epoch 117/200\n",
            "208/208 [==============================] - 0s 256us/step - loss: 0.0073 - accuracy: 0.9952\n",
            "Epoch 118/200\n",
            "208/208 [==============================] - 0s 242us/step - loss: 0.0070 - accuracy: 0.9952\n",
            "Epoch 119/200\n",
            "208/208 [==============================] - 0s 232us/step - loss: 0.0070 - accuracy: 0.9952\n",
            "Epoch 120/200\n",
            "208/208 [==============================] - 0s 227us/step - loss: 0.0076 - accuracy: 0.9952\n",
            "Epoch 121/200\n",
            "208/208 [==============================] - 0s 235us/step - loss: 0.0069 - accuracy: 0.9952\n",
            "Epoch 122/200\n",
            "208/208 [==============================] - 0s 237us/step - loss: 0.0070 - accuracy: 0.9952\n",
            "Epoch 123/200\n",
            "208/208 [==============================] - 0s 234us/step - loss: 0.0068 - accuracy: 0.9952\n",
            "Epoch 124/200\n",
            "208/208 [==============================] - 0s 240us/step - loss: 0.0068 - accuracy: 0.9952\n",
            "Epoch 125/200\n",
            "208/208 [==============================] - 0s 249us/step - loss: 0.0067 - accuracy: 0.9952\n",
            "Epoch 126/200\n",
            "208/208 [==============================] - 0s 240us/step - loss: 0.0070 - accuracy: 0.9952\n",
            "Epoch 127/200\n",
            "208/208 [==============================] - 0s 238us/step - loss: 0.0066 - accuracy: 0.9952\n",
            "Epoch 128/200\n",
            "208/208 [==============================] - 0s 242us/step - loss: 0.0065 - accuracy: 0.9952\n",
            "Epoch 129/200\n",
            "208/208 [==============================] - 0s 236us/step - loss: 0.0062 - accuracy: 0.9952\n",
            "Epoch 130/200\n",
            "208/208 [==============================] - 0s 237us/step - loss: 0.0063 - accuracy: 0.9952\n",
            "Epoch 131/200\n",
            "208/208 [==============================] - 0s 237us/step - loss: 0.0060 - accuracy: 0.9952\n",
            "Epoch 132/200\n",
            "208/208 [==============================] - 0s 235us/step - loss: 0.0059 - accuracy: 0.9952\n",
            "Epoch 133/200\n",
            "208/208 [==============================] - 0s 270us/step - loss: 0.0061 - accuracy: 0.9952\n",
            "Epoch 134/200\n",
            "208/208 [==============================] - 0s 244us/step - loss: 0.0058 - accuracy: 0.9952\n",
            "Epoch 135/200\n",
            "208/208 [==============================] - 0s 238us/step - loss: 0.0058 - accuracy: 0.9952\n",
            "Epoch 136/200\n",
            "208/208 [==============================] - 0s 237us/step - loss: 0.0063 - accuracy: 0.9952\n",
            "Epoch 137/200\n",
            "208/208 [==============================] - 0s 234us/step - loss: 0.0056 - accuracy: 0.9952\n",
            "Epoch 138/200\n",
            "208/208 [==============================] - 0s 243us/step - loss: 0.0055 - accuracy: 0.9952\n",
            "Epoch 139/200\n",
            "208/208 [==============================] - 0s 235us/step - loss: 0.0056 - accuracy: 0.9952\n",
            "Epoch 140/200\n",
            "208/208 [==============================] - 0s 240us/step - loss: 0.0057 - accuracy: 0.9952\n",
            "Epoch 141/200\n",
            "208/208 [==============================] - 0s 235us/step - loss: 0.0052 - accuracy: 0.9952\n",
            "Epoch 142/200\n",
            "208/208 [==============================] - 0s 255us/step - loss: 0.0052 - accuracy: 0.9952\n",
            "Epoch 143/200\n",
            "208/208 [==============================] - 0s 236us/step - loss: 0.0057 - accuracy: 0.9952\n",
            "Epoch 144/200\n",
            "208/208 [==============================] - 0s 242us/step - loss: 0.0047 - accuracy: 0.9952\n",
            "Epoch 145/200\n",
            "208/208 [==============================] - 0s 238us/step - loss: 0.0046 - accuracy: 0.9952\n",
            "Epoch 146/200\n",
            "208/208 [==============================] - 0s 240us/step - loss: 0.0045 - accuracy: 0.9952\n",
            "Epoch 147/200\n",
            "208/208 [==============================] - 0s 240us/step - loss: 0.0038 - accuracy: 0.9952\n",
            "Epoch 148/200\n",
            "208/208 [==============================] - 0s 235us/step - loss: 0.0039 - accuracy: 0.9952\n",
            "Epoch 149/200\n",
            "208/208 [==============================] - 0s 237us/step - loss: 0.0035 - accuracy: 0.9952\n",
            "Epoch 150/200\n",
            "208/208 [==============================] - 0s 240us/step - loss: 0.0029 - accuracy: 0.9952\n",
            "Epoch 151/200\n",
            "208/208 [==============================] - 0s 235us/step - loss: 0.0030 - accuracy: 1.0000\n",
            "Epoch 152/200\n",
            "208/208 [==============================] - 0s 241us/step - loss: 0.0028 - accuracy: 1.0000\n",
            "Epoch 153/200\n",
            "208/208 [==============================] - 0s 250us/step - loss: 0.0029 - accuracy: 1.0000\n",
            "Epoch 154/200\n",
            "208/208 [==============================] - 0s 236us/step - loss: 0.0019 - accuracy: 1.0000\n",
            "Epoch 155/200\n",
            "208/208 [==============================] - 0s 239us/step - loss: 0.0026 - accuracy: 1.0000\n",
            "Epoch 156/200\n",
            "208/208 [==============================] - 0s 239us/step - loss: 0.0017 - accuracy: 1.0000\n",
            "Epoch 157/200\n",
            "208/208 [==============================] - 0s 237us/step - loss: 0.0014 - accuracy: 1.0000\n",
            "Epoch 158/200\n",
            "208/208 [==============================] - 0s 239us/step - loss: 0.0013 - accuracy: 1.0000\n",
            "Epoch 159/200\n",
            "208/208 [==============================] - 0s 242us/step - loss: 0.0011 - accuracy: 1.0000\n",
            "Epoch 160/200\n",
            "208/208 [==============================] - 0s 225us/step - loss: 0.0011 - accuracy: 1.0000\n",
            "Epoch 161/200\n",
            "208/208 [==============================] - 0s 232us/step - loss: 9.9210e-04 - accuracy: 1.0000\n",
            "Epoch 162/200\n",
            "208/208 [==============================] - 0s 239us/step - loss: 8.4790e-04 - accuracy: 1.0000\n",
            "Epoch 163/200\n",
            "208/208 [==============================] - 0s 273us/step - loss: 9.0872e-04 - accuracy: 1.0000\n",
            "Epoch 164/200\n",
            "208/208 [==============================] - 0s 249us/step - loss: 8.4733e-04 - accuracy: 1.0000\n",
            "Epoch 165/200\n",
            "208/208 [==============================] - 0s 238us/step - loss: 8.6490e-04 - accuracy: 1.0000\n",
            "Epoch 166/200\n",
            "208/208 [==============================] - 0s 234us/step - loss: 7.2655e-04 - accuracy: 1.0000\n",
            "Epoch 167/200\n",
            "208/208 [==============================] - 0s 241us/step - loss: 7.5984e-04 - accuracy: 1.0000\n",
            "Epoch 168/200\n",
            "208/208 [==============================] - 0s 232us/step - loss: 6.5376e-04 - accuracy: 1.0000\n",
            "Epoch 169/200\n",
            "208/208 [==============================] - 0s 259us/step - loss: 6.1369e-04 - accuracy: 1.0000\n",
            "Epoch 170/200\n",
            "208/208 [==============================] - 0s 233us/step - loss: 7.0458e-04 - accuracy: 1.0000\n",
            "Epoch 171/200\n",
            "208/208 [==============================] - 0s 244us/step - loss: 5.8964e-04 - accuracy: 1.0000\n",
            "Epoch 172/200\n",
            "208/208 [==============================] - 0s 270us/step - loss: 5.9001e-04 - accuracy: 1.0000\n",
            "Epoch 173/200\n",
            "208/208 [==============================] - 0s 239us/step - loss: 6.0185e-04 - accuracy: 1.0000\n",
            "Epoch 174/200\n",
            "208/208 [==============================] - 0s 242us/step - loss: 5.6008e-04 - accuracy: 1.0000\n",
            "Epoch 175/200\n",
            "208/208 [==============================] - 0s 237us/step - loss: 4.9393e-04 - accuracy: 1.0000\n",
            "Epoch 176/200\n",
            "208/208 [==============================] - 0s 267us/step - loss: 4.8224e-04 - accuracy: 1.0000\n",
            "Epoch 177/200\n",
            "208/208 [==============================] - 0s 249us/step - loss: 4.8656e-04 - accuracy: 1.0000\n",
            "Epoch 178/200\n",
            "208/208 [==============================] - 0s 246us/step - loss: 4.5926e-04 - accuracy: 1.0000\n",
            "Epoch 179/200\n",
            "208/208 [==============================] - 0s 238us/step - loss: 4.5987e-04 - accuracy: 1.0000\n",
            "Epoch 180/200\n",
            "208/208 [==============================] - 0s 241us/step - loss: 4.2970e-04 - accuracy: 1.0000\n",
            "Epoch 181/200\n",
            "208/208 [==============================] - 0s 239us/step - loss: 4.0076e-04 - accuracy: 1.0000\n",
            "Epoch 182/200\n",
            "208/208 [==============================] - 0s 253us/step - loss: 3.9360e-04 - accuracy: 1.0000\n",
            "Epoch 183/200\n",
            "208/208 [==============================] - 0s 238us/step - loss: 3.9280e-04 - accuracy: 1.0000\n",
            "Epoch 184/200\n",
            "208/208 [==============================] - 0s 234us/step - loss: 3.5273e-04 - accuracy: 1.0000\n",
            "Epoch 185/200\n",
            "208/208 [==============================] - 0s 233us/step - loss: 3.4862e-04 - accuracy: 1.0000\n",
            "Epoch 186/200\n",
            "208/208 [==============================] - 0s 239us/step - loss: 3.4408e-04 - accuracy: 1.0000\n",
            "Epoch 187/200\n",
            "208/208 [==============================] - 0s 240us/step - loss: 3.2182e-04 - accuracy: 1.0000\n",
            "Epoch 188/200\n",
            "208/208 [==============================] - 0s 239us/step - loss: 3.2263e-04 - accuracy: 1.0000\n",
            "Epoch 189/200\n",
            "208/208 [==============================] - 0s 245us/step - loss: 3.1083e-04 - accuracy: 1.0000\n",
            "Epoch 190/200\n",
            "208/208 [==============================] - 0s 246us/step - loss: 3.2070e-04 - accuracy: 1.0000\n",
            "Epoch 191/200\n",
            "208/208 [==============================] - 0s 247us/step - loss: 2.9699e-04 - accuracy: 1.0000\n",
            "Epoch 192/200\n",
            "208/208 [==============================] - 0s 237us/step - loss: 2.6558e-04 - accuracy: 1.0000\n",
            "Epoch 193/200\n",
            "208/208 [==============================] - 0s 237us/step - loss: 2.6821e-04 - accuracy: 1.0000\n",
            "Epoch 194/200\n",
            "208/208 [==============================] - 0s 232us/step - loss: 2.7467e-04 - accuracy: 1.0000\n",
            "Epoch 195/200\n",
            "208/208 [==============================] - 0s 237us/step - loss: 2.4299e-04 - accuracy: 1.0000\n",
            "Epoch 196/200\n",
            "208/208 [==============================] - 0s 258us/step - loss: 2.3964e-04 - accuracy: 1.0000\n",
            "Epoch 197/200\n",
            "208/208 [==============================] - 0s 236us/step - loss: 2.3929e-04 - accuracy: 1.0000\n",
            "Epoch 198/200\n",
            "208/208 [==============================] - 0s 242us/step - loss: 2.3746e-04 - accuracy: 1.0000\n",
            "Epoch 199/200\n",
            "208/208 [==============================] - 0s 232us/step - loss: 2.2302e-04 - accuracy: 1.0000\n",
            "Epoch 200/200\n",
            "208/208 [==============================] - 0s 237us/step - loss: 2.2363e-04 - accuracy: 1.0000\n"
          ],
          "name": "stdout"
        },
        {
          "output_type": "execute_result",
          "data": {
            "text/plain": [
              "<keras.callbacks.callbacks.History at 0x7fd660301780>"
            ]
          },
          "metadata": {
            "tags": []
          },
          "execution_count": 10
        }
      ]
    },
    {
      "cell_type": "markdown",
      "metadata": {
        "id": "YURieHT7aSdE",
        "colab_type": "text"
      },
      "source": [
        "### 결과 출력\n"
      ]
    },
    {
      "cell_type": "code",
      "metadata": {
        "id": "ViOq4VdXaS_e",
        "colab_type": "code",
        "colab": {
          "base_uri": "https://localhost:8080/",
          "height": 66
        },
        "outputId": "b7cfe952-f892-4b55-fb85-0e1291109a37"
      },
      "source": [
        "print(\"\\n Accuracy: %.4f\" % (model.evaluate(X, Y)[1]))\n"
      ],
      "execution_count": 11,
      "outputs": [
        {
          "output_type": "stream",
          "text": [
            "208/208 [==============================] - 0s 114us/step\n",
            "\n",
            " Accuracy: 1.0000\n"
          ],
          "name": "stdout"
        }
      ]
    },
    {
      "cell_type": "code",
      "metadata": {
        "id": "lmA5erD2ocQ4",
        "colab_type": "code",
        "colab": {}
      },
      "source": [
        ""
      ],
      "execution_count": 0,
      "outputs": []
    }
  ]
}