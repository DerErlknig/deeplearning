{
  "nbformat": 4,
  "nbformat_minor": 0,
  "metadata": {
    "kernelspec": {
      "display_name": "Python 3",
      "language": "python",
      "name": "python3"
    },
    "language_info": {
      "codemirror_mode": {
        "name": "ipython",
        "version": 3
      },
      "file_extension": ".py",
      "mimetype": "text/x-python",
      "name": "python",
      "nbconvert_exporter": "python",
      "pygments_lexer": "ipython3",
      "version": "3.7.3"
    },
    "colab": {
      "name": "16_MNIST_Deep.ipynb",
      "provenance": [],
      "include_colab_link": true
    },
    "accelerator": "GPU"
  },
  "cells": [
    {
      "cell_type": "markdown",
      "metadata": {
        "id": "view-in-github",
        "colab_type": "text"
      },
      "source": [
        "<a href=\"https://colab.research.google.com/github/junhansong/deeplearning/blob/master/deeplearning/run_project/16_MNIST_Deep.ipynb\" target=\"_parent\"><img src=\"https://colab.research.google.com/assets/colab-badge.svg\" alt=\"Open In Colab\"/></a>"
      ]
    },
    {
      "cell_type": "markdown",
      "metadata": {
        "id": "Qw3Dx81pt_Tq",
        "colab_type": "text"
      },
      "source": [
        "### 라이브러리 호출\n"
      ]
    },
    {
      "cell_type": "code",
      "metadata": {
        "id": "VMjebZGlgbdE",
        "colab_type": "code",
        "colab": {
          "base_uri": "https://localhost:8080/",
          "height": 34
        },
        "outputId": "4425f5d4-79fb-424f-f297-bb8ef2734f2b"
      },
      "source": [
        "#-*- coding: utf-8 -*-\n",
        "\n",
        "from keras.datasets import mnist\n",
        "from keras.utils import np_utils\n",
        "from keras.models import Sequential\n",
        "from keras.layers import Dense, Dropout, Flatten, Conv2D, MaxPooling2D\n",
        "from keras.callbacks import ModelCheckpoint,EarlyStopping\n",
        "\n",
        "import matplotlib.pyplot as plt\n",
        "import numpy\n",
        "import os\n",
        "import tensorflow as tf\n",
        "\n"
      ],
      "execution_count": 1,
      "outputs": [
        {
          "output_type": "stream",
          "text": [
            "Using TensorFlow backend.\n"
          ],
          "name": "stderr"
        }
      ]
    },
    {
      "cell_type": "markdown",
      "metadata": {
        "id": "N6irtLIWgdAq",
        "colab_type": "text"
      },
      "source": [
        "### seed 값 설정\n"
      ]
    },
    {
      "cell_type": "code",
      "metadata": {
        "id": "JceWwYmbgdqB",
        "colab_type": "code",
        "colab": {}
      },
      "source": [
        "seed = 0\n",
        "numpy.random.seed(seed)\n",
        "tf.random.set_seed(3)\n",
        "\n"
      ],
      "execution_count": 0,
      "outputs": []
    },
    {
      "cell_type": "markdown",
      "metadata": {
        "id": "gsy6Xdx_gee6",
        "colab_type": "text"
      },
      "source": [
        "### 데이터 불러오기\n",
        "\n"
      ]
    },
    {
      "cell_type": "code",
      "metadata": {
        "id": "5WBt7oAagfad",
        "colab_type": "code",
        "colab": {
          "base_uri": "https://localhost:8080/",
          "height": 51
        },
        "outputId": "6a32f776-e39b-4790-b2f4-2563869f6290"
      },
      "source": [
        "(X_train, Y_train), (X_test, Y_test) = mnist.load_data()\n",
        "X_train = X_train.reshape(X_train.shape[0], 28, 28, 1).astype('float32') / 255\n",
        "X_test = X_test.reshape(X_test.shape[0], 28, 28, 1).astype('float32') / 255\n",
        "Y_train = np_utils.to_categorical(Y_train)\n",
        "Y_test = np_utils.to_categorical(Y_test)\n",
        "\n"
      ],
      "execution_count": 3,
      "outputs": [
        {
          "output_type": "stream",
          "text": [
            "Downloading data from https://s3.amazonaws.com/img-datasets/mnist.npz\n",
            "11493376/11490434 [==============================] - 1s 0us/step\n"
          ],
          "name": "stdout"
        }
      ]
    },
    {
      "cell_type": "markdown",
      "metadata": {
        "id": "HGrcAGvUggRf",
        "colab_type": "text"
      },
      "source": [
        "### 컨볼루션 신경망의 설정\n"
      ]
    },
    {
      "cell_type": "code",
      "metadata": {
        "id": "H7e-WjfHgg2e",
        "colab_type": "code",
        "colab": {}
      },
      "source": [
        "model = Sequential()\n",
        "model.add(Conv2D(32, kernel_size=(3, 3), input_shape=(28, 28, 1), activation='relu'))\n",
        "model.add(Conv2D(64, (3, 3), activation='relu'))\n",
        "model.add(MaxPooling2D(pool_size=2))\n",
        "model.add(Dropout(0.25))\n",
        "model.add(Flatten())\n",
        "model.add(Dense(128,  activation='relu'))\n",
        "model.add(Dropout(0.5))\n",
        "model.add(Dense(10, activation='softmax'))\n",
        "\n",
        "model.compile(loss='categorical_crossentropy',\n",
        "              optimizer='adam',\n",
        "              metrics=['accuracy'])\n",
        "\n"
      ],
      "execution_count": 0,
      "outputs": []
    },
    {
      "cell_type": "markdown",
      "metadata": {
        "id": "AEcbaYQnghye",
        "colab_type": "text"
      },
      "source": [
        "### 모델 최적화 설정\n"
      ]
    },
    {
      "cell_type": "code",
      "metadata": {
        "id": "5EgXZdiCgiUf",
        "colab_type": "code",
        "colab": {}
      },
      "source": [
        "MODEL_DIR = './model/'\n",
        "if not os.path.exists(MODEL_DIR):\n",
        "    os.mkdir(MODEL_DIR)\n",
        "\n",
        "modelpath=\"./model/{epoch:02d}-{val_loss:.4f}.hdf5\"\n",
        "checkpointer = ModelCheckpoint(filepath=modelpath, monitor='val_loss', verbose=1, save_best_only=True)\n",
        "early_stopping_callback = EarlyStopping(monitor='val_loss', patience=10)\n",
        "\n"
      ],
      "execution_count": 0,
      "outputs": []
    },
    {
      "cell_type": "markdown",
      "metadata": {
        "id": "Zqr5CuyMgjFj",
        "colab_type": "text"
      },
      "source": [
        "### 모델의 실행\n"
      ]
    },
    {
      "cell_type": "code",
      "metadata": {
        "id": "EqIeGjx5gjmm",
        "colab_type": "code",
        "colab": {
          "base_uri": "https://localhost:8080/",
          "height": 765
        },
        "outputId": "250941e7-f755-491a-c799-f8bc0f530594"
      },
      "source": [
        "history = model.fit(X_train, Y_train, validation_data=(X_test, Y_test), epochs=30, batch_size=200, verbose=0, callbacks=[early_stopping_callback,checkpointer])\n",
        "\n"
      ],
      "execution_count": 6,
      "outputs": [
        {
          "output_type": "stream",
          "text": [
            "\n",
            "Epoch 00001: val_loss improved from inf to 0.05499, saving model to ./model/01-0.0550.hdf5\n",
            "\n",
            "Epoch 00002: val_loss improved from 0.05499 to 0.04048, saving model to ./model/02-0.0405.hdf5\n",
            "\n",
            "Epoch 00003: val_loss improved from 0.04048 to 0.03251, saving model to ./model/03-0.0325.hdf5\n",
            "\n",
            "Epoch 00004: val_loss did not improve from 0.03251\n",
            "\n",
            "Epoch 00005: val_loss improved from 0.03251 to 0.03181, saving model to ./model/05-0.0318.hdf5\n",
            "\n",
            "Epoch 00006: val_loss improved from 0.03181 to 0.02793, saving model to ./model/06-0.0279.hdf5\n",
            "\n",
            "Epoch 00007: val_loss improved from 0.02793 to 0.02728, saving model to ./model/07-0.0273.hdf5\n",
            "\n",
            "Epoch 00008: val_loss did not improve from 0.02728\n",
            "\n",
            "Epoch 00009: val_loss improved from 0.02728 to 0.02423, saving model to ./model/09-0.0242.hdf5\n",
            "\n",
            "Epoch 00010: val_loss did not improve from 0.02423\n",
            "\n",
            "Epoch 00011: val_loss did not improve from 0.02423\n",
            "\n",
            "Epoch 00012: val_loss improved from 0.02423 to 0.02323, saving model to ./model/12-0.0232.hdf5\n",
            "\n",
            "Epoch 00013: val_loss did not improve from 0.02323\n",
            "\n",
            "Epoch 00014: val_loss did not improve from 0.02323\n",
            "\n",
            "Epoch 00015: val_loss did not improve from 0.02323\n",
            "\n",
            "Epoch 00016: val_loss did not improve from 0.02323\n",
            "\n",
            "Epoch 00017: val_loss did not improve from 0.02323\n",
            "\n",
            "Epoch 00018: val_loss did not improve from 0.02323\n",
            "\n",
            "Epoch 00019: val_loss did not improve from 0.02323\n",
            "\n",
            "Epoch 00020: val_loss did not improve from 0.02323\n",
            "\n",
            "Epoch 00021: val_loss did not improve from 0.02323\n",
            "\n",
            "Epoch 00022: val_loss did not improve from 0.02323\n"
          ],
          "name": "stdout"
        }
      ]
    },
    {
      "cell_type": "markdown",
      "metadata": {
        "id": "27y1reuTgkQH",
        "colab_type": "text"
      },
      "source": [
        "### 테스트 정확도 출력\n"
      ]
    },
    {
      "cell_type": "code",
      "metadata": {
        "id": "Qi-FIgR0gkxq",
        "colab_type": "code",
        "colab": {
          "base_uri": "https://localhost:8080/",
          "height": 68
        },
        "outputId": "ce24007b-1b2f-4961-bea4-cf22c1758beb"
      },
      "source": [
        "print(\"\\n Test Accuracy: %.4f\" % (model.evaluate(X_test, Y_test)[1]))\n",
        "\n"
      ],
      "execution_count": 7,
      "outputs": [
        {
          "output_type": "stream",
          "text": [
            "10000/10000 [==============================] - 1s 65us/step\n",
            "\n",
            " Test Accuracy: 0.9932\n"
          ],
          "name": "stdout"
        }
      ]
    },
    {
      "cell_type": "markdown",
      "metadata": {
        "id": "hYzzsgEKglXO",
        "colab_type": "text"
      },
      "source": [
        "### 테스트 셋의 오차\n"
      ]
    },
    {
      "cell_type": "code",
      "metadata": {
        "id": "XP9cWdFSgl68",
        "colab_type": "code",
        "colab": {}
      },
      "source": [
        "y_vloss = history.history['val_loss']\n",
        "\n"
      ],
      "execution_count": 0,
      "outputs": []
    },
    {
      "cell_type": "markdown",
      "metadata": {
        "id": "38xNj8YSgmqQ",
        "colab_type": "text"
      },
      "source": [
        "### 학습셋의 오차\n"
      ]
    },
    {
      "cell_type": "code",
      "metadata": {
        "id": "OkRaEbV2gnKE",
        "colab_type": "code",
        "colab": {}
      },
      "source": [
        "y_loss = history.history['loss']\n",
        "\n"
      ],
      "execution_count": 0,
      "outputs": []
    },
    {
      "cell_type": "markdown",
      "metadata": {
        "id": "G8INxa-6gnxX",
        "colab_type": "text"
      },
      "source": [
        "### 그래프로 표현\n"
      ]
    },
    {
      "cell_type": "code",
      "metadata": {
        "id": "6lRMkwl-goTL",
        "colab_type": "code",
        "colab": {
          "base_uri": "https://localhost:8080/",
          "height": 282
        },
        "outputId": "f1f1c10e-aac2-49ac-8291-c2c7a3c4cf80"
      },
      "source": [
        "x_len = numpy.arange(len(y_loss))\n",
        "plt.plot(x_len, y_vloss, marker='.', c=\"red\", label='Testset_loss')\n",
        "plt.plot(x_len, y_loss, marker='.', c=\"blue\", label='Trainset_loss')\n",
        "\n"
      ],
      "execution_count": 10,
      "outputs": [
        {
          "output_type": "execute_result",
          "data": {
            "text/plain": [
              "[<matplotlib.lines.Line2D at 0x7fb7301dbf28>]"
            ]
          },
          "metadata": {
            "tags": []
          },
          "execution_count": 10
        },
        {
          "output_type": "display_data",
          "data": {
            "image/png": "[encoded data removed]",
            "text/plain": [
              "<Figure size 432x288 with 1 Axes>"
            ]
          },
          "metadata": {
            "tags": [],
            "needs_background": "light"
          }
        }
      ]
    },
    {
      "cell_type": "markdown",
      "metadata": {
        "id": "1xUUyOgjgo_j",
        "colab_type": "text"
      },
      "source": [
        "### 그래프에 그리드를 주고 레이블을 표시\n"
      ]
    },
    {
      "cell_type": "code",
      "metadata": {
        "id": "jLUUTBswgpgx",
        "colab_type": "code",
        "colab": {
          "base_uri": "https://localhost:8080/",
          "height": 300
        },
        "outputId": "91bca96c-b5d4-4964-ff11-f3d0063f3e34"
      },
      "source": [
        "plt.legend(loc='upper right')\n",
        "plt.grid()\n",
        "plt.xlabel('epoch')\n",
        "plt.ylabel('loss')\n",
        "plt.show()\n"
      ],
      "execution_count": 11,
      "outputs": [
        {
          "output_type": "stream",
          "text": [
            "No handles with labels found to put in legend.\n"
          ],
          "name": "stderr"
        },
        {
          "output_type": "display_data",
          "data": {
            "image/png": "[encoded data removed]",
            "text/plain": [
              "<Figure size 432x288 with 1 Axes>"
            ]
          },
          "metadata": {
            "tags": [],
            "needs_background": "light"
          }
        }
      ]
    },
    {
      "cell_type": "code",
      "metadata": {
        "id": "3cNknQ4jt_T0",
        "colab_type": "code",
        "colab": {}
      },
      "source": [
        ""
      ],
      "execution_count": 0,
      "outputs": []
    }
  ]
}