{
  "nbformat": 4,
  "nbformat_minor": 0,
  "metadata": {
    "kernelspec": {
      "display_name": "Python 3",
      "language": "python",
      "name": "python3"
    },
    "language_info": {
      "codemirror_mode": {
        "name": "ipython",
        "version": 3
      },
      "file_extension": ".py",
      "mimetype": "text/x-python",
      "name": "python",
      "nbconvert_exporter": "python",
      "pygments_lexer": "ipython3",
      "version": "3.6.9"
    },
    "colab": {
      "name": "21_Autoencoder.ipynb",
      "provenance": [],
      "include_colab_link": true
    },
    "accelerator": "GPU"
  },
  "cells": [
    {
      "cell_type": "markdown",
      "metadata": {
        "id": "view-in-github",
        "colab_type": "text"
      },
      "source": [
        "<a href=\"https://colab.research.google.com/github/junhansong/deeplearning/blob/master/deeplearning/run_project/21_Autoencoder.ipynb\" target=\"_parent\"><img src=\"https://colab.research.google.com/assets/colab-badge.svg\" alt=\"Open In Colab\"/></a>"
      ]
    },
    {
      "cell_type": "markdown",
      "metadata": {
        "id": "wWE-xHYp62NI",
        "colab_type": "text"
      },
      "source": [
        "### 라이브러리 호출\n"
      ]
    },
    {
      "cell_type": "code",
      "metadata": {
        "id": "v2hC8RHg5jsh",
        "colab_type": "code",
        "colab": {}
      },
      "source": [
        "from tensorflow.keras.datasets import mnist\n",
        "from tensorflow.keras.models import Sequential, Model\n",
        "from tensorflow.keras.layers import Input, Dense, Conv2D, MaxPooling2D, UpSampling2D, Flatten, Reshape\n",
        "import matplotlib.pyplot as plt\n",
        "import numpy as np\n",
        "\n"
      ],
      "execution_count": 0,
      "outputs": []
    },
    {
      "cell_type": "markdown",
      "metadata": {
        "id": "8XzpEbVQ5kpW",
        "colab_type": "text"
      },
      "source": [
        "### MNIST데이터 셋을 불러옵니다.\n",
        "\n"
      ]
    },
    {
      "cell_type": "code",
      "metadata": {
        "id": "hF1zEex25liF",
        "colab_type": "code",
        "colab": {
          "base_uri": "https://localhost:8080/",
          "height": 51
        },
        "outputId": "97aa9ef0-8fd6-4ad9-ce63-b5890419bda0"
      },
      "source": [
        "(X_train, _), (X_test, _) = mnist.load_data()\n",
        "X_train = X_train.reshape(X_train.shape[0], 28, 28, 1).astype('float32') / 255\n",
        "X_test = X_test.reshape(X_test.shape[0], 28, 28, 1).astype('float32') / 255\n",
        "\n"
      ],
      "execution_count": 2,
      "outputs": [
        {
          "output_type": "stream",
          "text": [
            "Downloading data from https://storage.googleapis.com/tensorflow/tf-keras-datasets/mnist.npz\n",
            "11493376/11490434 [==============================] - 0s 0us/step\n"
          ],
          "name": "stdout"
        }
      ]
    },
    {
      "cell_type": "markdown",
      "metadata": {
        "id": "1JtiH5tq5mQs",
        "colab_type": "text"
      },
      "source": [
        "### 생성자 모델을 만듭니다.\n"
      ]
    },
    {
      "cell_type": "code",
      "metadata": {
        "id": "d23ckD5t5nAo",
        "colab_type": "code",
        "colab": {}
      },
      "source": [
        "autoencoder = Sequential()\n",
        "\n"
      ],
      "execution_count": 0,
      "outputs": []
    },
    {
      "cell_type": "markdown",
      "metadata": {
        "id": "kVNkhFv05noh",
        "colab_type": "text"
      },
      "source": [
        "### 인코딩 부분입니다.\n"
      ]
    },
    {
      "cell_type": "code",
      "metadata": {
        "id": "JIrbIF_A5oPL",
        "colab_type": "code",
        "colab": {}
      },
      "source": [
        "autoencoder.add(Conv2D(16, kernel_size=3, padding='same', input_shape=(28,28,1), activation='relu'))\n",
        "autoencoder.add(MaxPooling2D(pool_size=2, padding='same'))\n",
        "autoencoder.add(Conv2D(8, kernel_size=3, activation='relu', padding='same'))\n",
        "autoencoder.add(MaxPooling2D(pool_size=2, padding='same'))\n",
        "autoencoder.add(Conv2D(8, kernel_size=3, strides=2, padding='same', activation='relu'))\n",
        "\n"
      ],
      "execution_count": 0,
      "outputs": []
    },
    {
      "cell_type": "markdown",
      "metadata": {
        "id": "WeA9GV325pJd",
        "colab_type": "text"
      },
      "source": [
        "### 디코딩 부분이 이어집니다. \n"
      ]
    },
    {
      "cell_type": "code",
      "metadata": {
        "id": "FKtm4znh5prP",
        "colab_type": "code",
        "colab": {}
      },
      "source": [
        "autoencoder.add(Conv2D(8, kernel_size=3, padding='same', activation='relu'))\n",
        "autoencoder.add(UpSampling2D())\n",
        "autoencoder.add(Conv2D(8, kernel_size=3, padding='same', activation='relu'))\n",
        "autoencoder.add(UpSampling2D())\n",
        "autoencoder.add(Conv2D(16, kernel_size=3, activation='relu'))\n",
        "autoencoder.add(UpSampling2D())\n",
        "autoencoder.add(Conv2D(1, kernel_size=3, padding='same', activation='sigmoid'))\n",
        "\n"
      ],
      "execution_count": 0,
      "outputs": []
    },
    {
      "cell_type": "markdown",
      "metadata": {
        "id": "pE5UinZ35qiY",
        "colab_type": "text"
      },
      "source": [
        "### 전체 구조를 확인해 봅니다.\n"
      ]
    },
    {
      "cell_type": "code",
      "metadata": {
        "id": "gE0I2IoM5rBn",
        "colab_type": "code",
        "colab": {
          "base_uri": "https://localhost:8080/",
          "height": 561
        },
        "outputId": "00dc8d70-e44d-44f6-f055-1ec7e39de539"
      },
      "source": [
        "autoencoder.summary()\n",
        "\n"
      ],
      "execution_count": 6,
      "outputs": [
        {
          "output_type": "stream",
          "text": [
            "Model: \"sequential\"\n",
            "_________________________________________________________________\n",
            "Layer (type)                 Output Shape              Param #   \n",
            "=================================================================\n",
            "conv2d (Conv2D)              (None, 28, 28, 16)        160       \n",
            "_________________________________________________________________\n",
            "max_pooling2d (MaxPooling2D) (None, 14, 14, 16)        0         \n",
            "_________________________________________________________________\n",
            "conv2d_1 (Conv2D)            (None, 14, 14, 8)         1160      \n",
            "_________________________________________________________________\n",
            "max_pooling2d_1 (MaxPooling2 (None, 7, 7, 8)           0         \n",
            "_________________________________________________________________\n",
            "conv2d_2 (Conv2D)            (None, 4, 4, 8)           584       \n",
            "_________________________________________________________________\n",
            "conv2d_3 (Conv2D)            (None, 4, 4, 8)           584       \n",
            "_________________________________________________________________\n",
            "up_sampling2d (UpSampling2D) (None, 8, 8, 8)           0         \n",
            "_________________________________________________________________\n",
            "conv2d_4 (Conv2D)            (None, 8, 8, 8)           584       \n",
            "_________________________________________________________________\n",
            "up_sampling2d_1 (UpSampling2 (None, 16, 16, 8)         0         \n",
            "_________________________________________________________________\n",
            "conv2d_5 (Conv2D)            (None, 14, 14, 16)        1168      \n",
            "_________________________________________________________________\n",
            "up_sampling2d_2 (UpSampling2 (None, 28, 28, 16)        0         \n",
            "_________________________________________________________________\n",
            "conv2d_6 (Conv2D)            (None, 28, 28, 1)         145       \n",
            "=================================================================\n",
            "Total params: 4,385\n",
            "Trainable params: 4,385\n",
            "Non-trainable params: 0\n",
            "_________________________________________________________________\n"
          ],
          "name": "stdout"
        }
      ]
    },
    {
      "cell_type": "markdown",
      "metadata": {
        "id": "LUxo8eHf5rok",
        "colab_type": "text"
      },
      "source": [
        "### 컴파일 및 학습을 하는 부분입니다.\n"
      ]
    },
    {
      "cell_type": "code",
      "metadata": {
        "id": "ob4E_eou5sHR",
        "colab_type": "code",
        "colab": {
          "base_uri": "https://localhost:8080/",
          "height": 1000
        },
        "outputId": "01a1b6fc-5a02-4168-893a-983ebd571fef"
      },
      "source": [
        "autoencoder.compile(optimizer='adam', loss='binary_crossentropy')\n",
        "autoencoder.fit(X_train, X_train, epochs=50, batch_size=128, validation_data=(X_test, X_test))\n",
        "\n"
      ],
      "execution_count": 7,
      "outputs": [
        {
          "output_type": "stream",
          "text": [
            "Epoch 1/50\n",
            "469/469 [==============================] - 5s 11ms/step - loss: 0.2061 - val_loss: 0.1375\n",
            "Epoch 2/50\n",
            "469/469 [==============================] - 4s 9ms/step - loss: 0.1270 - val_loss: 0.1174\n",
            "Epoch 3/50\n",
            "469/469 [==============================] - 4s 9ms/step - loss: 0.1139 - val_loss: 0.1083\n",
            "Epoch 4/50\n",
            "469/469 [==============================] - 4s 9ms/step - loss: 0.1065 - val_loss: 0.1025\n",
            "Epoch 5/50\n",
            "469/469 [==============================] - 4s 9ms/step - loss: 0.1022 - val_loss: 0.0995\n",
            "Epoch 6/50\n",
            "469/469 [==============================] - 4s 9ms/step - loss: 0.0992 - val_loss: 0.0971\n",
            "Epoch 7/50\n",
            "469/469 [==============================] - 4s 9ms/step - loss: 0.0969 - val_loss: 0.0947\n",
            "Epoch 8/50\n",
            "469/469 [==============================] - 4s 9ms/step - loss: 0.0952 - val_loss: 0.0931\n",
            "Epoch 9/50\n",
            "469/469 [==============================] - 4s 9ms/step - loss: 0.0937 - val_loss: 0.0917\n",
            "Epoch 10/50\n",
            "469/469 [==============================] - 4s 9ms/step - loss: 0.0924 - val_loss: 0.0906\n",
            "Epoch 11/50\n",
            "469/469 [==============================] - 4s 9ms/step - loss: 0.0914 - val_loss: 0.0897\n",
            "Epoch 12/50\n",
            "469/469 [==============================] - 4s 9ms/step - loss: 0.0905 - val_loss: 0.0892\n",
            "Epoch 13/50\n",
            "469/469 [==============================] - 4s 9ms/step - loss: 0.0897 - val_loss: 0.0881\n",
            "Epoch 14/50\n",
            "469/469 [==============================] - 4s 9ms/step - loss: 0.0890 - val_loss: 0.0887\n",
            "Epoch 15/50\n",
            "469/469 [==============================] - 4s 9ms/step - loss: 0.0883 - val_loss: 0.0871\n",
            "Epoch 16/50\n",
            "469/469 [==============================] - 4s 9ms/step - loss: 0.0878 - val_loss: 0.0863\n",
            "Epoch 17/50\n",
            "469/469 [==============================] - 4s 10ms/step - loss: 0.0872 - val_loss: 0.0859\n",
            "Epoch 18/50\n",
            "469/469 [==============================] - 5s 10ms/step - loss: 0.0867 - val_loss: 0.0855\n",
            "Epoch 19/50\n",
            "469/469 [==============================] - 4s 9ms/step - loss: 0.0862 - val_loss: 0.0849\n",
            "Epoch 20/50\n",
            "469/469 [==============================] - 4s 9ms/step - loss: 0.0858 - val_loss: 0.0846\n",
            "Epoch 21/50\n",
            "469/469 [==============================] - 4s 9ms/step - loss: 0.0855 - val_loss: 0.0842\n",
            "Epoch 22/50\n",
            "469/469 [==============================] - 4s 9ms/step - loss: 0.0852 - val_loss: 0.0840\n",
            "Epoch 23/50\n",
            "469/469 [==============================] - 4s 9ms/step - loss: 0.0848 - val_loss: 0.0836\n",
            "Epoch 24/50\n",
            "469/469 [==============================] - 4s 9ms/step - loss: 0.0845 - val_loss: 0.0837\n",
            "Epoch 25/50\n",
            "469/469 [==============================] - 4s 9ms/step - loss: 0.0843 - val_loss: 0.0835\n",
            "Epoch 26/50\n",
            "469/469 [==============================] - 4s 10ms/step - loss: 0.0840 - val_loss: 0.0829\n",
            "Epoch 27/50\n",
            "469/469 [==============================] - 4s 9ms/step - loss: 0.0838 - val_loss: 0.0827\n",
            "Epoch 28/50\n",
            "469/469 [==============================] - 4s 9ms/step - loss: 0.0836 - val_loss: 0.0826\n",
            "Epoch 29/50\n",
            "469/469 [==============================] - 4s 9ms/step - loss: 0.0834 - val_loss: 0.0823\n",
            "Epoch 30/50\n",
            "469/469 [==============================] - 4s 9ms/step - loss: 0.0832 - val_loss: 0.0819\n",
            "Epoch 31/50\n",
            "469/469 [==============================] - 4s 9ms/step - loss: 0.0830 - val_loss: 0.0819\n",
            "Epoch 32/50\n",
            "469/469 [==============================] - 4s 9ms/step - loss: 0.0829 - val_loss: 0.0817\n",
            "Epoch 33/50\n",
            "469/469 [==============================] - 4s 9ms/step - loss: 0.0827 - val_loss: 0.0816\n",
            "Epoch 34/50\n",
            "469/469 [==============================] - 4s 9ms/step - loss: 0.0826 - val_loss: 0.0818\n",
            "Epoch 35/50\n",
            "469/469 [==============================] - 4s 9ms/step - loss: 0.0824 - val_loss: 0.0819\n",
            "Epoch 36/50\n",
            "469/469 [==============================] - 4s 9ms/step - loss: 0.0823 - val_loss: 0.0811\n",
            "Epoch 37/50\n",
            "469/469 [==============================] - 4s 9ms/step - loss: 0.0821 - val_loss: 0.0811\n",
            "Epoch 38/50\n",
            "469/469 [==============================] - 4s 9ms/step - loss: 0.0820 - val_loss: 0.0809\n",
            "Epoch 39/50\n",
            "469/469 [==============================] - 4s 9ms/step - loss: 0.0819 - val_loss: 0.0807\n",
            "Epoch 40/50\n",
            "469/469 [==============================] - 4s 9ms/step - loss: 0.0818 - val_loss: 0.0809\n",
            "Epoch 41/50\n",
            "469/469 [==============================] - 4s 9ms/step - loss: 0.0817 - val_loss: 0.0805\n",
            "Epoch 42/50\n",
            "469/469 [==============================] - 4s 9ms/step - loss: 0.0815 - val_loss: 0.0805\n",
            "Epoch 43/50\n",
            "469/469 [==============================] - 4s 9ms/step - loss: 0.0814 - val_loss: 0.0803\n",
            "Epoch 44/50\n",
            "469/469 [==============================] - 4s 9ms/step - loss: 0.0814 - val_loss: 0.0802\n",
            "Epoch 45/50\n",
            "469/469 [==============================] - 4s 9ms/step - loss: 0.0812 - val_loss: 0.0802\n",
            "Epoch 46/50\n",
            "469/469 [==============================] - 4s 9ms/step - loss: 0.0812 - val_loss: 0.0803\n",
            "Epoch 47/50\n",
            "469/469 [==============================] - 4s 9ms/step - loss: 0.0810 - val_loss: 0.0804\n",
            "Epoch 48/50\n",
            "469/469 [==============================] - 4s 9ms/step - loss: 0.0809 - val_loss: 0.0802\n",
            "Epoch 49/50\n",
            "469/469 [==============================] - 4s 9ms/step - loss: 0.0808 - val_loss: 0.0798\n",
            "Epoch 50/50\n",
            "469/469 [==============================] - 4s 9ms/step - loss: 0.0807 - val_loss: 0.0798\n"
          ],
          "name": "stdout"
        },
        {
          "output_type": "execute_result",
          "data": {
            "text/plain": [
              "<tensorflow.python.keras.callbacks.History at 0x7f6740314710>"
            ]
          },
          "metadata": {
            "tags": []
          },
          "execution_count": 7
        }
      ]
    },
    {
      "cell_type": "markdown",
      "metadata": {
        "id": "DlHcUpx55s-2",
        "colab_type": "text"
      },
      "source": [
        "### 학습된 결과를 출력하는 부분입니다.\n"
      ]
    },
    {
      "cell_type": "code",
      "metadata": {
        "id": "pqahwwYm5td6",
        "colab_type": "code",
        "colab": {
          "base_uri": "https://localhost:8080/",
          "height": 138
        },
        "outputId": "052e9937-47e2-462c-9e34-d32418756933"
      },
      "source": [
        "random_test = np.random.randint(X_test.shape[0], size=5)  #테스트할 이미지를 랜덤하게 불러옵니다.\n",
        "ae_imgs = autoencoder.predict(X_test)  #앞서 만든 오토인코더 모델에 집어 넣습니다.\n",
        "\n",
        "plt.figure(figsize=(7, 2))  #출력될 이미지의 크기를 정합니다.\n",
        "\n",
        "for i, image_idx in enumerate(random_test):    #랜덤하게 뽑은 이미지를 차례로 나열합니다.\n",
        "   ax = plt.subplot(2, 7, i + 1) \n",
        "   plt.imshow(X_test[image_idx].reshape(28, 28))  #테스트할 이미지를 먼저 그대로 보여줍니다.\n",
        "   ax.axis('off')\n",
        "   ax = plt.subplot(2, 7, 7 + i +1)\n",
        "   plt.imshow(ae_imgs[image_idx].reshape(28, 28))  #오토인코딩 결과를 다음열에 출력합니다.\n",
        "   ax.axis('off')\n",
        "plt.show()\n"
      ],
      "execution_count": 8,
      "outputs": [
        {
          "output_type": "display_data",
          "data": {
            "image/png": "[encoded data removed]",
            "text/plain": [
              "<Figure size 504x144 with 10 Axes>"
            ]
          },
          "metadata": {
            "tags": [],
            "needs_background": "light"
          }
        }
      ]
    },
    {
      "cell_type": "code",
      "metadata": {
        "id": "RAi5Tq3062NQ",
        "colab_type": "code",
        "colab": {}
      },
      "source": [
        ""
      ],
      "execution_count": 0,
      "outputs": []
    }
  ]
}