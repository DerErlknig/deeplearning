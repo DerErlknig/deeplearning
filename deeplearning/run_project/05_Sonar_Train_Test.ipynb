{
  "nbformat": 4,
  "nbformat_minor": 0,
  "metadata": {
    "kernelspec": {
      "display_name": "Python 3",
      "language": "python",
      "name": "python3"
    },
    "language_info": {
      "codemirror_mode": {
        "name": "ipython",
        "version": 3
      },
      "file_extension": ".py",
      "mimetype": "text/x-python",
      "name": "python",
      "nbconvert_exporter": "python",
      "pygments_lexer": "ipython3",
      "version": "3.7.3"
    },
    "colab": {
      "name": "05_Sonar_Train_Test.ipynb",
      "provenance": [],
      "include_colab_link": true
    }
  },
  "cells": [
    {
      "cell_type": "markdown",
      "metadata": {
        "id": "view-in-github",
        "colab_type": "text"
      },
      "source": [
        "<a href=\"https://colab.research.google.com/github/junhansong/deeplearning/blob/master/deeplearning/run_project/05_Sonar_Train_Test.ipynb\" target=\"_parent\"><img src=\"https://colab.research.google.com/assets/colab-badge.svg\" alt=\"Open In Colab\"/></a>"
      ]
    },
    {
      "cell_type": "markdown",
      "metadata": {
        "id": "gcBgbunefOAl",
        "colab_type": "text"
      },
      "source": [
        "### 라이브러리 호출"
      ]
    },
    {
      "cell_type": "code",
      "metadata": {
        "id": "tRFyO_gmo5Mm",
        "colab_type": "code",
        "colab": {}
      },
      "source": [
        "from keras.models import Sequential\n",
        "from keras.layers.core import Dense\n",
        "from sklearn.preprocessing import LabelEncoder\n",
        "from sklearn.model_selection import train_test_split\n",
        "\n",
        "import pandas as pd\n",
        "import numpy\n",
        "import tensorflow as tf\n",
        "\n"
      ],
      "execution_count": 0,
      "outputs": []
    },
    {
      "cell_type": "markdown",
      "metadata": {
        "id": "5QPwkqu8enqw",
        "colab_type": "text"
      },
      "source": [
        "### seed 값 설정\n"
      ]
    },
    {
      "cell_type": "code",
      "metadata": {
        "id": "HB3Lq1Cpeobx",
        "colab_type": "code",
        "colab": {}
      },
      "source": [
        "seed = 0\n",
        "numpy.random.seed(seed)\n",
        "tf.random.set_seed(3)\n",
        "\n"
      ],
      "execution_count": 0,
      "outputs": []
    },
    {
      "cell_type": "markdown",
      "metadata": {
        "id": "s9x_SmHce1a2",
        "colab_type": "text"
      },
      "source": [
        "### 데이터 로드\n"
      ]
    },
    {
      "cell_type": "code",
      "metadata": {
        "id": "Hu1WqJGYfpkH",
        "colab_type": "code",
        "colab": {}
      },
      "source": [
        "df = pd.read_csv('https://raw.githubusercontent.com/junhansong/deeplearning/master/deeplearning/dataset/sonar.csv', header=None)\n",
        "\n"
      ],
      "execution_count": 0,
      "outputs": []
    },
    {
      "cell_type": "markdown",
      "metadata": {
        "id": "Y05UhIWgfsZv",
        "colab_type": "text"
      },
      "source": [
        "### 데이터 간략히 보기\n"
      ]
    },
    {
      "cell_type": "code",
      "metadata": {
        "id": "8njHEFIRfxVt",
        "colab_type": "code",
        "colab": {
          "base_uri": "https://localhost:8080/",
          "height": 1000
        },
        "outputId": "b05a305a-162a-4acc-bbad-1de4cf614875"
      },
      "source": [
        "print(df.info())\n",
        "print(df.head())\n",
        "\n"
      ],
      "execution_count": 14,
      "outputs": [
        {
          "output_type": "stream",
          "text": [
            "<class 'pandas.core.frame.DataFrame'>\n",
            "RangeIndex: 208 entries, 0 to 207\n",
            "Data columns (total 61 columns):\n",
            " #   Column  Non-Null Count  Dtype  \n",
            "---  ------  --------------  -----  \n",
            " 0   0       208 non-null    float64\n",
            " 1   1       208 non-null    float64\n",
            " 2   2       208 non-null    float64\n",
            " 3   3       208 non-null    float64\n",
            " 4   4       208 non-null    float64\n",
            " 5   5       208 non-null    float64\n",
            " 6   6       208 non-null    float64\n",
            " 7   7       208 non-null    float64\n",
            " 8   8       208 non-null    float64\n",
            " 9   9       208 non-null    float64\n",
            " 10  10      208 non-null    float64\n",
            " 11  11      208 non-null    float64\n",
            " 12  12      208 non-null    float64\n",
            " 13  13      208 non-null    float64\n",
            " 14  14      208 non-null    float64\n",
            " 15  15      208 non-null    float64\n",
            " 16  16      208 non-null    float64\n",
            " 17  17      208 non-null    float64\n",
            " 18  18      208 non-null    float64\n",
            " 19  19      208 non-null    float64\n",
            " 20  20      208 non-null    float64\n",
            " 21  21      208 non-null    float64\n",
            " 22  22      208 non-null    float64\n",
            " 23  23      208 non-null    float64\n",
            " 24  24      208 non-null    float64\n",
            " 25  25      208 non-null    float64\n",
            " 26  26      208 non-null    float64\n",
            " 27  27      208 non-null    float64\n",
            " 28  28      208 non-null    float64\n",
            " 29  29      208 non-null    float64\n",
            " 30  30      208 non-null    float64\n",
            " 31  31      208 non-null    float64\n",
            " 32  32      208 non-null    float64\n",
            " 33  33      208 non-null    float64\n",
            " 34  34      208 non-null    float64\n",
            " 35  35      208 non-null    float64\n",
            " 36  36      208 non-null    float64\n",
            " 37  37      208 non-null    float64\n",
            " 38  38      208 non-null    float64\n",
            " 39  39      208 non-null    float64\n",
            " 40  40      208 non-null    float64\n",
            " 41  41      208 non-null    float64\n",
            " 42  42      208 non-null    float64\n",
            " 43  43      208 non-null    float64\n",
            " 44  44      208 non-null    float64\n",
            " 45  45      208 non-null    float64\n",
            " 46  46      208 non-null    float64\n",
            " 47  47      208 non-null    float64\n",
            " 48  48      208 non-null    float64\n",
            " 49  49      208 non-null    float64\n",
            " 50  50      208 non-null    float64\n",
            " 51  51      208 non-null    float64\n",
            " 52  52      208 non-null    float64\n",
            " 53  53      208 non-null    float64\n",
            " 54  54      208 non-null    float64\n",
            " 55  55      208 non-null    float64\n",
            " 56  56      208 non-null    float64\n",
            " 57  57      208 non-null    float64\n",
            " 58  58      208 non-null    float64\n",
            " 59  59      208 non-null    float64\n",
            " 60  60      208 non-null    object \n",
            "dtypes: float64(60), object(1)\n",
            "memory usage: 99.2+ KB\n",
            "None\n",
            "       0       1       2       3       4   ...      56      57      58      59  60\n",
            "0  0.0200  0.0371  0.0428  0.0207  0.0954  ...  0.0180  0.0084  0.0090  0.0032   R\n",
            "1  0.0453  0.0523  0.0843  0.0689  0.1183  ...  0.0140  0.0049  0.0052  0.0044   R\n",
            "2  0.0262  0.0582  0.1099  0.1083  0.0974  ...  0.0316  0.0164  0.0095  0.0078   R\n",
            "3  0.0100  0.0171  0.0623  0.0205  0.0205  ...  0.0050  0.0044  0.0040  0.0117   R\n",
            "4  0.0762  0.0666  0.0481  0.0394  0.0590  ...  0.0072  0.0048  0.0107  0.0094   R\n",
            "\n",
            "[5 rows x 61 columns]\n"
          ],
          "name": "stdout"
        }
      ]
    },
    {
      "cell_type": "markdown",
      "metadata": {
        "id": "HObxLLL9e7cG",
        "colab_type": "text"
      },
      "source": [
        "### 데이터 셋 분리하기\n"
      ]
    },
    {
      "cell_type": "code",
      "metadata": {
        "id": "EEHlglO0f6Mu",
        "colab_type": "code",
        "colab": {}
      },
      "source": [
        "dataset = df.values\n",
        "X = dataset[:,0:60]\n",
        "Y_obj = dataset[:,60]\n",
        "\n"
      ],
      "execution_count": 0,
      "outputs": []
    },
    {
      "cell_type": "markdown",
      "metadata": {
        "id": "pKajiaxCe8wo",
        "colab_type": "text"
      },
      "source": [
        "### 문자열을 숫자로 바꿔주기\n"
      ]
    },
    {
      "cell_type": "code",
      "metadata": {
        "id": "ASwKxFgWgVfw",
        "colab_type": "code",
        "colab": {}
      },
      "source": [
        "e = LabelEncoder()\n",
        "e.fit(Y_obj)\n",
        "Y = e.transform(Y_obj)\n",
        "\n"
      ],
      "execution_count": 0,
      "outputs": []
    },
    {
      "cell_type": "markdown",
      "metadata": {
        "id": "eGdkvybFe9ns",
        "colab_type": "text"
      },
      "source": [
        "### 학습 셋과 테스트 셋의 구분\n"
      ]
    },
    {
      "cell_type": "code",
      "metadata": {
        "id": "psrH0SZAe-Pz",
        "colab_type": "code",
        "colab": {}
      },
      "source": [
        "X_train, X_test, Y_train, Y_test = train_test_split(X, Y, test_size=0.3, random_state=seed)\n",
        "\n"
      ],
      "execution_count": 0,
      "outputs": []
    },
    {
      "cell_type": "markdown",
      "metadata": {
        "id": "nxmPmta8fARP",
        "colab_type": "text"
      },
      "source": [
        "### 모델 정의하기\n"
      ]
    },
    {
      "cell_type": "code",
      "metadata": {
        "id": "zF5VDXj6ghdE",
        "colab_type": "code",
        "colab": {}
      },
      "source": [
        "model = Sequential()\n",
        "model.add(Dense(24,  input_dim=60, activation='relu'))\n",
        "model.add(Dense(10, activation='relu'))\n",
        "model.add(Dense(1, activation='sigmoid'))\n",
        "\n"
      ],
      "execution_count": 0,
      "outputs": []
    },
    {
      "cell_type": "markdown",
      "metadata": {
        "id": "RMMDV1UmfBtu",
        "colab_type": "text"
      },
      "source": [
        "### 모델 컴파일 하기\n"
      ]
    },
    {
      "cell_type": "code",
      "metadata": {
        "id": "sK1XFPM1gmxG",
        "colab_type": "code",
        "colab": {}
      },
      "source": [
        "model.compile(loss='mean_squared_error',\n",
        "            optimizer='adam',\n",
        "            metrics=['accuracy'])\n",
        "\n"
      ],
      "execution_count": 0,
      "outputs": []
    },
    {
      "cell_type": "markdown",
      "metadata": {
        "id": "ALAOiacUfCdb",
        "colab_type": "text"
      },
      "source": [
        "### 모델 실행하기\n"
      ]
    },
    {
      "cell_type": "code",
      "metadata": {
        "id": "apeCXzPEgrpY",
        "colab_type": "code",
        "colab": {
          "base_uri": "https://localhost:8080/",
          "height": 1000
        },
        "outputId": "cda2a3be-0bbe-4f2c-8e0b-348f71487c81"
      },
      "source": [
        "model.fit(X_train, Y_train, epochs=130, batch_size=5)\n",
        "\n"
      ],
      "execution_count": 20,
      "outputs": [
        {
          "output_type": "stream",
          "text": [
            "Epoch 1/130\n",
            "145/145 [==============================] - 0s 754us/step - loss: 0.2485 - accuracy: 0.5379\n",
            "Epoch 2/130\n",
            "145/145 [==============================] - 0s 224us/step - loss: 0.2330 - accuracy: 0.5724\n",
            "Epoch 3/130\n",
            "145/145 [==============================] - 0s 214us/step - loss: 0.2223 - accuracy: 0.7034\n",
            "Epoch 4/130\n",
            "145/145 [==============================] - 0s 329us/step - loss: 0.2121 - accuracy: 0.6966\n",
            "Epoch 5/130\n",
            "145/145 [==============================] - 0s 224us/step - loss: 0.2035 - accuracy: 0.7310\n",
            "Epoch 6/130\n",
            "145/145 [==============================] - 0s 232us/step - loss: 0.1967 - accuracy: 0.7793\n",
            "Epoch 7/130\n",
            "145/145 [==============================] - 0s 298us/step - loss: 0.1876 - accuracy: 0.7724\n",
            "Epoch 8/130\n",
            "145/145 [==============================] - 0s 225us/step - loss: 0.1778 - accuracy: 0.7655\n",
            "Epoch 9/130\n",
            "145/145 [==============================] - 0s 249us/step - loss: 0.1660 - accuracy: 0.8000\n",
            "Epoch 10/130\n",
            "145/145 [==============================] - 0s 233us/step - loss: 0.1603 - accuracy: 0.8000\n",
            "Epoch 11/130\n",
            "145/145 [==============================] - 0s 243us/step - loss: 0.1531 - accuracy: 0.8345\n",
            "Epoch 12/130\n",
            "145/145 [==============================] - 0s 238us/step - loss: 0.1539 - accuracy: 0.7448\n",
            "Epoch 13/130\n",
            "145/145 [==============================] - 0s 227us/step - loss: 0.1460 - accuracy: 0.8207\n",
            "Epoch 14/130\n",
            "145/145 [==============================] - 0s 252us/step - loss: 0.1368 - accuracy: 0.8345\n",
            "Epoch 15/130\n",
            "145/145 [==============================] - 0s 227us/step - loss: 0.1331 - accuracy: 0.8483\n",
            "Epoch 16/130\n",
            "145/145 [==============================] - 0s 232us/step - loss: 0.1292 - accuracy: 0.8276\n",
            "Epoch 17/130\n",
            "145/145 [==============================] - 0s 229us/step - loss: 0.1274 - accuracy: 0.8414\n",
            "Epoch 18/130\n",
            "145/145 [==============================] - 0s 226us/step - loss: 0.1242 - accuracy: 0.8621\n",
            "Epoch 19/130\n",
            "145/145 [==============================] - 0s 249us/step - loss: 0.1222 - accuracy: 0.8552\n",
            "Epoch 20/130\n",
            "145/145 [==============================] - 0s 230us/step - loss: 0.1172 - accuracy: 0.8690\n",
            "Epoch 21/130\n",
            "145/145 [==============================] - 0s 227us/step - loss: 0.1222 - accuracy: 0.8483\n",
            "Epoch 22/130\n",
            "145/145 [==============================] - 0s 254us/step - loss: 0.1161 - accuracy: 0.8345\n",
            "Epoch 23/130\n",
            "145/145 [==============================] - 0s 294us/step - loss: 0.1144 - accuracy: 0.8552\n",
            "Epoch 24/130\n",
            "145/145 [==============================] - 0s 251us/step - loss: 0.1093 - accuracy: 0.8621\n",
            "Epoch 25/130\n",
            "145/145 [==============================] - 0s 254us/step - loss: 0.1071 - accuracy: 0.8621\n",
            "Epoch 26/130\n",
            "145/145 [==============================] - 0s 249us/step - loss: 0.1068 - accuracy: 0.8621\n",
            "Epoch 27/130\n",
            "145/145 [==============================] - 0s 254us/step - loss: 0.1035 - accuracy: 0.8759\n",
            "Epoch 28/130\n",
            "145/145 [==============================] - 0s 266us/step - loss: 0.1064 - accuracy: 0.8621\n",
            "Epoch 29/130\n",
            "145/145 [==============================] - 0s 223us/step - loss: 0.1012 - accuracy: 0.8759\n",
            "Epoch 30/130\n",
            "145/145 [==============================] - 0s 228us/step - loss: 0.1072 - accuracy: 0.8621\n",
            "Epoch 31/130\n",
            "145/145 [==============================] - 0s 216us/step - loss: 0.0998 - accuracy: 0.8690\n",
            "Epoch 32/130\n",
            "145/145 [==============================] - 0s 218us/step - loss: 0.0987 - accuracy: 0.8828\n",
            "Epoch 33/130\n",
            "145/145 [==============================] - 0s 229us/step - loss: 0.0937 - accuracy: 0.8966\n",
            "Epoch 34/130\n",
            "145/145 [==============================] - 0s 224us/step - loss: 0.0948 - accuracy: 0.8690\n",
            "Epoch 35/130\n",
            "145/145 [==============================] - 0s 260us/step - loss: 0.0935 - accuracy: 0.8759\n",
            "Epoch 36/130\n",
            "145/145 [==============================] - 0s 243us/step - loss: 0.0932 - accuracy: 0.8759\n",
            "Epoch 37/130\n",
            "145/145 [==============================] - 0s 237us/step - loss: 0.0929 - accuracy: 0.8897\n",
            "Epoch 38/130\n",
            "145/145 [==============================] - 0s 225us/step - loss: 0.0848 - accuracy: 0.8966\n",
            "Epoch 39/130\n",
            "145/145 [==============================] - 0s 226us/step - loss: 0.0841 - accuracy: 0.8828\n",
            "Epoch 40/130\n",
            "145/145 [==============================] - 0s 225us/step - loss: 0.0803 - accuracy: 0.8897\n",
            "Epoch 41/130\n",
            "145/145 [==============================] - 0s 224us/step - loss: 0.0792 - accuracy: 0.8966\n",
            "Epoch 42/130\n",
            "145/145 [==============================] - 0s 227us/step - loss: 0.0761 - accuracy: 0.8966\n",
            "Epoch 43/130\n",
            "145/145 [==============================] - 0s 253us/step - loss: 0.0743 - accuracy: 0.9103\n",
            "Epoch 44/130\n",
            "145/145 [==============================] - 0s 227us/step - loss: 0.0737 - accuracy: 0.9034\n",
            "Epoch 45/130\n",
            "145/145 [==============================] - 0s 227us/step - loss: 0.0733 - accuracy: 0.8828\n",
            "Epoch 46/130\n",
            "145/145 [==============================] - 0s 233us/step - loss: 0.0712 - accuracy: 0.9103\n",
            "Epoch 47/130\n",
            "145/145 [==============================] - 0s 229us/step - loss: 0.0760 - accuracy: 0.8966\n",
            "Epoch 48/130\n",
            "145/145 [==============================] - 0s 237us/step - loss: 0.0634 - accuracy: 0.9379\n",
            "Epoch 49/130\n",
            "145/145 [==============================] - 0s 222us/step - loss: 0.0660 - accuracy: 0.9172\n",
            "Epoch 50/130\n",
            "145/145 [==============================] - 0s 222us/step - loss: 0.0677 - accuracy: 0.9310\n",
            "Epoch 51/130\n",
            "145/145 [==============================] - 0s 232us/step - loss: 0.0606 - accuracy: 0.9379\n",
            "Epoch 52/130\n",
            "145/145 [==============================] - 0s 228us/step - loss: 0.0593 - accuracy: 0.9310\n",
            "Epoch 53/130\n",
            "145/145 [==============================] - 0s 220us/step - loss: 0.0572 - accuracy: 0.9310\n",
            "Epoch 54/130\n",
            "145/145 [==============================] - 0s 222us/step - loss: 0.0543 - accuracy: 0.9517\n",
            "Epoch 55/130\n",
            "145/145 [==============================] - 0s 225us/step - loss: 0.0522 - accuracy: 0.9517\n",
            "Epoch 56/130\n",
            "145/145 [==============================] - 0s 231us/step - loss: 0.0513 - accuracy: 0.9517\n",
            "Epoch 57/130\n",
            "145/145 [==============================] - 0s 235us/step - loss: 0.0517 - accuracy: 0.9379\n",
            "Epoch 58/130\n",
            "145/145 [==============================] - 0s 237us/step - loss: 0.0492 - accuracy: 0.9655\n",
            "Epoch 59/130\n",
            "145/145 [==============================] - 0s 242us/step - loss: 0.0487 - accuracy: 0.9517\n",
            "Epoch 60/130\n",
            "145/145 [==============================] - 0s 237us/step - loss: 0.0475 - accuracy: 0.9517\n",
            "Epoch 61/130\n",
            "145/145 [==============================] - 0s 222us/step - loss: 0.0429 - accuracy: 0.9586\n",
            "Epoch 62/130\n",
            "145/145 [==============================] - 0s 220us/step - loss: 0.0441 - accuracy: 0.9448\n",
            "Epoch 63/130\n",
            "145/145 [==============================] - 0s 235us/step - loss: 0.0397 - accuracy: 0.9586\n",
            "Epoch 64/130\n",
            "145/145 [==============================] - 0s 246us/step - loss: 0.0402 - accuracy: 0.9655\n",
            "Epoch 65/130\n",
            "145/145 [==============================] - 0s 258us/step - loss: 0.0416 - accuracy: 0.9655\n",
            "Epoch 66/130\n",
            "145/145 [==============================] - 0s 240us/step - loss: 0.0463 - accuracy: 0.9655\n",
            "Epoch 67/130\n",
            "145/145 [==============================] - 0s 225us/step - loss: 0.0339 - accuracy: 0.9793\n",
            "Epoch 68/130\n",
            "145/145 [==============================] - 0s 228us/step - loss: 0.0355 - accuracy: 0.9724\n",
            "Epoch 69/130\n",
            "145/145 [==============================] - 0s 226us/step - loss: 0.0313 - accuracy: 0.9793\n",
            "Epoch 70/130\n",
            "145/145 [==============================] - 0s 231us/step - loss: 0.0310 - accuracy: 0.9724\n",
            "Epoch 71/130\n",
            "145/145 [==============================] - 0s 236us/step - loss: 0.0317 - accuracy: 0.9862\n",
            "Epoch 72/130\n",
            "145/145 [==============================] - 0s 255us/step - loss: 0.0300 - accuracy: 0.9724\n",
            "Epoch 73/130\n",
            "145/145 [==============================] - 0s 219us/step - loss: 0.0295 - accuracy: 0.9793\n",
            "Epoch 74/130\n",
            "145/145 [==============================] - 0s 232us/step - loss: 0.0341 - accuracy: 0.9655\n",
            "Epoch 75/130\n",
            "145/145 [==============================] - 0s 218us/step - loss: 0.0319 - accuracy: 0.9724\n",
            "Epoch 76/130\n",
            "145/145 [==============================] - 0s 225us/step - loss: 0.0269 - accuracy: 0.9724\n",
            "Epoch 77/130\n",
            "145/145 [==============================] - 0s 215us/step - loss: 0.0260 - accuracy: 0.9931\n",
            "Epoch 78/130\n",
            "145/145 [==============================] - 0s 225us/step - loss: 0.0261 - accuracy: 0.9793\n",
            "Epoch 79/130\n",
            "145/145 [==============================] - 0s 234us/step - loss: 0.0231 - accuracy: 0.9862\n",
            "Epoch 80/130\n",
            "145/145 [==============================] - 0s 231us/step - loss: 0.0241 - accuracy: 0.9793\n",
            "Epoch 81/130\n",
            "145/145 [==============================] - 0s 228us/step - loss: 0.0252 - accuracy: 0.9862\n",
            "Epoch 82/130\n",
            "145/145 [==============================] - 0s 279us/step - loss: 0.0215 - accuracy: 0.9862\n",
            "Epoch 83/130\n",
            "145/145 [==============================] - 0s 271us/step - loss: 0.0196 - accuracy: 1.0000\n",
            "Epoch 84/130\n",
            "145/145 [==============================] - 0s 259us/step - loss: 0.0199 - accuracy: 0.9862\n",
            "Epoch 85/130\n",
            "145/145 [==============================] - 0s 251us/step - loss: 0.0219 - accuracy: 0.9931\n",
            "Epoch 86/130\n",
            "145/145 [==============================] - 0s 221us/step - loss: 0.0183 - accuracy: 0.9931\n",
            "Epoch 87/130\n",
            "145/145 [==============================] - 0s 228us/step - loss: 0.0184 - accuracy: 1.0000\n",
            "Epoch 88/130\n",
            "145/145 [==============================] - 0s 230us/step - loss: 0.0179 - accuracy: 0.9862\n",
            "Epoch 89/130\n",
            "145/145 [==============================] - 0s 223us/step - loss: 0.0174 - accuracy: 0.9862\n",
            "Epoch 90/130\n",
            "145/145 [==============================] - 0s 251us/step - loss: 0.0161 - accuracy: 0.9931\n",
            "Epoch 91/130\n",
            "145/145 [==============================] - 0s 264us/step - loss: 0.0234 - accuracy: 0.9793\n",
            "Epoch 92/130\n",
            "145/145 [==============================] - 0s 261us/step - loss: 0.0191 - accuracy: 0.9862\n",
            "Epoch 93/130\n",
            "145/145 [==============================] - 0s 277us/step - loss: 0.0156 - accuracy: 0.9862\n",
            "Epoch 94/130\n",
            "145/145 [==============================] - 0s 232us/step - loss: 0.0154 - accuracy: 0.9931\n",
            "Epoch 95/130\n",
            "145/145 [==============================] - 0s 221us/step - loss: 0.0166 - accuracy: 0.9862\n",
            "Epoch 96/130\n",
            "145/145 [==============================] - 0s 219us/step - loss: 0.0187 - accuracy: 0.9862\n",
            "Epoch 97/130\n",
            "145/145 [==============================] - 0s 225us/step - loss: 0.0127 - accuracy: 0.9931\n",
            "Epoch 98/130\n",
            "145/145 [==============================] - 0s 229us/step - loss: 0.0120 - accuracy: 0.9931\n",
            "Epoch 99/130\n",
            "145/145 [==============================] - 0s 232us/step - loss: 0.0136 - accuracy: 0.9931\n",
            "Epoch 100/130\n",
            "145/145 [==============================] - 0s 256us/step - loss: 0.0162 - accuracy: 0.9931\n",
            "Epoch 101/130\n",
            "145/145 [==============================] - 0s 221us/step - loss: 0.0125 - accuracy: 0.9931\n",
            "Epoch 102/130\n",
            "145/145 [==============================] - 0s 225us/step - loss: 0.0117 - accuracy: 0.9931\n",
            "Epoch 103/130\n",
            "145/145 [==============================] - 0s 230us/step - loss: 0.0105 - accuracy: 1.0000\n",
            "Epoch 104/130\n",
            "145/145 [==============================] - 0s 212us/step - loss: 0.0110 - accuracy: 1.0000\n",
            "Epoch 105/130\n",
            "145/145 [==============================] - 0s 231us/step - loss: 0.0104 - accuracy: 0.9931\n",
            "Epoch 106/130\n",
            "145/145 [==============================] - 0s 230us/step - loss: 0.0134 - accuracy: 1.0000\n",
            "Epoch 107/130\n",
            "145/145 [==============================] - 0s 226us/step - loss: 0.0098 - accuracy: 1.0000\n",
            "Epoch 108/130\n",
            "145/145 [==============================] - 0s 247us/step - loss: 0.0102 - accuracy: 1.0000\n",
            "Epoch 109/130\n",
            "145/145 [==============================] - 0s 223us/step - loss: 0.0117 - accuracy: 0.9931\n",
            "Epoch 110/130\n",
            "145/145 [==============================] - 0s 227us/step - loss: 0.0119 - accuracy: 1.0000\n",
            "Epoch 111/130\n",
            "145/145 [==============================] - 0s 226us/step - loss: 0.0092 - accuracy: 0.9931\n",
            "Epoch 112/130\n",
            "145/145 [==============================] - 0s 255us/step - loss: 0.0073 - accuracy: 1.0000\n",
            "Epoch 113/130\n",
            "145/145 [==============================] - 0s 243us/step - loss: 0.0077 - accuracy: 1.0000\n",
            "Epoch 114/130\n",
            "145/145 [==============================] - 0s 226us/step - loss: 0.0089 - accuracy: 1.0000\n",
            "Epoch 115/130\n",
            "145/145 [==============================] - 0s 224us/step - loss: 0.0064 - accuracy: 1.0000\n",
            "Epoch 116/130\n",
            "145/145 [==============================] - 0s 232us/step - loss: 0.0071 - accuracy: 1.0000\n",
            "Epoch 117/130\n",
            "145/145 [==============================] - 0s 258us/step - loss: 0.0065 - accuracy: 1.0000\n",
            "Epoch 118/130\n",
            "145/145 [==============================] - 0s 248us/step - loss: 0.0056 - accuracy: 1.0000\n",
            "Epoch 119/130\n",
            "145/145 [==============================] - 0s 250us/step - loss: 0.0083 - accuracy: 1.0000\n",
            "Epoch 120/130\n",
            "145/145 [==============================] - 0s 227us/step - loss: 0.0060 - accuracy: 1.0000\n",
            "Epoch 121/130\n",
            "145/145 [==============================] - 0s 262us/step - loss: 0.0076 - accuracy: 1.0000\n",
            "Epoch 122/130\n",
            "145/145 [==============================] - 0s 227us/step - loss: 0.0056 - accuracy: 1.0000\n",
            "Epoch 123/130\n",
            "145/145 [==============================] - 0s 222us/step - loss: 0.0052 - accuracy: 1.0000\n",
            "Epoch 124/130\n",
            "145/145 [==============================] - 0s 223us/step - loss: 0.0063 - accuracy: 1.0000\n",
            "Epoch 125/130\n",
            "145/145 [==============================] - 0s 221us/step - loss: 0.0049 - accuracy: 1.0000\n",
            "Epoch 126/130\n",
            "145/145 [==============================] - 0s 227us/step - loss: 0.0051 - accuracy: 1.0000\n",
            "Epoch 127/130\n",
            "145/145 [==============================] - 0s 231us/step - loss: 0.0066 - accuracy: 1.0000\n",
            "Epoch 128/130\n",
            "145/145 [==============================] - 0s 226us/step - loss: 0.0068 - accuracy: 0.9931\n",
            "Epoch 129/130\n",
            "145/145 [==============================] - 0s 267us/step - loss: 0.0053 - accuracy: 1.0000\n",
            "Epoch 130/130\n",
            "145/145 [==============================] - 0s 220us/step - loss: 0.0046 - accuracy: 1.0000\n"
          ],
          "name": "stdout"
        },
        {
          "output_type": "execute_result",
          "data": {
            "text/plain": [
              "<keras.callbacks.callbacks.History at 0x7f668ad805c0>"
            ]
          },
          "metadata": {
            "tags": []
          },
          "execution_count": 20
        }
      ]
    },
    {
      "cell_type": "markdown",
      "metadata": {
        "id": "7hafKQtifDLL",
        "colab_type": "text"
      },
      "source": [
        "### 테스트셋에 모델 적용\n"
      ]
    },
    {
      "cell_type": "code",
      "metadata": {
        "id": "QK6UcRLifDu0",
        "colab_type": "code",
        "colab": {
          "base_uri": "https://localhost:8080/",
          "height": 66
        },
        "outputId": "8d76458f-f7d3-4bdc-9211-131106b8363e"
      },
      "source": [
        "print(\"\\n Test Accuracy: %.4f\" % (model.evaluate(X_test, Y_test)[1]))\n"
      ],
      "execution_count": 21,
      "outputs": [
        {
          "output_type": "stream",
          "text": [
            "63/63 [==============================] - 0s 288us/step\n",
            "\n",
            " Test Accuracy: 0.7937\n"
          ],
          "name": "stdout"
        }
      ]
    },
    {
      "cell_type": "code",
      "metadata": {
        "id": "xin1-1dNo5Mu",
        "colab_type": "code",
        "colab": {}
      },
      "source": [
        ""
      ],
      "execution_count": 0,
      "outputs": []
    }
  ]
}