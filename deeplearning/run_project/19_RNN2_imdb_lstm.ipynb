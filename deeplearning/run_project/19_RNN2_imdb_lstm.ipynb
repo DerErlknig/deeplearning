{
  "nbformat": 4,
  "nbformat_minor": 0,
  "metadata": {
    "kernelspec": {
      "display_name": "Python 3",
      "language": "python",
      "name": "python3"
    },
    "language_info": {
      "codemirror_mode": {
        "name": "ipython",
        "version": 3
      },
      "file_extension": ".py",
      "mimetype": "text/x-python",
      "name": "python",
      "nbconvert_exporter": "python",
      "pygments_lexer": "ipython3",
      "version": "3.7.3"
    },
    "colab": {
      "name": "19_RNN2_imdb_lstm.ipynb",
      "provenance": [],
      "include_colab_link": true
    },
    "accelerator": "GPU"
  },
  "cells": [
    {
      "cell_type": "markdown",
      "metadata": {
        "id": "view-in-github",
        "colab_type": "text"
      },
      "source": [
        "<a href=\"https://colab.research.google.com/github/junhansong/deeplearning/blob/master/deeplearning/run_project/19_RNN2_imdb_lstm.ipynb\" target=\"_parent\"><img src=\"https://colab.research.google.com/assets/colab-badge.svg\" alt=\"Open In Colab\"/></a>"
      ]
    },
    {
      "cell_type": "markdown",
      "metadata": {
        "id": "QInXOahIu6Sz",
        "colab_type": "text"
      },
      "source": [
        "### 라이브러리 호출\n"
      ]
    },
    {
      "cell_type": "code",
      "metadata": {
        "id": "X8Saz1ZUwHsb",
        "colab_type": "code",
        "colab": {
          "base_uri": "https://localhost:8080/",
          "height": 34
        },
        "outputId": "594820a8-301a-4b4c-8355-727c6f5de583"
      },
      "source": [
        "# -*- coding: utf-8 -*-\n",
        "# 코드 내부에 한글을 사용가능 하게 해주는 부분입니다.\n",
        "\n",
        "from keras.preprocessing import sequence\n",
        "from keras.models import Sequential\n",
        "from keras.layers import Dense, Dropout, Activation\n",
        "from keras.layers import Embedding\n",
        "from keras.layers import LSTM\n",
        "from keras.layers import Conv1D, MaxPooling1D\n",
        "from keras.datasets import imdb\n",
        "\n",
        "import numpy\n",
        "import tensorflow as tf\n",
        "import matplotlib.pyplot as plt\n",
        "\n"
      ],
      "execution_count": 1,
      "outputs": [
        {
          "output_type": "stream",
          "text": [
            "Using TensorFlow backend.\n"
          ],
          "name": "stderr"
        }
      ]
    },
    {
      "cell_type": "markdown",
      "metadata": {
        "id": "u25OfhW0wK7k",
        "colab_type": "text"
      },
      "source": [
        "### seed 값 설정\n"
      ]
    },
    {
      "cell_type": "code",
      "metadata": {
        "id": "J-lPCWT4wL3S",
        "colab_type": "code",
        "colab": {}
      },
      "source": [
        "seed = 0\n",
        "numpy.random.seed(seed)\n",
        "tf.random.set_seed(3)\n",
        "\n"
      ],
      "execution_count": 0,
      "outputs": []
    },
    {
      "cell_type": "markdown",
      "metadata": {
        "id": "5ckZTz4KwMm_",
        "colab_type": "text"
      },
      "source": [
        "### 학습셋, 테스트셋 지정하기\n"
      ]
    },
    {
      "cell_type": "code",
      "metadata": {
        "id": "ZgDHJDGKwNYE",
        "colab_type": "code",
        "colab": {
          "base_uri": "https://localhost:8080/",
          "height": 51
        },
        "outputId": "234ea084-beea-4de4-c7a0-3beadb3fc748"
      },
      "source": [
        "(x_train, y_train), (x_test, y_test) = imdb.load_data(num_words=5000)\n",
        "\n"
      ],
      "execution_count": 3,
      "outputs": [
        {
          "output_type": "stream",
          "text": [
            "Downloading data from https://s3.amazonaws.com/text-datasets/imdb.npz\n",
            "17465344/17464789 [==============================] - 2s 0us/step\n"
          ],
          "name": "stdout"
        }
      ]
    },
    {
      "cell_type": "markdown",
      "metadata": {
        "id": "JZTEDLEowOBd",
        "colab_type": "text"
      },
      "source": [
        "### 데이터 전처리\n"
      ]
    },
    {
      "cell_type": "code",
      "metadata": {
        "id": "J9UFC2iIwOlE",
        "colab_type": "code",
        "colab": {}
      },
      "source": [
        "x_train = sequence.pad_sequences(x_train, maxlen=100)\n",
        "x_test = sequence.pad_sequences(x_test, maxlen=100)\n",
        "\n"
      ],
      "execution_count": 0,
      "outputs": []
    },
    {
      "cell_type": "markdown",
      "metadata": {
        "id": "TSWEzpjpwPPW",
        "colab_type": "text"
      },
      "source": [
        "### 모델의 설정\n"
      ]
    },
    {
      "cell_type": "code",
      "metadata": {
        "id": "-XTHgc1rwP1Q",
        "colab_type": "code",
        "colab": {
          "base_uri": "https://localhost:8080/",
          "height": 391
        },
        "outputId": "c558cb7b-0d9f-4a49-d8f0-b7965b5f9de4"
      },
      "source": [
        "model = Sequential()\n",
        "model.add(Embedding(5000, 100))\n",
        "model.add(Dropout(0.5))\n",
        "model.add(Conv1D(64, 5, padding='valid', activation='relu',strides=1))\n",
        "model.add(MaxPooling1D(pool_size=4))\n",
        "model.add(LSTM(55))\n",
        "model.add(Dense(1))\n",
        "model.add(Activation('sigmoid'))\n",
        "model.summary()\n",
        "\n"
      ],
      "execution_count": 5,
      "outputs": [
        {
          "output_type": "stream",
          "text": [
            "Model: \"sequential_1\"\n",
            "_________________________________________________________________\n",
            "Layer (type)                 Output Shape              Param #   \n",
            "=================================================================\n",
            "embedding_1 (Embedding)      (None, None, 100)         500000    \n",
            "_________________________________________________________________\n",
            "dropout_1 (Dropout)          (None, None, 100)         0         \n",
            "_________________________________________________________________\n",
            "conv1d_1 (Conv1D)            (None, None, 64)          32064     \n",
            "_________________________________________________________________\n",
            "max_pooling1d_1 (MaxPooling1 (None, None, 64)          0         \n",
            "_________________________________________________________________\n",
            "lstm_1 (LSTM)                (None, 55)                26400     \n",
            "_________________________________________________________________\n",
            "dense_1 (Dense)              (None, 1)                 56        \n",
            "_________________________________________________________________\n",
            "activation_1 (Activation)    (None, 1)                 0         \n",
            "=================================================================\n",
            "Total params: 558,520\n",
            "Trainable params: 558,520\n",
            "Non-trainable params: 0\n",
            "_________________________________________________________________\n"
          ],
          "name": "stdout"
        }
      ]
    },
    {
      "cell_type": "markdown",
      "metadata": {
        "id": "kdVPVXBZwQwg",
        "colab_type": "text"
      },
      "source": [
        "### 모델의 컴파일\n"
      ]
    },
    {
      "cell_type": "code",
      "metadata": {
        "id": "r66GpkYdwRSN",
        "colab_type": "code",
        "colab": {}
      },
      "source": [
        "model.compile(loss='binary_crossentropy',\n",
        "              optimizer='adam',\n",
        "              metrics=['accuracy'])\n",
        "\n"
      ],
      "execution_count": 0,
      "outputs": []
    },
    {
      "cell_type": "markdown",
      "metadata": {
        "id": "cII33A5EwSAR",
        "colab_type": "text"
      },
      "source": [
        "### 모델의 실행\n"
      ]
    },
    {
      "cell_type": "code",
      "metadata": {
        "id": "lvqkU-A_wSk3",
        "colab_type": "code",
        "colab": {
          "base_uri": "https://localhost:8080/",
          "height": 258
        },
        "outputId": "bdb7cd2a-447a-4b12-f126-69cb785058a2"
      },
      "source": [
        "history = model.fit(x_train, y_train, batch_size=100, epochs=5, validation_data=(x_test, y_test))\n",
        "\n"
      ],
      "execution_count": 7,
      "outputs": [
        {
          "output_type": "stream",
          "text": [
            "/usr/local/lib/python3.6/dist-packages/tensorflow/python/framework/indexed_slices.py:434: UserWarning: Converting sparse IndexedSlices to a dense Tensor of unknown shape. This may consume a large amount of memory.\n",
            "  \"Converting sparse IndexedSlices to a dense Tensor of unknown shape. \"\n"
          ],
          "name": "stderr"
        },
        {
          "output_type": "stream",
          "text": [
            "Train on 25000 samples, validate on 25000 samples\n",
            "Epoch 1/5\n",
            "25000/25000 [==============================] - 29s 1ms/step - loss: 0.4510 - accuracy: 0.7669 - val_loss: 0.3347 - val_accuracy: 0.8520\n",
            "Epoch 2/5\n",
            "25000/25000 [==============================] - 22s 877us/step - loss: 0.2879 - accuracy: 0.8787 - val_loss: 0.3270 - val_accuracy: 0.8589\n",
            "Epoch 3/5\n",
            "25000/25000 [==============================] - 22s 877us/step - loss: 0.2469 - accuracy: 0.9012 - val_loss: 0.3336 - val_accuracy: 0.8566\n",
            "Epoch 4/5\n",
            "25000/25000 [==============================] - 22s 875us/step - loss: 0.2088 - accuracy: 0.9181 - val_loss: 0.3473 - val_accuracy: 0.8542\n",
            "Epoch 5/5\n",
            "25000/25000 [==============================] - 22s 878us/step - loss: 0.1785 - accuracy: 0.9304 - val_loss: 0.3576 - val_accuracy: 0.8514\n"
          ],
          "name": "stdout"
        }
      ]
    },
    {
      "cell_type": "markdown",
      "metadata": {
        "id": "O6JsgDVjwTQZ",
        "colab_type": "text"
      },
      "source": [
        "### 테스트 정확도 출력\n"
      ]
    },
    {
      "cell_type": "code",
      "metadata": {
        "id": "mGQns8R1wTyk",
        "colab_type": "code",
        "colab": {
          "base_uri": "https://localhost:8080/",
          "height": 68
        },
        "outputId": "2db8d8e0-323e-4fca-c236-816ededc5e2d"
      },
      "source": [
        "print(\"\\n Test Accuracy: %.4f\" % (model.evaluate(x_test, y_test)[1]))\n",
        "\n",
        "\n"
      ],
      "execution_count": 8,
      "outputs": [
        {
          "output_type": "stream",
          "text": [
            "25000/25000 [==============================] - 5s 220us/step\n",
            "\n",
            " Test Accuracy: 0.8514\n"
          ],
          "name": "stdout"
        }
      ]
    },
    {
      "cell_type": "markdown",
      "metadata": {
        "id": "TjaUGKqrwUfh",
        "colab_type": "text"
      },
      "source": [
        "### 테스트 셋의 오차\n"
      ]
    },
    {
      "cell_type": "code",
      "metadata": {
        "id": "Mi9osW-ZwVBF",
        "colab_type": "code",
        "colab": {}
      },
      "source": [
        "y_vloss = history.history['val_loss']\n",
        "\n"
      ],
      "execution_count": 0,
      "outputs": []
    },
    {
      "cell_type": "markdown",
      "metadata": {
        "id": "B2afn2zSwVnd",
        "colab_type": "text"
      },
      "source": [
        "### 학습셋의 오차\n"
      ]
    },
    {
      "cell_type": "code",
      "metadata": {
        "id": "PVgul6aOwWHV",
        "colab_type": "code",
        "colab": {}
      },
      "source": [
        "y_loss = history.history['loss']\n",
        "\n"
      ],
      "execution_count": 0,
      "outputs": []
    },
    {
      "cell_type": "markdown",
      "metadata": {
        "id": "a3crKLDEwWry",
        "colab_type": "text"
      },
      "source": [
        "### 그래프로 표현\n"
      ]
    },
    {
      "cell_type": "code",
      "metadata": {
        "id": "0muURAj8wXOl",
        "colab_type": "code",
        "colab": {
          "base_uri": "https://localhost:8080/",
          "height": 282
        },
        "outputId": "e929fe55-f40a-4c2b-9663-15da1b21f243"
      },
      "source": [
        "x_len = numpy.arange(len(y_loss))\n",
        "plt.plot(x_len, y_vloss, marker='.', c=\"red\", label='Testset_loss')\n",
        "plt.plot(x_len, y_loss, marker='.', c=\"blue\", label='Trainset_loss')\n",
        "\n"
      ],
      "execution_count": 11,
      "outputs": [
        {
          "output_type": "execute_result",
          "data": {
            "text/plain": [
              "[<matplotlib.lines.Line2D at 0x7f9fd6fc3828>]"
            ]
          },
          "metadata": {
            "tags": []
          },
          "execution_count": 11
        },
        {
          "output_type": "display_data",
          "data": {
            "image/png": "[encoded data removed]",
            "text/plain": [
              "<Figure size 432x288 with 1 Axes>"
            ]
          },
          "metadata": {
            "tags": [],
            "needs_background": "light"
          }
        }
      ]
    },
    {
      "cell_type": "markdown",
      "metadata": {
        "id": "uqx-Y58DwX6T",
        "colab_type": "text"
      },
      "source": [
        "### 그래프에 그리드를 주고 레이블을 표시\n"
      ]
    },
    {
      "cell_type": "code",
      "metadata": {
        "id": "_NCpbX1ZwYiB",
        "colab_type": "code",
        "colab": {
          "base_uri": "https://localhost:8080/",
          "height": 300
        },
        "outputId": "ea607b28-cf30-4996-e9f6-92f6e1f8272a"
      },
      "source": [
        "plt.legend(loc='upper right')\n",
        "plt.grid()\n",
        "plt.xlabel('epoch')\n",
        "plt.ylabel('loss')\n",
        "plt.show()\n"
      ],
      "execution_count": 12,
      "outputs": [
        {
          "output_type": "stream",
          "text": [
            "No handles with labels found to put in legend.\n"
          ],
          "name": "stderr"
        },
        {
          "output_type": "display_data",
          "data": {
            "image/png": "[encoded data removed]",
            "text/plain": [
              "<Figure size 432x288 with 1 Axes>"
            ]
          },
          "metadata": {
            "tags": [],
            "needs_background": "light"
          }
        }
      ]
    },
    {
      "cell_type": "code",
      "metadata": {
        "id": "N1ywTn0ku6S8",
        "colab_type": "code",
        "colab": {}
      },
      "source": [
        ""
      ],
      "execution_count": 0,
      "outputs": []
    }
  ]
}