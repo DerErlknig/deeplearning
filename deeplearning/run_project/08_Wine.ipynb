{
  "nbformat": 4,
  "nbformat_minor": 0,
  "metadata": {
    "kernelspec": {
      "display_name": "Python 3",
      "language": "python",
      "name": "python3"
    },
    "language_info": {
      "codemirror_mode": {
        "name": "ipython",
        "version": 3
      },
      "file_extension": ".py",
      "mimetype": "text/x-python",
      "name": "python",
      "nbconvert_exporter": "python",
      "pygments_lexer": "ipython3",
      "version": "3.7.3"
    },
    "colab": {
      "name": "08_Wine.ipynb",
      "provenance": [],
      "include_colab_link": true
    }
  },
  "cells": [
    {
      "cell_type": "markdown",
      "metadata": {
        "id": "view-in-github",
        "colab_type": "text"
      },
      "source": [
        "<a href=\"https://colab.research.google.com/github/junhansong/deeplearning/blob/master/deeplearning/run_project/08_Wine.ipynb\" target=\"_parent\"><img src=\"https://colab.research.google.com/assets/colab-badge.svg\" alt=\"Open In Colab\"/></a>"
      ]
    },
    {
      "cell_type": "markdown",
      "metadata": {
        "id": "hf7Xy4FHp6z1",
        "colab_type": "text"
      },
      "source": [
        "### 라이브러리 호출\n"
      ]
    },
    {
      "cell_type": "code",
      "metadata": {
        "id": "3LoFePv-3nQE",
        "colab_type": "code",
        "colab": {
          "base_uri": "https://localhost:8080/",
          "height": 33
        },
        "outputId": "142ef42d-012f-46de-9dd5-146e11f89a4f"
      },
      "source": [
        "from keras.models import Sequential\n",
        "from keras.layers import Dense\n",
        "from keras.callbacks import ModelCheckpoint, EarlyStopping\n",
        "\n",
        "import pandas as pd\n",
        "import numpy\n",
        "import tensorflow as tf\n",
        "import matplotlib.pyplot as plt\n",
        "\n"
      ],
      "execution_count": 1,
      "outputs": [
        {
          "output_type": "stream",
          "text": [
            "Using TensorFlow backend.\n"
          ],
          "name": "stderr"
        }
      ]
    },
    {
      "cell_type": "markdown",
      "metadata": {
        "id": "0mZB5KYk3pxx",
        "colab_type": "text"
      },
      "source": [
        "### seed 값 설정\n"
      ]
    },
    {
      "cell_type": "code",
      "metadata": {
        "id": "ExS4P-AL3qr5",
        "colab_type": "code",
        "colab": {}
      },
      "source": [
        "seed = 0\n",
        "numpy.random.seed(seed)\n",
        "tf.random.set_seed(3)\n",
        "\n"
      ],
      "execution_count": 0,
      "outputs": []
    },
    {
      "cell_type": "markdown",
      "metadata": {
        "id": "A-U6dyHM3scb",
        "colab_type": "text"
      },
      "source": [
        "### 데이터 입력\n"
      ]
    },
    {
      "cell_type": "code",
      "metadata": {
        "id": "ZbxWOxJt3t3V",
        "colab_type": "code",
        "colab": {}
      },
      "source": [
        "df_pre = pd.read_csv('https://raw.githubusercontent.com/junhansong/deeplearning/master/deeplearning/dataset/wine.csv', header=None)\n",
        "df = df_pre.sample(frac=1)\n",
        "\n",
        "dataset = df.values\n",
        "X = dataset[:,0:12]\n",
        "Y = dataset[:,12]\n",
        "\n"
      ],
      "execution_count": 0,
      "outputs": []
    },
    {
      "cell_type": "markdown",
      "metadata": {
        "id": "49mruRV03w7L",
        "colab_type": "text"
      },
      "source": [
        "### 모델 설정\n"
      ]
    },
    {
      "cell_type": "code",
      "metadata": {
        "id": "KCbv-Iqa3xj7",
        "colab_type": "code",
        "colab": {}
      },
      "source": [
        "model = Sequential()\n",
        "model.add(Dense(30,  input_dim=12, activation='relu'))\n",
        "model.add(Dense(12, activation='relu'))\n",
        "model.add(Dense(8, activation='relu'))\n",
        "model.add(Dense(1, activation='sigmoid'))\n",
        "\n"
      ],
      "execution_count": 0,
      "outputs": []
    },
    {
      "cell_type": "markdown",
      "metadata": {
        "id": "de_rsh6o3z_d",
        "colab_type": "text"
      },
      "source": [
        "###모델 컴파일\n"
      ]
    },
    {
      "cell_type": "code",
      "metadata": {
        "id": "-iPpvWog30o3",
        "colab_type": "code",
        "colab": {}
      },
      "source": [
        "model.compile(loss='binary_crossentropy',\n",
        "           optimizer='adam',\n",
        "           metrics=['accuracy'])\n",
        "\n"
      ],
      "execution_count": 0,
      "outputs": []
    },
    {
      "cell_type": "markdown",
      "metadata": {
        "id": "74MJdD0c32dr",
        "colab_type": "text"
      },
      "source": [
        "### 모델 실행\n"
      ]
    },
    {
      "cell_type": "code",
      "metadata": {
        "id": "PEnmV5ry358a",
        "colab_type": "code",
        "colab": {
          "base_uri": "https://localhost:8080/",
          "height": 1000
        },
        "outputId": "eb9130d8-a7ec-426e-f7dd-6814fff696c7"
      },
      "source": [
        "model.fit(X, Y, epochs=200, batch_size=200)\n",
        "\n"
      ],
      "execution_count": 6,
      "outputs": [
        {
          "output_type": "stream",
          "text": [
            "Epoch 1/200\n",
            "6497/6497 [==============================] - 0s 61us/step - loss: 3.5409 - accuracy: 0.2461\n",
            "Epoch 2/200\n",
            "6497/6497 [==============================] - 0s 8us/step - loss: 0.4322 - accuracy: 0.8116\n",
            "Epoch 3/200\n",
            "6497/6497 [==============================] - 0s 10us/step - loss: 0.2416 - accuracy: 0.9258\n",
            "Epoch 4/200\n",
            "6497/6497 [==============================] - 0s 7us/step - loss: 0.2142 - accuracy: 0.9301\n",
            "Epoch 5/200\n",
            "6497/6497 [==============================] - 0s 8us/step - loss: 0.2039 - accuracy: 0.9303\n",
            "Epoch 6/200\n",
            "6497/6497 [==============================] - 0s 8us/step - loss: 0.1984 - accuracy: 0.9310\n",
            "Epoch 7/200\n",
            "6497/6497 [==============================] - 0s 8us/step - loss: 0.1939 - accuracy: 0.9321\n",
            "Epoch 8/200\n",
            "6497/6497 [==============================] - 0s 8us/step - loss: 0.1891 - accuracy: 0.9323\n",
            "Epoch 9/200\n",
            "6497/6497 [==============================] - 0s 8us/step - loss: 0.1867 - accuracy: 0.9327\n",
            "Epoch 10/200\n",
            "6497/6497 [==============================] - 0s 7us/step - loss: 0.1844 - accuracy: 0.9330\n",
            "Epoch 11/200\n",
            "6497/6497 [==============================] - 0s 8us/step - loss: 0.1826 - accuracy: 0.9341\n",
            "Epoch 12/200\n",
            "6497/6497 [==============================] - 0s 11us/step - loss: 0.1799 - accuracy: 0.9343\n",
            "Epoch 13/200\n",
            "6497/6497 [==============================] - 0s 8us/step - loss: 0.1781 - accuracy: 0.9357\n",
            "Epoch 14/200\n",
            "6497/6497 [==============================] - 0s 8us/step - loss: 0.1756 - accuracy: 0.9384\n",
            "Epoch 15/200\n",
            "6497/6497 [==============================] - 0s 8us/step - loss: 0.1680 - accuracy: 0.9398\n",
            "Epoch 16/200\n",
            "6497/6497 [==============================] - 0s 8us/step - loss: 0.1588 - accuracy: 0.9421\n",
            "Epoch 17/200\n",
            "6497/6497 [==============================] - 0s 8us/step - loss: 0.1529 - accuracy: 0.9463\n",
            "Epoch 18/200\n",
            "6497/6497 [==============================] - 0s 7us/step - loss: 0.1454 - accuracy: 0.9469\n",
            "Epoch 19/200\n",
            "6497/6497 [==============================] - 0s 8us/step - loss: 0.1403 - accuracy: 0.9487\n",
            "Epoch 20/200\n",
            "6497/6497 [==============================] - 0s 8us/step - loss: 0.1390 - accuracy: 0.9481\n",
            "Epoch 21/200\n",
            "6497/6497 [==============================] - 0s 8us/step - loss: 0.1320 - accuracy: 0.9524\n",
            "Epoch 22/200\n",
            "6497/6497 [==============================] - 0s 10us/step - loss: 0.1278 - accuracy: 0.9535\n",
            "Epoch 23/200\n",
            "6497/6497 [==============================] - 0s 8us/step - loss: 0.1232 - accuracy: 0.9554\n",
            "Epoch 24/200\n",
            "6497/6497 [==============================] - 0s 8us/step - loss: 0.1222 - accuracy: 0.9554\n",
            "Epoch 25/200\n",
            "6497/6497 [==============================] - 0s 7us/step - loss: 0.1180 - accuracy: 0.9591\n",
            "Epoch 26/200\n",
            "6497/6497 [==============================] - 0s 8us/step - loss: 0.1114 - accuracy: 0.9609\n",
            "Epoch 27/200\n",
            "6497/6497 [==============================] - 0s 9us/step - loss: 0.1108 - accuracy: 0.9609\n",
            "Epoch 28/200\n",
            "6497/6497 [==============================] - 0s 7us/step - loss: 0.1111 - accuracy: 0.9623\n",
            "Epoch 29/200\n",
            "6497/6497 [==============================] - 0s 7us/step - loss: 0.1062 - accuracy: 0.9618\n",
            "Epoch 30/200\n",
            "6497/6497 [==============================] - 0s 7us/step - loss: 0.1049 - accuracy: 0.9649\n",
            "Epoch 31/200\n",
            "6497/6497 [==============================] - 0s 8us/step - loss: 0.1027 - accuracy: 0.9655\n",
            "Epoch 32/200\n",
            "6497/6497 [==============================] - 0s 8us/step - loss: 0.0980 - accuracy: 0.9704\n",
            "Epoch 33/200\n",
            "6497/6497 [==============================] - 0s 8us/step - loss: 0.0966 - accuracy: 0.9700\n",
            "Epoch 34/200\n",
            "6497/6497 [==============================] - 0s 7us/step - loss: 0.0943 - accuracy: 0.9684\n",
            "Epoch 35/200\n",
            "6497/6497 [==============================] - 0s 8us/step - loss: 0.0918 - accuracy: 0.9724\n",
            "Epoch 36/200\n",
            "6497/6497 [==============================] - 0s 7us/step - loss: 0.0894 - accuracy: 0.9724\n",
            "Epoch 37/200\n",
            "6497/6497 [==============================] - 0s 9us/step - loss: 0.0878 - accuracy: 0.9744\n",
            "Epoch 38/200\n",
            "6497/6497 [==============================] - 0s 11us/step - loss: 0.0858 - accuracy: 0.9731\n",
            "Epoch 39/200\n",
            "6497/6497 [==============================] - 0s 8us/step - loss: 0.0906 - accuracy: 0.9697\n",
            "Epoch 40/200\n",
            "6497/6497 [==============================] - 0s 7us/step - loss: 0.0879 - accuracy: 0.9718\n",
            "Epoch 41/200\n",
            "6497/6497 [==============================] - 0s 8us/step - loss: 0.0857 - accuracy: 0.9718\n",
            "Epoch 42/200\n",
            "6497/6497 [==============================] - 0s 8us/step - loss: 0.0872 - accuracy: 0.9731\n",
            "Epoch 43/200\n",
            "6497/6497 [==============================] - 0s 7us/step - loss: 0.0878 - accuracy: 0.9698\n",
            "Epoch 44/200\n",
            "6497/6497 [==============================] - 0s 8us/step - loss: 0.0802 - accuracy: 0.9751\n",
            "Epoch 45/200\n",
            "6497/6497 [==============================] - 0s 8us/step - loss: 0.0797 - accuracy: 0.9749\n",
            "Epoch 46/200\n",
            "6497/6497 [==============================] - 0s 8us/step - loss: 0.0756 - accuracy: 0.9769\n",
            "Epoch 47/200\n",
            "6497/6497 [==============================] - 0s 10us/step - loss: 0.0738 - accuracy: 0.9775\n",
            "Epoch 48/200\n",
            "6497/6497 [==============================] - 0s 8us/step - loss: 0.0726 - accuracy: 0.9778\n",
            "Epoch 49/200\n",
            "6497/6497 [==============================] - 0s 8us/step - loss: 0.0767 - accuracy: 0.9758\n",
            "Epoch 50/200\n",
            "6497/6497 [==============================] - 0s 8us/step - loss: 0.0728 - accuracy: 0.9777\n",
            "Epoch 51/200\n",
            "6497/6497 [==============================] - 0s 8us/step - loss: 0.0700 - accuracy: 0.9788\n",
            "Epoch 52/200\n",
            "6497/6497 [==============================] - 0s 8us/step - loss: 0.0699 - accuracy: 0.9792\n",
            "Epoch 53/200\n",
            "6497/6497 [==============================] - 0s 8us/step - loss: 0.0777 - accuracy: 0.9765\n",
            "Epoch 54/200\n",
            "6497/6497 [==============================] - 0s 8us/step - loss: 0.0700 - accuracy: 0.9772\n",
            "Epoch 55/200\n",
            "6497/6497 [==============================] - 0s 10us/step - loss: 0.0731 - accuracy: 0.9778\n",
            "Epoch 56/200\n",
            "6497/6497 [==============================] - 0s 10us/step - loss: 0.0693 - accuracy: 0.9788\n",
            "Epoch 57/200\n",
            "6497/6497 [==============================] - 0s 8us/step - loss: 0.0655 - accuracy: 0.9806\n",
            "Epoch 58/200\n",
            "6497/6497 [==============================] - 0s 8us/step - loss: 0.0655 - accuracy: 0.9803\n",
            "Epoch 59/200\n",
            "6497/6497 [==============================] - 0s 8us/step - loss: 0.0665 - accuracy: 0.9805\n",
            "Epoch 60/200\n",
            "6497/6497 [==============================] - 0s 8us/step - loss: 0.0654 - accuracy: 0.9809\n",
            "Epoch 61/200\n",
            "6497/6497 [==============================] - 0s 7us/step - loss: 0.0643 - accuracy: 0.9811\n",
            "Epoch 62/200\n",
            "6497/6497 [==============================] - 0s 10us/step - loss: 0.0644 - accuracy: 0.9809\n",
            "Epoch 63/200\n",
            "6497/6497 [==============================] - 0s 7us/step - loss: 0.0667 - accuracy: 0.9808\n",
            "Epoch 64/200\n",
            "6497/6497 [==============================] - 0s 8us/step - loss: 0.0625 - accuracy: 0.9812\n",
            "Epoch 65/200\n",
            "6497/6497 [==============================] - 0s 8us/step - loss: 0.0635 - accuracy: 0.9811\n",
            "Epoch 66/200\n",
            "6497/6497 [==============================] - 0s 7us/step - loss: 0.0628 - accuracy: 0.9817\n",
            "Epoch 67/200\n",
            "6497/6497 [==============================] - 0s 8us/step - loss: 0.0650 - accuracy: 0.9809\n",
            "Epoch 68/200\n",
            "6497/6497 [==============================] - 0s 8us/step - loss: 0.0638 - accuracy: 0.9814\n",
            "Epoch 69/200\n",
            "6497/6497 [==============================] - 0s 7us/step - loss: 0.0635 - accuracy: 0.9808\n",
            "Epoch 70/200\n",
            "6497/6497 [==============================] - 0s 7us/step - loss: 0.0648 - accuracy: 0.9803\n",
            "Epoch 71/200\n",
            "6497/6497 [==============================] - 0s 8us/step - loss: 0.0626 - accuracy: 0.9805\n",
            "Epoch 72/200\n",
            "6497/6497 [==============================] - 0s 9us/step - loss: 0.0614 - accuracy: 0.9814\n",
            "Epoch 73/200\n",
            "6497/6497 [==============================] - 0s 7us/step - loss: 0.0618 - accuracy: 0.9815\n",
            "Epoch 74/200\n",
            "6497/6497 [==============================] - 0s 7us/step - loss: 0.0654 - accuracy: 0.9808\n",
            "Epoch 75/200\n",
            "6497/6497 [==============================] - 0s 7us/step - loss: 0.0646 - accuracy: 0.9825\n",
            "Epoch 76/200\n",
            "6497/6497 [==============================] - 0s 8us/step - loss: 0.0582 - accuracy: 0.9829\n",
            "Epoch 77/200\n",
            "6497/6497 [==============================] - 0s 7us/step - loss: 0.0590 - accuracy: 0.9820\n",
            "Epoch 78/200\n",
            "6497/6497 [==============================] - 0s 7us/step - loss: 0.0591 - accuracy: 0.9812\n",
            "Epoch 79/200\n",
            "6497/6497 [==============================] - 0s 8us/step - loss: 0.0611 - accuracy: 0.9825\n",
            "Epoch 80/200\n",
            "6497/6497 [==============================] - 0s 7us/step - loss: 0.0597 - accuracy: 0.9826\n",
            "Epoch 81/200\n",
            "6497/6497 [==============================] - 0s 9us/step - loss: 0.0617 - accuracy: 0.9812\n",
            "Epoch 82/200\n",
            "6497/6497 [==============================] - 0s 8us/step - loss: 0.0607 - accuracy: 0.9814\n",
            "Epoch 83/200\n",
            "6497/6497 [==============================] - 0s 8us/step - loss: 0.0564 - accuracy: 0.9831\n",
            "Epoch 84/200\n",
            "6497/6497 [==============================] - 0s 7us/step - loss: 0.0565 - accuracy: 0.9838\n",
            "Epoch 85/200\n",
            "6497/6497 [==============================] - 0s 7us/step - loss: 0.0562 - accuracy: 0.9829\n",
            "Epoch 86/200\n",
            "6497/6497 [==============================] - 0s 9us/step - loss: 0.0572 - accuracy: 0.9831\n",
            "Epoch 87/200\n",
            "6497/6497 [==============================] - 0s 8us/step - loss: 0.0715 - accuracy: 0.9786\n",
            "Epoch 88/200\n",
            "6497/6497 [==============================] - 0s 7us/step - loss: 0.0698 - accuracy: 0.9800\n",
            "Epoch 89/200\n",
            "6497/6497 [==============================] - 0s 7us/step - loss: 0.0569 - accuracy: 0.9832\n",
            "Epoch 90/200\n",
            "6497/6497 [==============================] - 0s 8us/step - loss: 0.0561 - accuracy: 0.9832\n",
            "Epoch 91/200\n",
            "6497/6497 [==============================] - 0s 9us/step - loss: 0.0573 - accuracy: 0.9832\n",
            "Epoch 92/200\n",
            "6497/6497 [==============================] - 0s 8us/step - loss: 0.0569 - accuracy: 0.9829\n",
            "Epoch 93/200\n",
            "6497/6497 [==============================] - 0s 7us/step - loss: 0.0571 - accuracy: 0.9823\n",
            "Epoch 94/200\n",
            "6497/6497 [==============================] - 0s 7us/step - loss: 0.0556 - accuracy: 0.9831\n",
            "Epoch 95/200\n",
            "6497/6497 [==============================] - 0s 8us/step - loss: 0.0638 - accuracy: 0.9808\n",
            "Epoch 96/200\n",
            "6497/6497 [==============================] - 0s 8us/step - loss: 0.0544 - accuracy: 0.9841\n",
            "Epoch 97/200\n",
            "6497/6497 [==============================] - 0s 9us/step - loss: 0.0552 - accuracy: 0.9851\n",
            "Epoch 98/200\n",
            "6497/6497 [==============================] - 0s 7us/step - loss: 0.0549 - accuracy: 0.9845\n",
            "Epoch 99/200\n",
            "6497/6497 [==============================] - 0s 9us/step - loss: 0.0558 - accuracy: 0.9820\n",
            "Epoch 100/200\n",
            "6497/6497 [==============================] - 0s 7us/step - loss: 0.0576 - accuracy: 0.9829\n",
            "Epoch 101/200\n",
            "6497/6497 [==============================] - 0s 7us/step - loss: 0.0569 - accuracy: 0.9831\n",
            "Epoch 102/200\n",
            "6497/6497 [==============================] - 0s 9us/step - loss: 0.0540 - accuracy: 0.9854\n",
            "Epoch 103/200\n",
            "6497/6497 [==============================] - 0s 8us/step - loss: 0.0558 - accuracy: 0.9849\n",
            "Epoch 104/200\n",
            "6497/6497 [==============================] - 0s 8us/step - loss: 0.0547 - accuracy: 0.9826\n",
            "Epoch 105/200\n",
            "6497/6497 [==============================] - 0s 8us/step - loss: 0.0561 - accuracy: 0.9845\n",
            "Epoch 106/200\n",
            "6497/6497 [==============================] - 0s 8us/step - loss: 0.0553 - accuracy: 0.9841\n",
            "Epoch 107/200\n",
            "6497/6497 [==============================] - 0s 8us/step - loss: 0.0528 - accuracy: 0.9843\n",
            "Epoch 108/200\n",
            "6497/6497 [==============================] - 0s 7us/step - loss: 0.0630 - accuracy: 0.9817\n",
            "Epoch 109/200\n",
            "6497/6497 [==============================] - 0s 7us/step - loss: 0.0562 - accuracy: 0.9831\n",
            "Epoch 110/200\n",
            "6497/6497 [==============================] - 0s 8us/step - loss: 0.0538 - accuracy: 0.9843\n",
            "Epoch 111/200\n",
            "6497/6497 [==============================] - 0s 7us/step - loss: 0.0527 - accuracy: 0.9852\n",
            "Epoch 112/200\n",
            "6497/6497 [==============================] - 0s 9us/step - loss: 0.0541 - accuracy: 0.9845\n",
            "Epoch 113/200\n",
            "6497/6497 [==============================] - 0s 7us/step - loss: 0.0574 - accuracy: 0.9828\n",
            "Epoch 114/200\n",
            "6497/6497 [==============================] - 0s 8us/step - loss: 0.0563 - accuracy: 0.9852\n",
            "Epoch 115/200\n",
            "6497/6497 [==============================] - 0s 8us/step - loss: 0.0567 - accuracy: 0.9832\n",
            "Epoch 116/200\n",
            "6497/6497 [==============================] - 0s 8us/step - loss: 0.0544 - accuracy: 0.9841\n",
            "Epoch 117/200\n",
            "6497/6497 [==============================] - 0s 8us/step - loss: 0.0565 - accuracy: 0.9832\n",
            "Epoch 118/200\n",
            "6497/6497 [==============================] - 0s 8us/step - loss: 0.0556 - accuracy: 0.9837\n",
            "Epoch 119/200\n",
            "6497/6497 [==============================] - 0s 8us/step - loss: 0.0563 - accuracy: 0.9838\n",
            "Epoch 120/200\n",
            "6497/6497 [==============================] - 0s 8us/step - loss: 0.0567 - accuracy: 0.9837\n",
            "Epoch 121/200\n",
            "6497/6497 [==============================] - 0s 8us/step - loss: 0.0555 - accuracy: 0.9832\n",
            "Epoch 122/200\n",
            "6497/6497 [==============================] - 0s 8us/step - loss: 0.0532 - accuracy: 0.9855\n",
            "Epoch 123/200\n",
            "6497/6497 [==============================] - 0s 8us/step - loss: 0.0562 - accuracy: 0.9841\n",
            "Epoch 124/200\n",
            "6497/6497 [==============================] - 0s 7us/step - loss: 0.0539 - accuracy: 0.9840\n",
            "Epoch 125/200\n",
            "6497/6497 [==============================] - 0s 7us/step - loss: 0.0540 - accuracy: 0.9840\n",
            "Epoch 126/200\n",
            "6497/6497 [==============================] - 0s 8us/step - loss: 0.0521 - accuracy: 0.9857\n",
            "Epoch 127/200\n",
            "6497/6497 [==============================] - 0s 8us/step - loss: 0.0559 - accuracy: 0.9838\n",
            "Epoch 128/200\n",
            "6497/6497 [==============================] - 0s 8us/step - loss: 0.0588 - accuracy: 0.9801\n",
            "Epoch 129/200\n",
            "6497/6497 [==============================] - 0s 8us/step - loss: 0.0521 - accuracy: 0.9855\n",
            "Epoch 130/200\n",
            "6497/6497 [==============================] - 0s 8us/step - loss: 0.0501 - accuracy: 0.9855\n",
            "Epoch 131/200\n",
            "6497/6497 [==============================] - 0s 12us/step - loss: 0.0535 - accuracy: 0.9835\n",
            "Epoch 132/200\n",
            "6497/6497 [==============================] - 0s 8us/step - loss: 0.0525 - accuracy: 0.9854\n",
            "Epoch 133/200\n",
            "6497/6497 [==============================] - 0s 8us/step - loss: 0.0514 - accuracy: 0.9846\n",
            "Epoch 134/200\n",
            "6497/6497 [==============================] - 0s 8us/step - loss: 0.0574 - accuracy: 0.9828\n",
            "Epoch 135/200\n",
            "6497/6497 [==============================] - 0s 8us/step - loss: 0.0511 - accuracy: 0.9855\n",
            "Epoch 136/200\n",
            "6497/6497 [==============================] - 0s 8us/step - loss: 0.0501 - accuracy: 0.9857\n",
            "Epoch 137/200\n",
            "6497/6497 [==============================] - 0s 10us/step - loss: 0.0512 - accuracy: 0.9848\n",
            "Epoch 138/200\n",
            "6497/6497 [==============================] - 0s 8us/step - loss: 0.0567 - accuracy: 0.9841\n",
            "Epoch 139/200\n",
            "6497/6497 [==============================] - 0s 8us/step - loss: 0.0537 - accuracy: 0.9843\n",
            "Epoch 140/200\n",
            "6497/6497 [==============================] - 0s 8us/step - loss: 0.0515 - accuracy: 0.9849\n",
            "Epoch 141/200\n",
            "6497/6497 [==============================] - 0s 8us/step - loss: 0.0530 - accuracy: 0.9851\n",
            "Epoch 142/200\n",
            "6497/6497 [==============================] - 0s 9us/step - loss: 0.0506 - accuracy: 0.9843\n",
            "Epoch 143/200\n",
            "6497/6497 [==============================] - 0s 9us/step - loss: 0.0535 - accuracy: 0.9838\n",
            "Epoch 144/200\n",
            "6497/6497 [==============================] - 0s 8us/step - loss: 0.0520 - accuracy: 0.9846\n",
            "Epoch 145/200\n",
            "6497/6497 [==============================] - 0s 8us/step - loss: 0.0604 - accuracy: 0.9815\n",
            "Epoch 146/200\n",
            "6497/6497 [==============================] - 0s 8us/step - loss: 0.0575 - accuracy: 0.9815\n",
            "Epoch 147/200\n",
            "6497/6497 [==============================] - 0s 10us/step - loss: 0.0585 - accuracy: 0.9820\n",
            "Epoch 148/200\n",
            "6497/6497 [==============================] - 0s 8us/step - loss: 0.0495 - accuracy: 0.9852\n",
            "Epoch 149/200\n",
            "6497/6497 [==============================] - 0s 8us/step - loss: 0.0522 - accuracy: 0.9858\n",
            "Epoch 150/200\n",
            "6497/6497 [==============================] - 0s 8us/step - loss: 0.0508 - accuracy: 0.9855\n",
            "Epoch 151/200\n",
            "6497/6497 [==============================] - 0s 8us/step - loss: 0.0524 - accuracy: 0.9841\n",
            "Epoch 152/200\n",
            "6497/6497 [==============================] - 0s 8us/step - loss: 0.0521 - accuracy: 0.9846\n",
            "Epoch 153/200\n",
            "6497/6497 [==============================] - 0s 7us/step - loss: 0.0494 - accuracy: 0.9854\n",
            "Epoch 154/200\n",
            "6497/6497 [==============================] - 0s 7us/step - loss: 0.0496 - accuracy: 0.9858\n",
            "Epoch 155/200\n",
            "6497/6497 [==============================] - 0s 7us/step - loss: 0.0527 - accuracy: 0.9851\n",
            "Epoch 156/200\n",
            "6497/6497 [==============================] - 0s 12us/step - loss: 0.0516 - accuracy: 0.9848\n",
            "Epoch 157/200\n",
            "6497/6497 [==============================] - 0s 8us/step - loss: 0.0549 - accuracy: 0.9838\n",
            "Epoch 158/200\n",
            "6497/6497 [==============================] - 0s 7us/step - loss: 0.0510 - accuracy: 0.9852\n",
            "Epoch 159/200\n",
            "6497/6497 [==============================] - 0s 8us/step - loss: 0.0496 - accuracy: 0.9855\n",
            "Epoch 160/200\n",
            "6497/6497 [==============================] - 0s 8us/step - loss: 0.0622 - accuracy: 0.9795\n",
            "Epoch 161/200\n",
            "6497/6497 [==============================] - 0s 8us/step - loss: 0.0487 - accuracy: 0.9865\n",
            "Epoch 162/200\n",
            "6497/6497 [==============================] - 0s 8us/step - loss: 0.0497 - accuracy: 0.9858\n",
            "Epoch 163/200\n",
            "6497/6497 [==============================] - 0s 8us/step - loss: 0.0492 - accuracy: 0.9858\n",
            "Epoch 164/200\n",
            "6497/6497 [==============================] - 0s 8us/step - loss: 0.0506 - accuracy: 0.9861\n",
            "Epoch 165/200\n",
            "6497/6497 [==============================] - 0s 7us/step - loss: 0.0498 - accuracy: 0.9851\n",
            "Epoch 166/200\n",
            "6497/6497 [==============================] - 0s 9us/step - loss: 0.0569 - accuracy: 0.9834\n",
            "Epoch 167/200\n",
            "6497/6497 [==============================] - 0s 8us/step - loss: 0.0521 - accuracy: 0.9845\n",
            "Epoch 168/200\n",
            "6497/6497 [==============================] - 0s 8us/step - loss: 0.0502 - accuracy: 0.9846\n",
            "Epoch 169/200\n",
            "6497/6497 [==============================] - 0s 8us/step - loss: 0.0556 - accuracy: 0.9823\n",
            "Epoch 170/200\n",
            "6497/6497 [==============================] - 0s 8us/step - loss: 0.0564 - accuracy: 0.9834\n",
            "Epoch 171/200\n",
            "6497/6497 [==============================] - 0s 7us/step - loss: 0.0503 - accuracy: 0.9857\n",
            "Epoch 172/200\n",
            "6497/6497 [==============================] - 0s 7us/step - loss: 0.0497 - accuracy: 0.9857\n",
            "Epoch 173/200\n",
            "6497/6497 [==============================] - 0s 8us/step - loss: 0.0561 - accuracy: 0.9820\n",
            "Epoch 174/200\n",
            "6497/6497 [==============================] - 0s 8us/step - loss: 0.0506 - accuracy: 0.9851\n",
            "Epoch 175/200\n",
            "6497/6497 [==============================] - 0s 10us/step - loss: 0.0509 - accuracy: 0.9860\n",
            "Epoch 176/200\n",
            "6497/6497 [==============================] - 0s 8us/step - loss: 0.0522 - accuracy: 0.9840\n",
            "Epoch 177/200\n",
            "6497/6497 [==============================] - 0s 8us/step - loss: 0.0492 - accuracy: 0.9858\n",
            "Epoch 178/200\n",
            "6497/6497 [==============================] - 0s 8us/step - loss: 0.0504 - accuracy: 0.9854\n",
            "Epoch 179/200\n",
            "6497/6497 [==============================] - 0s 8us/step - loss: 0.0499 - accuracy: 0.9854\n",
            "Epoch 180/200\n",
            "6497/6497 [==============================] - 0s 8us/step - loss: 0.0585 - accuracy: 0.9800\n",
            "Epoch 181/200\n",
            "6497/6497 [==============================] - 0s 7us/step - loss: 0.0500 - accuracy: 0.9846\n",
            "Epoch 182/200\n",
            "6497/6497 [==============================] - 0s 7us/step - loss: 0.0484 - accuracy: 0.9860\n",
            "Epoch 183/200\n",
            "6497/6497 [==============================] - 0s 8us/step - loss: 0.0499 - accuracy: 0.9848\n",
            "Epoch 184/200\n",
            "6497/6497 [==============================] - 0s 7us/step - loss: 0.0496 - accuracy: 0.9854\n",
            "Epoch 185/200\n",
            "6497/6497 [==============================] - 0s 8us/step - loss: 0.0504 - accuracy: 0.9857\n",
            "Epoch 186/200\n",
            "6497/6497 [==============================] - 0s 7us/step - loss: 0.0478 - accuracy: 0.9868\n",
            "Epoch 187/200\n",
            "6497/6497 [==============================] - 0s 8us/step - loss: 0.0485 - accuracy: 0.9852\n",
            "Epoch 188/200\n",
            "6497/6497 [==============================] - 0s 8us/step - loss: 0.0525 - accuracy: 0.9848\n",
            "Epoch 189/200\n",
            "6497/6497 [==============================] - 0s 7us/step - loss: 0.0524 - accuracy: 0.9837\n",
            "Epoch 190/200\n",
            "6497/6497 [==============================] - 0s 11us/step - loss: 0.0485 - accuracy: 0.9852\n",
            "Epoch 191/200\n",
            "6497/6497 [==============================] - 0s 7us/step - loss: 0.0555 - accuracy: 0.9838\n",
            "Epoch 192/200\n",
            "6497/6497 [==============================] - 0s 8us/step - loss: 0.0480 - accuracy: 0.9858\n",
            "Epoch 193/200\n",
            "6497/6497 [==============================] - 0s 11us/step - loss: 0.0478 - accuracy: 0.9868\n",
            "Epoch 194/200\n",
            "6497/6497 [==============================] - 0s 8us/step - loss: 0.0501 - accuracy: 0.9843\n",
            "Epoch 195/200\n",
            "6497/6497 [==============================] - 0s 8us/step - loss: 0.0479 - accuracy: 0.9861\n",
            "Epoch 196/200\n",
            "6497/6497 [==============================] - 0s 7us/step - loss: 0.0532 - accuracy: 0.9845\n",
            "Epoch 197/200\n",
            "6497/6497 [==============================] - 0s 7us/step - loss: 0.0544 - accuracy: 0.9835\n",
            "Epoch 198/200\n",
            "6497/6497 [==============================] - 0s 8us/step - loss: 0.0496 - accuracy: 0.9858\n",
            "Epoch 199/200\n",
            "6497/6497 [==============================] - 0s 9us/step - loss: 0.0500 - accuracy: 0.9848\n",
            "Epoch 200/200\n",
            "6497/6497 [==============================] - 0s 8us/step - loss: 0.0493 - accuracy: 0.9866\n"
          ],
          "name": "stdout"
        },
        {
          "output_type": "execute_result",
          "data": {
            "text/plain": [
              "<keras.callbacks.callbacks.History at 0x7f77d6ddbb00>"
            ]
          },
          "metadata": {
            "tags": []
          },
          "execution_count": 6
        }
      ]
    },
    {
      "cell_type": "markdown",
      "metadata": {
        "id": "Ylo0rvxP4EXu",
        "colab_type": "text"
      },
      "source": [
        "### 결과 출력\n"
      ]
    },
    {
      "cell_type": "code",
      "metadata": {
        "id": "gJXi2q1j4ILg",
        "colab_type": "code",
        "colab": {
          "base_uri": "https://localhost:8080/",
          "height": 66
        },
        "outputId": "8d1cfc39-9a27-4e94-84d6-8f3780c7ebbb"
      },
      "source": [
        "print(\"\\n Accuracy: %.4f\" % (model.evaluate(X, Y)[1]))\n"
      ],
      "execution_count": 7,
      "outputs": [
        {
          "output_type": "stream",
          "text": [
            "6497/6497 [==============================] - 0s 20us/step\n",
            "\n",
            " Accuracy: 0.9863\n"
          ],
          "name": "stdout"
        }
      ]
    },
    {
      "cell_type": "code",
      "metadata": {
        "id": "8EpvXsNwp60E",
        "colab_type": "code",
        "colab": {}
      },
      "source": [
        ""
      ],
      "execution_count": 0,
      "outputs": []
    }
  ]
}