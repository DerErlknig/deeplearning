{
  "nbformat": 4,
  "nbformat_minor": 0,
  "metadata": {
    "kernelspec": {
      "display_name": "Python 3",
      "language": "python",
      "name": "python3"
    },
    "colab": {
      "name": "09_Wine_Checkpoint.ipynb",
      "provenance": [],
      "include_colab_link": true
    }
  },
  "cells": [
    {
      "cell_type": "markdown",
      "metadata": {
        "id": "view-in-github",
        "colab_type": "text"
      },
      "source": [
        "<a href=\"https://colab.research.google.com/github/junhansong/deeplearning/blob/master/deeplearning/run_project/09_Wine_Checkpoint.ipynb\" target=\"_parent\"><img src=\"https://colab.research.google.com/assets/colab-badge.svg\" alt=\"Open In Colab\"/></a>"
      ]
    },
    {
      "cell_type": "markdown",
      "metadata": {
        "id": "GlHOaeopqUpG",
        "colab_type": "text"
      },
      "source": [
        "### 라이브러리 호출\n"
      ]
    },
    {
      "cell_type": "code",
      "metadata": {
        "id": "yXb_3gua7V13",
        "colab_type": "code",
        "colab": {
          "base_uri": "https://localhost:8080/",
          "height": 33
        },
        "outputId": "80a689b1-83df-4b29-bcd6-d482120863a5"
      },
      "source": [
        "from keras.models import Sequential\n",
        "from keras.layers import Dense\n",
        "from keras.callbacks import ModelCheckpoint\n",
        "\n",
        "import pandas as pd\n",
        "import numpy\n",
        "import os\n",
        "import tensorflow as tf\n",
        "\n"
      ],
      "execution_count": 1,
      "outputs": [
        {
          "output_type": "stream",
          "text": [
            "Using TensorFlow backend.\n"
          ],
          "name": "stderr"
        }
      ]
    },
    {
      "cell_type": "markdown",
      "metadata": {
        "id": "4caTe6RV7hZc",
        "colab_type": "text"
      },
      "source": [
        "### seed 값 설정\n"
      ]
    },
    {
      "cell_type": "code",
      "metadata": {
        "id": "GA1z7--c7iA2",
        "colab_type": "code",
        "colab": {}
      },
      "source": [
        "numpy.random.seed(3)\n",
        "tf.random.set_seed(3)\n",
        "\n"
      ],
      "execution_count": 0,
      "outputs": []
    },
    {
      "cell_type": "markdown",
      "metadata": {
        "id": "ZusK2UBR7juY",
        "colab_type": "text"
      },
      "source": [
        "### 데이터 로딩\n"
      ]
    },
    {
      "cell_type": "code",
      "metadata": {
        "id": "AMyWGHSo74iS",
        "colab_type": "code",
        "colab": {}
      },
      "source": [
        "df_pre = pd.read_csv('https://raw.githubusercontent.com/junhansong/deeplearning/master/deeplearning/dataset/wine.csv', header=None)\n",
        "df = df_pre.sample(frac=1)\n",
        "\n"
      ],
      "execution_count": 0,
      "outputs": []
    },
    {
      "cell_type": "markdown",
      "metadata": {
        "id": "nCCNMy4k7k6v",
        "colab_type": "text"
      },
      "source": [
        "### 데이터 셋 분리\n"
      ]
    },
    {
      "cell_type": "code",
      "metadata": {
        "id": "n6LkaR_t8Bs5",
        "colab_type": "code",
        "colab": {}
      },
      "source": [
        "dataset = df.values\n",
        "X = dataset[:,0:12]\n",
        "Y = dataset[:,12]\n",
        "\n"
      ],
      "execution_count": 0,
      "outputs": []
    },
    {
      "cell_type": "markdown",
      "metadata": {
        "id": "f2MrnWGB7lvV",
        "colab_type": "text"
      },
      "source": [
        "### 모델의 설정\n"
      ]
    },
    {
      "cell_type": "code",
      "metadata": {
        "id": "MJzoLuzh7mRv",
        "colab_type": "code",
        "colab": {}
      },
      "source": [
        "model = Sequential()\n",
        "model.add(Dense(30,  input_dim=12, activation='relu'))\n",
        "model.add(Dense(12, activation='relu'))\n",
        "model.add(Dense(8, activation='relu'))\n",
        "model.add(Dense(1, activation='sigmoid'))\n",
        "\n"
      ],
      "execution_count": 0,
      "outputs": []
    },
    {
      "cell_type": "markdown",
      "metadata": {
        "id": "CIPkCOfq7nEk",
        "colab_type": "text"
      },
      "source": [
        "### 모델 컴파일\n"
      ]
    },
    {
      "cell_type": "code",
      "metadata": {
        "id": "1C3kByY57nmz",
        "colab_type": "code",
        "colab": {}
      },
      "source": [
        "model.compile(loss='binary_crossentropy',\n",
        "          optimizer='adam',\n",
        "          metrics=['accuracy'])\n",
        "\n"
      ],
      "execution_count": 0,
      "outputs": []
    },
    {
      "cell_type": "markdown",
      "metadata": {
        "id": "j9RKY5Go7oTQ",
        "colab_type": "text"
      },
      "source": [
        "### 모델 저장 폴더 설정\n"
      ]
    },
    {
      "cell_type": "code",
      "metadata": {
        "id": "L8Am0nKv7oyR",
        "colab_type": "code",
        "colab": {}
      },
      "source": [
        "MODEL_DIR = './model/'\n",
        "if not os.path.exists(MODEL_DIR):\n",
        "   os.mkdir(MODEL_DIR)\n",
        "\n"
      ],
      "execution_count": 0,
      "outputs": []
    },
    {
      "cell_type": "markdown",
      "metadata": {
        "id": "YSVA2Bcl7pdR",
        "colab_type": "text"
      },
      "source": [
        "### 모델 저장 조건 설정\n"
      ]
    },
    {
      "cell_type": "code",
      "metadata": {
        "id": "0CZ2xqoh7qAb",
        "colab_type": "code",
        "colab": {}
      },
      "source": [
        "modelpath=\"./model/{epoch:02d}-{val_loss:.4f}.hdf5\"\n",
        "checkpointer = ModelCheckpoint(filepath=modelpath, monitor='val_loss', verbose=1, save_best_only=True)\n",
        "\n"
      ],
      "execution_count": 0,
      "outputs": []
    },
    {
      "cell_type": "markdown",
      "metadata": {
        "id": "-BEDnicd7q97",
        "colab_type": "text"
      },
      "source": [
        "### 모델 실행 및 저장\n"
      ]
    },
    {
      "cell_type": "code",
      "metadata": {
        "id": "Pux-6jVz7rfH",
        "colab_type": "code",
        "colab": {
          "base_uri": "https://localhost:8080/",
          "height": 1000
        },
        "outputId": "3e105d12-d3ae-4149-950d-13d6dea42040"
      },
      "source": [
        "model.fit(X, Y, validation_split=0.2, epochs=200, batch_size=200, verbose=0, callbacks=[checkpointer])\n"
      ],
      "execution_count": 9,
      "outputs": [
        {
          "output_type": "stream",
          "text": [
            "\n",
            "Epoch 00001: val_loss improved from inf to 0.35566, saving model to ./model/01-0.3557.hdf5\n",
            "\n",
            "Epoch 00002: val_loss improved from 0.35566 to 0.31362, saving model to ./model/02-0.3136.hdf5\n",
            "\n",
            "Epoch 00003: val_loss improved from 0.31362 to 0.28975, saving model to ./model/03-0.2898.hdf5\n",
            "\n",
            "Epoch 00004: val_loss improved from 0.28975 to 0.27077, saving model to ./model/04-0.2708.hdf5\n",
            "\n",
            "Epoch 00005: val_loss improved from 0.27077 to 0.24781, saving model to ./model/05-0.2478.hdf5\n",
            "\n",
            "Epoch 00006: val_loss improved from 0.24781 to 0.22913, saving model to ./model/06-0.2291.hdf5\n",
            "\n",
            "Epoch 00007: val_loss improved from 0.22913 to 0.21567, saving model to ./model/07-0.2157.hdf5\n",
            "\n",
            "Epoch 00008: val_loss improved from 0.21567 to 0.20413, saving model to ./model/08-0.2041.hdf5\n",
            "\n",
            "Epoch 00009: val_loss improved from 0.20413 to 0.19555, saving model to ./model/09-0.1956.hdf5\n",
            "\n",
            "Epoch 00010: val_loss improved from 0.19555 to 0.18865, saving model to ./model/10-0.1886.hdf5\n",
            "\n",
            "Epoch 00011: val_loss improved from 0.18865 to 0.18452, saving model to ./model/11-0.1845.hdf5\n",
            "\n",
            "Epoch 00012: val_loss did not improve from 0.18452\n",
            "\n",
            "Epoch 00013: val_loss improved from 0.18452 to 0.17743, saving model to ./model/13-0.1774.hdf5\n",
            "\n",
            "Epoch 00014: val_loss improved from 0.17743 to 0.17276, saving model to ./model/14-0.1728.hdf5\n",
            "\n",
            "Epoch 00015: val_loss improved from 0.17276 to 0.16550, saving model to ./model/15-0.1655.hdf5\n",
            "\n",
            "Epoch 00016: val_loss improved from 0.16550 to 0.16192, saving model to ./model/16-0.1619.hdf5\n",
            "\n",
            "Epoch 00017: val_loss improved from 0.16192 to 0.15785, saving model to ./model/17-0.1578.hdf5\n",
            "\n",
            "Epoch 00018: val_loss improved from 0.15785 to 0.15288, saving model to ./model/18-0.1529.hdf5\n",
            "\n",
            "Epoch 00019: val_loss improved from 0.15288 to 0.14900, saving model to ./model/19-0.1490.hdf5\n",
            "\n",
            "Epoch 00020: val_loss improved from 0.14900 to 0.14588, saving model to ./model/20-0.1459.hdf5\n",
            "\n",
            "Epoch 00021: val_loss improved from 0.14588 to 0.14336, saving model to ./model/21-0.1434.hdf5\n",
            "\n",
            "Epoch 00022: val_loss improved from 0.14336 to 0.13731, saving model to ./model/22-0.1373.hdf5\n",
            "\n",
            "Epoch 00023: val_loss improved from 0.13731 to 0.13351, saving model to ./model/23-0.1335.hdf5\n",
            "\n",
            "Epoch 00024: val_loss improved from 0.13351 to 0.12955, saving model to ./model/24-0.1296.hdf5\n",
            "\n",
            "Epoch 00025: val_loss did not improve from 0.12955\n",
            "\n",
            "Epoch 00026: val_loss improved from 0.12955 to 0.12499, saving model to ./model/26-0.1250.hdf5\n",
            "\n",
            "Epoch 00027: val_loss improved from 0.12499 to 0.12284, saving model to ./model/27-0.1228.hdf5\n",
            "\n",
            "Epoch 00028: val_loss improved from 0.12284 to 0.11940, saving model to ./model/28-0.1194.hdf5\n",
            "\n",
            "Epoch 00029: val_loss improved from 0.11940 to 0.11608, saving model to ./model/29-0.1161.hdf5\n",
            "\n",
            "Epoch 00030: val_loss did not improve from 0.11608\n",
            "\n",
            "Epoch 00031: val_loss improved from 0.11608 to 0.10894, saving model to ./model/31-0.1089.hdf5\n",
            "\n",
            "Epoch 00032: val_loss did not improve from 0.10894\n",
            "\n",
            "Epoch 00033: val_loss improved from 0.10894 to 0.10258, saving model to ./model/33-0.1026.hdf5\n",
            "\n",
            "Epoch 00034: val_loss improved from 0.10258 to 0.09997, saving model to ./model/34-0.1000.hdf5\n",
            "\n",
            "Epoch 00035: val_loss improved from 0.09997 to 0.09813, saving model to ./model/35-0.0981.hdf5\n",
            "\n",
            "Epoch 00036: val_loss improved from 0.09813 to 0.09784, saving model to ./model/36-0.0978.hdf5\n",
            "\n",
            "Epoch 00037: val_loss improved from 0.09784 to 0.09582, saving model to ./model/37-0.0958.hdf5\n",
            "\n",
            "Epoch 00038: val_loss improved from 0.09582 to 0.09271, saving model to ./model/38-0.0927.hdf5\n",
            "\n",
            "Epoch 00039: val_loss did not improve from 0.09271\n",
            "\n",
            "Epoch 00040: val_loss did not improve from 0.09271\n",
            "\n",
            "Epoch 00041: val_loss improved from 0.09271 to 0.08926, saving model to ./model/41-0.0893.hdf5\n",
            "\n",
            "Epoch 00042: val_loss did not improve from 0.08926\n",
            "\n",
            "Epoch 00043: val_loss did not improve from 0.08926\n",
            "\n",
            "Epoch 00044: val_loss did not improve from 0.08926\n",
            "\n",
            "Epoch 00045: val_loss did not improve from 0.08926\n",
            "\n",
            "Epoch 00046: val_loss improved from 0.08926 to 0.08661, saving model to ./model/46-0.0866.hdf5\n",
            "\n",
            "Epoch 00047: val_loss improved from 0.08661 to 0.08288, saving model to ./model/47-0.0829.hdf5\n",
            "\n",
            "Epoch 00048: val_loss improved from 0.08288 to 0.08228, saving model to ./model/48-0.0823.hdf5\n",
            "\n",
            "Epoch 00049: val_loss did not improve from 0.08228\n",
            "\n",
            "Epoch 00050: val_loss did not improve from 0.08228\n",
            "\n",
            "Epoch 00051: val_loss did not improve from 0.08228\n",
            "\n",
            "Epoch 00052: val_loss did not improve from 0.08228\n",
            "\n",
            "Epoch 00053: val_loss did not improve from 0.08228\n",
            "\n",
            "Epoch 00054: val_loss did not improve from 0.08228\n",
            "\n",
            "Epoch 00055: val_loss did not improve from 0.08228\n",
            "\n",
            "Epoch 00056: val_loss improved from 0.08228 to 0.07736, saving model to ./model/56-0.0774.hdf5\n",
            "\n",
            "Epoch 00057: val_loss improved from 0.07736 to 0.07531, saving model to ./model/57-0.0753.hdf5\n",
            "\n",
            "Epoch 00058: val_loss improved from 0.07531 to 0.07412, saving model to ./model/58-0.0741.hdf5\n",
            "\n",
            "Epoch 00059: val_loss did not improve from 0.07412\n",
            "\n",
            "Epoch 00060: val_loss did not improve from 0.07412\n",
            "\n",
            "Epoch 00061: val_loss improved from 0.07412 to 0.07226, saving model to ./model/61-0.0723.hdf5\n",
            "\n",
            "Epoch 00062: val_loss did not improve from 0.07226\n",
            "\n",
            "Epoch 00063: val_loss did not improve from 0.07226\n",
            "\n",
            "Epoch 00064: val_loss improved from 0.07226 to 0.07114, saving model to ./model/64-0.0711.hdf5\n",
            "\n",
            "Epoch 00065: val_loss improved from 0.07114 to 0.07019, saving model to ./model/65-0.0702.hdf5\n",
            "\n",
            "Epoch 00066: val_loss improved from 0.07019 to 0.06962, saving model to ./model/66-0.0696.hdf5\n",
            "\n",
            "Epoch 00067: val_loss did not improve from 0.06962\n",
            "\n",
            "Epoch 00068: val_loss improved from 0.06962 to 0.06874, saving model to ./model/68-0.0687.hdf5\n",
            "\n",
            "Epoch 00069: val_loss did not improve from 0.06874\n",
            "\n",
            "Epoch 00070: val_loss improved from 0.06874 to 0.06837, saving model to ./model/70-0.0684.hdf5\n",
            "\n",
            "Epoch 00071: val_loss did not improve from 0.06837\n",
            "\n",
            "Epoch 00072: val_loss did not improve from 0.06837\n",
            "\n",
            "Epoch 00073: val_loss improved from 0.06837 to 0.06702, saving model to ./model/73-0.0670.hdf5\n",
            "\n",
            "Epoch 00074: val_loss did not improve from 0.06702\n",
            "\n",
            "Epoch 00075: val_loss did not improve from 0.06702\n",
            "\n",
            "Epoch 00076: val_loss did not improve from 0.06702\n",
            "\n",
            "Epoch 00077: val_loss improved from 0.06702 to 0.06627, saving model to ./model/77-0.0663.hdf5\n",
            "\n",
            "Epoch 00078: val_loss improved from 0.06627 to 0.06569, saving model to ./model/78-0.0657.hdf5\n",
            "\n",
            "Epoch 00079: val_loss did not improve from 0.06569\n",
            "\n",
            "Epoch 00080: val_loss did not improve from 0.06569\n",
            "\n",
            "Epoch 00081: val_loss did not improve from 0.06569\n",
            "\n",
            "Epoch 00082: val_loss did not improve from 0.06569\n",
            "\n",
            "Epoch 00083: val_loss improved from 0.06569 to 0.06326, saving model to ./model/83-0.0633.hdf5\n",
            "\n",
            "Epoch 00084: val_loss did not improve from 0.06326\n",
            "\n",
            "Epoch 00085: val_loss did not improve from 0.06326\n",
            "\n",
            "Epoch 00086: val_loss improved from 0.06326 to 0.06236, saving model to ./model/86-0.0624.hdf5\n",
            "\n",
            "Epoch 00087: val_loss did not improve from 0.06236\n",
            "\n",
            "Epoch 00088: val_loss did not improve from 0.06236\n",
            "\n",
            "Epoch 00089: val_loss did not improve from 0.06236\n",
            "\n",
            "Epoch 00090: val_loss did not improve from 0.06236\n",
            "\n",
            "Epoch 00091: val_loss did not improve from 0.06236\n",
            "\n",
            "Epoch 00092: val_loss did not improve from 0.06236\n",
            "\n",
            "Epoch 00093: val_loss did not improve from 0.06236\n",
            "\n",
            "Epoch 00094: val_loss did not improve from 0.06236\n",
            "\n",
            "Epoch 00095: val_loss improved from 0.06236 to 0.06097, saving model to ./model/95-0.0610.hdf5\n",
            "\n",
            "Epoch 00096: val_loss improved from 0.06097 to 0.06077, saving model to ./model/96-0.0608.hdf5\n",
            "\n",
            "Epoch 00097: val_loss did not improve from 0.06077\n",
            "\n",
            "Epoch 00098: val_loss did not improve from 0.06077\n",
            "\n",
            "Epoch 00099: val_loss did not improve from 0.06077\n",
            "\n",
            "Epoch 00100: val_loss improved from 0.06077 to 0.06022, saving model to ./model/100-0.0602.hdf5\n",
            "\n",
            "Epoch 00101: val_loss did not improve from 0.06022\n",
            "\n",
            "Epoch 00102: val_loss improved from 0.06022 to 0.05927, saving model to ./model/102-0.0593.hdf5\n",
            "\n",
            "Epoch 00103: val_loss did not improve from 0.05927\n",
            "\n",
            "Epoch 00104: val_loss did not improve from 0.05927\n",
            "\n",
            "Epoch 00105: val_loss did not improve from 0.05927\n",
            "\n",
            "Epoch 00106: val_loss did not improve from 0.05927\n",
            "\n",
            "Epoch 00107: val_loss did not improve from 0.05927\n",
            "\n",
            "Epoch 00108: val_loss improved from 0.05927 to 0.05894, saving model to ./model/108-0.0589.hdf5\n",
            "\n",
            "Epoch 00109: val_loss did not improve from 0.05894\n",
            "\n",
            "Epoch 00110: val_loss did not improve from 0.05894\n",
            "\n",
            "Epoch 00111: val_loss did not improve from 0.05894\n",
            "\n",
            "Epoch 00112: val_loss did not improve from 0.05894\n",
            "\n",
            "Epoch 00113: val_loss did not improve from 0.05894\n",
            "\n",
            "Epoch 00114: val_loss did not improve from 0.05894\n",
            "\n",
            "Epoch 00115: val_loss did not improve from 0.05894\n",
            "\n",
            "Epoch 00116: val_loss did not improve from 0.05894\n",
            "\n",
            "Epoch 00117: val_loss did not improve from 0.05894\n",
            "\n",
            "Epoch 00118: val_loss improved from 0.05894 to 0.05711, saving model to ./model/118-0.0571.hdf5\n",
            "\n",
            "Epoch 00119: val_loss did not improve from 0.05711\n",
            "\n",
            "Epoch 00120: val_loss did not improve from 0.05711\n",
            "\n",
            "Epoch 00121: val_loss did not improve from 0.05711\n",
            "\n",
            "Epoch 00122: val_loss did not improve from 0.05711\n",
            "\n",
            "Epoch 00123: val_loss did not improve from 0.05711\n",
            "\n",
            "Epoch 00124: val_loss did not improve from 0.05711\n",
            "\n",
            "Epoch 00125: val_loss improved from 0.05711 to 0.05659, saving model to ./model/125-0.0566.hdf5\n",
            "\n",
            "Epoch 00126: val_loss did not improve from 0.05659\n",
            "\n",
            "Epoch 00127: val_loss did not improve from 0.05659\n",
            "\n",
            "Epoch 00128: val_loss did not improve from 0.05659\n",
            "\n",
            "Epoch 00129: val_loss did not improve from 0.05659\n",
            "\n",
            "Epoch 00130: val_loss did not improve from 0.05659\n",
            "\n",
            "Epoch 00131: val_loss improved from 0.05659 to 0.05619, saving model to ./model/131-0.0562.hdf5\n",
            "\n",
            "Epoch 00132: val_loss did not improve from 0.05619\n",
            "\n",
            "Epoch 00133: val_loss did not improve from 0.05619\n",
            "\n",
            "Epoch 00134: val_loss did not improve from 0.05619\n",
            "\n",
            "Epoch 00135: val_loss did not improve from 0.05619\n",
            "\n",
            "Epoch 00136: val_loss improved from 0.05619 to 0.05609, saving model to ./model/136-0.0561.hdf5\n",
            "\n",
            "Epoch 00137: val_loss improved from 0.05609 to 0.05484, saving model to ./model/137-0.0548.hdf5\n",
            "\n",
            "Epoch 00138: val_loss did not improve from 0.05484\n",
            "\n",
            "Epoch 00139: val_loss did not improve from 0.05484\n",
            "\n",
            "Epoch 00140: val_loss did not improve from 0.05484\n",
            "\n",
            "Epoch 00141: val_loss did not improve from 0.05484\n",
            "\n",
            "Epoch 00142: val_loss did not improve from 0.05484\n",
            "\n",
            "Epoch 00143: val_loss improved from 0.05484 to 0.05483, saving model to ./model/143-0.0548.hdf5\n",
            "\n",
            "Epoch 00144: val_loss did not improve from 0.05483\n",
            "\n",
            "Epoch 00145: val_loss did not improve from 0.05483\n",
            "\n",
            "Epoch 00146: val_loss improved from 0.05483 to 0.05431, saving model to ./model/146-0.0543.hdf5\n",
            "\n",
            "Epoch 00147: val_loss did not improve from 0.05431\n",
            "\n",
            "Epoch 00148: val_loss did not improve from 0.05431\n",
            "\n",
            "Epoch 00149: val_loss did not improve from 0.05431\n",
            "\n",
            "Epoch 00150: val_loss did not improve from 0.05431\n",
            "\n",
            "Epoch 00151: val_loss did not improve from 0.05431\n",
            "\n",
            "Epoch 00152: val_loss did not improve from 0.05431\n",
            "\n",
            "Epoch 00153: val_loss did not improve from 0.05431\n",
            "\n",
            "Epoch 00154: val_loss did not improve from 0.05431\n",
            "\n",
            "Epoch 00155: val_loss did not improve from 0.05431\n",
            "\n",
            "Epoch 00156: val_loss improved from 0.05431 to 0.05407, saving model to ./model/156-0.0541.hdf5\n",
            "\n",
            "Epoch 00157: val_loss did not improve from 0.05407\n",
            "\n",
            "Epoch 00158: val_loss did not improve from 0.05407\n",
            "\n",
            "Epoch 00159: val_loss did not improve from 0.05407\n",
            "\n",
            "Epoch 00160: val_loss improved from 0.05407 to 0.05327, saving model to ./model/160-0.0533.hdf5\n",
            "\n",
            "Epoch 00161: val_loss improved from 0.05327 to 0.05303, saving model to ./model/161-0.0530.hdf5\n",
            "\n",
            "Epoch 00162: val_loss did not improve from 0.05303\n",
            "\n",
            "Epoch 00163: val_loss did not improve from 0.05303\n",
            "\n",
            "Epoch 00164: val_loss did not improve from 0.05303\n",
            "\n",
            "Epoch 00165: val_loss did not improve from 0.05303\n",
            "\n",
            "Epoch 00166: val_loss did not improve from 0.05303\n",
            "\n",
            "Epoch 00167: val_loss did not improve from 0.05303\n",
            "\n",
            "Epoch 00168: val_loss did not improve from 0.05303\n",
            "\n",
            "Epoch 00169: val_loss did not improve from 0.05303\n",
            "\n",
            "Epoch 00170: val_loss did not improve from 0.05303\n",
            "\n",
            "Epoch 00171: val_loss improved from 0.05303 to 0.05272, saving model to ./model/171-0.0527.hdf5\n",
            "\n",
            "Epoch 00172: val_loss did not improve from 0.05272\n",
            "\n",
            "Epoch 00173: val_loss did not improve from 0.05272\n",
            "\n",
            "Epoch 00174: val_loss did not improve from 0.05272\n",
            "\n",
            "Epoch 00175: val_loss did not improve from 0.05272\n",
            "\n",
            "Epoch 00176: val_loss did not improve from 0.05272\n",
            "\n",
            "Epoch 00177: val_loss improved from 0.05272 to 0.05223, saving model to ./model/177-0.0522.hdf5\n",
            "\n",
            "Epoch 00178: val_loss did not improve from 0.05223\n",
            "\n",
            "Epoch 00179: val_loss did not improve from 0.05223\n",
            "\n",
            "Epoch 00180: val_loss did not improve from 0.05223\n",
            "\n",
            "Epoch 00181: val_loss did not improve from 0.05223\n",
            "\n",
            "Epoch 00182: val_loss did not improve from 0.05223\n",
            "\n",
            "Epoch 00183: val_loss did not improve from 0.05223\n",
            "\n",
            "Epoch 00184: val_loss did not improve from 0.05223\n",
            "\n",
            "Epoch 00185: val_loss did not improve from 0.05223\n",
            "\n",
            "Epoch 00186: val_loss did not improve from 0.05223\n",
            "\n",
            "Epoch 00187: val_loss did not improve from 0.05223\n",
            "\n",
            "Epoch 00188: val_loss did not improve from 0.05223\n",
            "\n",
            "Epoch 00189: val_loss did not improve from 0.05223\n",
            "\n",
            "Epoch 00190: val_loss improved from 0.05223 to 0.05214, saving model to ./model/190-0.0521.hdf5\n",
            "\n",
            "Epoch 00191: val_loss did not improve from 0.05214\n",
            "\n",
            "Epoch 00192: val_loss did not improve from 0.05214\n",
            "\n",
            "Epoch 00193: val_loss improved from 0.05214 to 0.05185, saving model to ./model/193-0.0519.hdf5\n",
            "\n",
            "Epoch 00194: val_loss did not improve from 0.05185\n",
            "\n",
            "Epoch 00195: val_loss did not improve from 0.05185\n",
            "\n",
            "Epoch 00196: val_loss did not improve from 0.05185\n",
            "\n",
            "Epoch 00197: val_loss did not improve from 0.05185\n",
            "\n",
            "Epoch 00198: val_loss did not improve from 0.05185\n",
            "\n",
            "Epoch 00199: val_loss did not improve from 0.05185\n",
            "\n",
            "Epoch 00200: val_loss did not improve from 0.05185\n"
          ],
          "name": "stdout"
        },
        {
          "output_type": "execute_result",
          "data": {
            "text/plain": [
              "<keras.callbacks.callbacks.History at 0x7f791baaa898>"
            ]
          },
          "metadata": {
            "tags": []
          },
          "execution_count": 9
        }
      ]
    },
    {
      "cell_type": "code",
      "metadata": {
        "id": "X_jzWDUWqUpU",
        "colab_type": "code",
        "colab": {}
      },
      "source": [
        ""
      ],
      "execution_count": 0,
      "outputs": []
    }
  ]
}