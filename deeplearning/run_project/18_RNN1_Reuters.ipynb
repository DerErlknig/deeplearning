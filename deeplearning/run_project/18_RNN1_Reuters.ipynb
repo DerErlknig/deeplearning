{
  "nbformat": 4,
  "nbformat_minor": 0,
  "metadata": {
    "kernelspec": {
      "display_name": "Python 3",
      "language": "python",
      "name": "python3"
    },
    "language_info": {
      "codemirror_mode": {
        "name": "ipython",
        "version": 3
      },
      "file_extension": ".py",
      "mimetype": "text/x-python",
      "name": "python",
      "nbconvert_exporter": "python",
      "pygments_lexer": "ipython3",
      "version": "3.7.3"
    },
    "colab": {
      "name": "18_RNN1_Reuters.ipynb",
      "provenance": [],
      "include_colab_link": true
    },
    "accelerator": "GPU"
  },
  "cells": [
    {
      "cell_type": "markdown",
      "metadata": {
        "id": "view-in-github",
        "colab_type": "text"
      },
      "source": [
        "<a href=\"https://colab.research.google.com/github/junhansong/deeplearning/blob/master/deeplearning/run_project/18_RNN1_Reuters.ipynb\" target=\"_parent\"><img src=\"https://colab.research.google.com/assets/colab-badge.svg\" alt=\"Open In Colab\"/></a>"
      ]
    },
    {
      "cell_type": "markdown",
      "metadata": {
        "id": "i22jfpPKuqNf",
        "colab_type": "text"
      },
      "source": [
        "### 라이브러리 호출\n"
      ]
    },
    {
      "cell_type": "code",
      "metadata": {
        "id": "XKplzTuxsyvP",
        "colab_type": "code",
        "colab": {}
      },
      "source": [
        "# -*- coding: utf-8 -*-\n",
        "# 코드 내부에 한글을 사용가능 하게 해주는 부분입니다.\n",
        "\n",
        "import numpy\n",
        "import tensorflow as tf\n",
        "import matplotlib.pyplot as plt\n",
        "\n"
      ],
      "execution_count": 0,
      "outputs": []
    },
    {
      "cell_type": "markdown",
      "metadata": {
        "id": "Zl9qE56Ps0RI",
        "colab_type": "text"
      },
      "source": [
        "### 로이터 뉴스 데이터셋 불러오기\n"
      ]
    },
    {
      "cell_type": "code",
      "metadata": {
        "id": "ALCFSCzMs2Lb",
        "colab_type": "code",
        "colab": {
          "base_uri": "https://localhost:8080/",
          "height": 34
        },
        "outputId": "f3c0935f-564e-4b8c-df2b-9240749d7b47"
      },
      "source": [
        "from keras.datasets import reuters\n",
        "from keras.models import Sequential\n",
        "\n",
        "#from tensorflow.keras.models import Sequential\n",
        "#from tensorflow.keras.layers import Dense,LSTM,Embedding\n",
        "\n",
        "from keras.layers import Dense, LSTM, Embedding\n",
        "from keras.preprocessing import sequence\n",
        "from keras.utils import np_utils\n",
        "\n",
        "\n",
        "\n"
      ],
      "execution_count": 2,
      "outputs": [
        {
          "output_type": "stream",
          "text": [
            "Using TensorFlow backend.\n"
          ],
          "name": "stderr"
        }
      ]
    },
    {
      "cell_type": "markdown",
      "metadata": {
        "id": "C2duHDqEs3NS",
        "colab_type": "text"
      },
      "source": [
        "### seed 값 설정\n"
      ]
    },
    {
      "cell_type": "code",
      "metadata": {
        "id": "3rx1hkSes34f",
        "colab_type": "code",
        "colab": {}
      },
      "source": [
        "seed = 0\n",
        "numpy.random.seed(seed)\n",
        "tf.random.set_seed(3)\n",
        "\n"
      ],
      "execution_count": 0,
      "outputs": []
    },
    {
      "cell_type": "markdown",
      "metadata": {
        "id": "1C6dEI6us4l4",
        "colab_type": "text"
      },
      "source": [
        "### 불러온 데이터를 학습셋, 테스트셋으로 나누기\n"
      ]
    },
    {
      "cell_type": "code",
      "metadata": {
        "id": "2RbBtAq5s5Jh",
        "colab_type": "code",
        "colab": {
          "base_uri": "https://localhost:8080/",
          "height": 51
        },
        "outputId": "7b8925a0-ecec-4718-c0d1-ca0f91f3e009"
      },
      "source": [
        "(X_train, Y_train), (X_test, Y_test) = reuters.load_data(num_words=1000, test_split=0.2)\n",
        "\n"
      ],
      "execution_count": 4,
      "outputs": [
        {
          "output_type": "stream",
          "text": [
            "Downloading data from https://s3.amazonaws.com/text-datasets/reuters.npz\n",
            "2113536/2110848 [==============================] - 1s 1us/step\n"
          ],
          "name": "stdout"
        }
      ]
    },
    {
      "cell_type": "markdown",
      "metadata": {
        "id": "MLCiam1ms5vu",
        "colab_type": "text"
      },
      "source": [
        "### 데이터 확인하기\n"
      ]
    },
    {
      "cell_type": "code",
      "metadata": {
        "id": "lLiE6-FDs6U1",
        "colab_type": "code",
        "colab": {
          "base_uri": "https://localhost:8080/",
          "height": 105
        },
        "outputId": "3c8e7567-b9a5-4350-aff6-5ba17c13800b"
      },
      "source": [
        "category = numpy.max(Y_train) + 1\n",
        "print(category, '카테고리')\n",
        "print(len(X_train), '학습용 뉴스 기사')\n",
        "print(len(X_test), '테스트용 뉴스 기사')\n",
        "print(X_train[0])\n",
        "\n"
      ],
      "execution_count": 5,
      "outputs": [
        {
          "output_type": "stream",
          "text": [
            "46 카테고리\n",
            "8982 학습용 뉴스 기사\n",
            "2246 테스트용 뉴스 기사\n",
            "[1, 2, 2, 8, 43, 10, 447, 5, 25, 207, 270, 5, 2, 111, 16, 369, 186, 90, 67, 7, 89, 5, 19, 102, 6, 19, 124, 15, 90, 67, 84, 22, 482, 26, 7, 48, 4, 49, 8, 864, 39, 209, 154, 6, 151, 6, 83, 11, 15, 22, 155, 11, 15, 7, 48, 9, 2, 2, 504, 6, 258, 6, 272, 11, 15, 22, 134, 44, 11, 15, 16, 8, 197, 2, 90, 67, 52, 29, 209, 30, 32, 132, 6, 109, 15, 17, 12]\n"
          ],
          "name": "stdout"
        }
      ]
    },
    {
      "cell_type": "markdown",
      "metadata": {
        "id": "RHHsjHYWs7F-",
        "colab_type": "text"
      },
      "source": [
        "### 데이터 전처리\n"
      ]
    },
    {
      "cell_type": "code",
      "metadata": {
        "id": "y7nP-y--s7xN",
        "colab_type": "code",
        "colab": {}
      },
      "source": [
        "x_train = sequence.pad_sequences(X_train, maxlen=100)\n",
        "x_test = sequence.pad_sequences(X_test, maxlen=100)\n",
        "y_train = np_utils.to_categorical(Y_train)\n",
        "y_test = np_utils.to_categorical(Y_test)\n",
        "\n"
      ],
      "execution_count": 0,
      "outputs": []
    },
    {
      "cell_type": "markdown",
      "metadata": {
        "id": "kjJJNkKhs8cl",
        "colab_type": "text"
      },
      "source": [
        "### 모델의 설정\n"
      ]
    },
    {
      "cell_type": "code",
      "metadata": {
        "id": "7rDFJoGDs89a",
        "colab_type": "code",
        "colab": {}
      },
      "source": [
        "model = Sequential()\n",
        "model.add(Embedding(1000, 100))\n",
        "model.add(LSTM(100, activation='tanh'))\n",
        "model.add(Dense(46, activation='softmax'))\n",
        "\n"
      ],
      "execution_count": 0,
      "outputs": []
    },
    {
      "cell_type": "markdown",
      "metadata": {
        "id": "0csBSEYts9rb",
        "colab_type": "text"
      },
      "source": [
        "### 모델의 컴파일\n"
      ]
    },
    {
      "cell_type": "code",
      "metadata": {
        "id": "k_QClgC8s-MM",
        "colab_type": "code",
        "colab": {}
      },
      "source": [
        "model.compile(loss='categorical_crossentropy',\n",
        "            optimizer='adam',\n",
        "            metrics=['accuracy'])\n",
        "\n"
      ],
      "execution_count": 0,
      "outputs": []
    },
    {
      "cell_type": "markdown",
      "metadata": {
        "id": "Knw9VC6is-3M",
        "colab_type": "text"
      },
      "source": [
        "### 모델의 실행\n"
      ]
    },
    {
      "cell_type": "code",
      "metadata": {
        "id": "-H2XPnpps_VB",
        "colab_type": "code",
        "colab": {
          "base_uri": "https://localhost:8080/",
          "height": 768
        },
        "outputId": "41e735d3-22a1-4864-c1a8-7ffc70b74743"
      },
      "source": [
        "history = model.fit(x_train, y_train, batch_size=100, epochs=20, validation_data=(x_test, y_test))\n",
        "\n"
      ],
      "execution_count": 9,
      "outputs": [
        {
          "output_type": "stream",
          "text": [
            "/usr/local/lib/python3.6/dist-packages/tensorflow/python/framework/indexed_slices.py:434: UserWarning: Converting sparse IndexedSlices to a dense Tensor of unknown shape. This may consume a large amount of memory.\n",
            "  \"Converting sparse IndexedSlices to a dense Tensor of unknown shape. \"\n"
          ],
          "name": "stderr"
        },
        {
          "output_type": "stream",
          "text": [
            "Train on 8982 samples, validate on 2246 samples\n",
            "Epoch 1/20\n",
            "8982/8982 [==============================] - 26s 3ms/step - loss: 2.5576 - accuracy: 0.3717 - val_loss: 2.0103 - val_accuracy: 0.4920\n",
            "Epoch 2/20\n",
            "8982/8982 [==============================] - 23s 3ms/step - loss: 1.9003 - accuracy: 0.4945 - val_loss: 1.8576 - val_accuracy: 0.4862\n",
            "Epoch 3/20\n",
            "8982/8982 [==============================] - 23s 3ms/step - loss: 1.8073 - accuracy: 0.5253 - val_loss: 1.7992 - val_accuracy: 0.5227\n",
            "Epoch 4/20\n",
            "8982/8982 [==============================] - 24s 3ms/step - loss: 1.7909 - accuracy: 0.5181 - val_loss: 1.7559 - val_accuracy: 0.5512\n",
            "Epoch 5/20\n",
            "8982/8982 [==============================] - 24s 3ms/step - loss: 1.6729 - accuracy: 0.5679 - val_loss: 1.6581 - val_accuracy: 0.5926\n",
            "Epoch 6/20\n",
            "8982/8982 [==============================] - 24s 3ms/step - loss: 1.5712 - accuracy: 0.5978 - val_loss: 1.5899 - val_accuracy: 0.6060\n",
            "Epoch 7/20\n",
            "8982/8982 [==============================] - 24s 3ms/step - loss: 1.4566 - accuracy: 0.6319 - val_loss: 1.4869 - val_accuracy: 0.6309\n",
            "Epoch 8/20\n",
            "8982/8982 [==============================] - 24s 3ms/step - loss: 1.3705 - accuracy: 0.6520 - val_loss: 1.4506 - val_accuracy: 0.6345\n",
            "Epoch 9/20\n",
            "8982/8982 [==============================] - 24s 3ms/step - loss: 1.3466 - accuracy: 0.6607 - val_loss: 1.4023 - val_accuracy: 0.6523\n",
            "Epoch 10/20\n",
            "8982/8982 [==============================] - 24s 3ms/step - loss: 1.2550 - accuracy: 0.6843 - val_loss: 1.3807 - val_accuracy: 0.6456\n",
            "Epoch 11/20\n",
            "8982/8982 [==============================] - 24s 3ms/step - loss: 1.2372 - accuracy: 0.6764 - val_loss: 1.3618 - val_accuracy: 0.6532\n",
            "Epoch 12/20\n",
            "8982/8982 [==============================] - 24s 3ms/step - loss: 1.1554 - accuracy: 0.7001 - val_loss: 1.2746 - val_accuracy: 0.6723\n",
            "Epoch 13/20\n",
            "8982/8982 [==============================] - 24s 3ms/step - loss: 1.1105 - accuracy: 0.7141 - val_loss: 1.2716 - val_accuracy: 0.6754\n",
            "Epoch 14/20\n",
            "8982/8982 [==============================] - 24s 3ms/step - loss: 1.0510 - accuracy: 0.7253 - val_loss: 1.2499 - val_accuracy: 0.6830\n",
            "Epoch 15/20\n",
            "8982/8982 [==============================] - 24s 3ms/step - loss: 1.0110 - accuracy: 0.7361 - val_loss: 1.2362 - val_accuracy: 0.6825\n",
            "Epoch 16/20\n",
            "8982/8982 [==============================] - 24s 3ms/step - loss: 0.9813 - accuracy: 0.7465 - val_loss: 1.2040 - val_accuracy: 0.6959\n",
            "Epoch 17/20\n",
            "8982/8982 [==============================] - 24s 3ms/step - loss: 0.9335 - accuracy: 0.7622 - val_loss: 1.2469 - val_accuracy: 0.6883\n",
            "Epoch 18/20\n",
            "8982/8982 [==============================] - 24s 3ms/step - loss: 0.8970 - accuracy: 0.7727 - val_loss: 1.2181 - val_accuracy: 0.7012\n",
            "Epoch 19/20\n",
            "8982/8982 [==============================] - 24s 3ms/step - loss: 0.8618 - accuracy: 0.7857 - val_loss: 1.1887 - val_accuracy: 0.7035\n",
            "Epoch 20/20\n",
            "8982/8982 [==============================] - 24s 3ms/step - loss: 0.8231 - accuracy: 0.7936 - val_loss: 1.1887 - val_accuracy: 0.7044\n"
          ],
          "name": "stdout"
        }
      ]
    },
    {
      "cell_type": "markdown",
      "metadata": {
        "id": "cw8IIBaxs_8n",
        "colab_type": "text"
      },
      "source": [
        "### 테스트 정확도 출력\n"
      ]
    },
    {
      "cell_type": "code",
      "metadata": {
        "id": "JzmKIiuItAb_",
        "colab_type": "code",
        "colab": {
          "base_uri": "https://localhost:8080/",
          "height": 68
        },
        "outputId": "bea85909-fa80-44b6-a8af-ffb3a990c9b4"
      },
      "source": [
        "print(\"\\n Test Accuracy: %.4f\" % (model.evaluate(x_test, y_test)[1]))\n",
        "\n",
        "\n"
      ],
      "execution_count": 10,
      "outputs": [
        {
          "output_type": "stream",
          "text": [
            "2246/2246 [==============================] - 2s 871us/step\n",
            "\n",
            " Test Accuracy: 0.7044\n"
          ],
          "name": "stdout"
        }
      ]
    },
    {
      "cell_type": "markdown",
      "metadata": {
        "id": "RtKR_v6PtBBQ",
        "colab_type": "text"
      },
      "source": [
        "### 테스트 셋의 오차\n"
      ]
    },
    {
      "cell_type": "code",
      "metadata": {
        "id": "58TfFuZ4tBjc",
        "colab_type": "code",
        "colab": {}
      },
      "source": [
        "y_vloss = history.history['val_loss']\n",
        "\n"
      ],
      "execution_count": 0,
      "outputs": []
    },
    {
      "cell_type": "markdown",
      "metadata": {
        "id": "qEa2PDBrtCJ5",
        "colab_type": "text"
      },
      "source": [
        "### 학습셋의 오차\n"
      ]
    },
    {
      "cell_type": "code",
      "metadata": {
        "id": "gmb2jgChtCrN",
        "colab_type": "code",
        "colab": {}
      },
      "source": [
        "y_loss = history.history['loss']\n",
        "\n"
      ],
      "execution_count": 0,
      "outputs": []
    },
    {
      "cell_type": "markdown",
      "metadata": {
        "id": "DOfRVsVgtDPp",
        "colab_type": "text"
      },
      "source": [
        "### 그래프로 표현\n"
      ]
    },
    {
      "cell_type": "code",
      "metadata": {
        "id": "YkP2XUw8tDvG",
        "colab_type": "code",
        "colab": {
          "base_uri": "https://localhost:8080/",
          "height": 282
        },
        "outputId": "43c3b97d-d503-4202-89df-6022ca7bcd61"
      },
      "source": [
        "x_len = numpy.arange(len(y_loss))\n",
        "plt.plot(x_len, y_vloss, marker='.', c=\"red\", label='Testset_loss')\n",
        "plt.plot(x_len, y_loss, marker='.', c=\"blue\", label='Trainset_loss')\n",
        "\n"
      ],
      "execution_count": 13,
      "outputs": [
        {
          "output_type": "execute_result",
          "data": {
            "text/plain": [
              "[<matplotlib.lines.Line2D at 0x7ff0002c5048>]"
            ]
          },
          "metadata": {
            "tags": []
          },
          "execution_count": 13
        },
        {
          "output_type": "display_data",
          "data": {
            "image/png": "[encoded data removed]",
            "text/plain": [
              "<Figure size 432x288 with 1 Axes>"
            ]
          },
          "metadata": {
            "tags": [],
            "needs_background": "light"
          }
        }
      ]
    },
    {
      "cell_type": "markdown",
      "metadata": {
        "id": "w7EhoZ-3tEX-",
        "colab_type": "text"
      },
      "source": [
        "### 그래프에 그리드를 주고 레이블을 표시\n"
      ]
    },
    {
      "cell_type": "code",
      "metadata": {
        "id": "tuzGF4x1tE2r",
        "colab_type": "code",
        "colab": {
          "base_uri": "https://localhost:8080/",
          "height": 300
        },
        "outputId": "92a99028-f0fb-4371-b2f9-9ec1c2d0f701"
      },
      "source": [
        "plt.legend(loc='upper right')\n",
        "plt.grid()\n",
        "plt.xlabel('epoch')\n",
        "plt.ylabel('loss')\n",
        "plt.show()\n"
      ],
      "execution_count": 14,
      "outputs": [
        {
          "output_type": "stream",
          "text": [
            "No handles with labels found to put in legend.\n"
          ],
          "name": "stderr"
        },
        {
          "output_type": "display_data",
          "data": {
            "image/png": "[encoded data removed]",
            "text/plain": [
              "<Figure size 432x288 with 1 Axes>"
            ]
          },
          "metadata": {
            "tags": [],
            "needs_background": "light"
          }
        }
      ]
    },
    {
      "cell_type": "code",
      "metadata": {
        "id": "mbIYXwZDuqN5",
        "colab_type": "code",
        "colab": {}
      },
      "source": [
        ""
      ],
      "execution_count": 0,
      "outputs": []
    }
  ]
}