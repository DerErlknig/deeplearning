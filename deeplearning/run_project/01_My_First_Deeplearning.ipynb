{
  "nbformat": 4,
  "nbformat_minor": 0,
  "metadata": {
    "kernelspec": {
      "display_name": "Python 3",
      "language": "python",
      "name": "python3"
    },
    "language_info": {
      "codemirror_mode": {
        "name": "ipython",
        "version": 3
      },
      "file_extension": ".py",
      "mimetype": "text/x-python",
      "name": "python",
      "nbconvert_exporter": "python",
      "pygments_lexer": "ipython3",
      "version": "3.7.3"
    },
    "colab": {
      "name": "01_My_First_Deeplearning.ipynb",
      "provenance": [],
      "include_colab_link": true
    }
  },
  "cells": [
    {
      "cell_type": "markdown",
      "metadata": {
        "id": "view-in-github",
        "colab_type": "text"
      },
      "source": [
        "<a href=\"https://colab.research.google.com/github/junhansong/deeplearning/blob/master/deeplearning/run_project/01_My_First_Deeplearning.ipynb\" target=\"_parent\"><img src=\"https://colab.research.google.com/assets/colab-badge.svg\" alt=\"Open In Colab\"/></a>"
      ]
    },
    {
      "cell_type": "markdown",
      "metadata": {
        "id": "pS4ZU1CHHvDg",
        "colab_type": "text"
      },
      "source": [
        "\n",
        "## 딥러닝을 구동하는 데 필요한 케라스 함수를 불러옵니다.\n"
      ]
    },
    {
      "cell_type": "code",
      "metadata": {
        "id": "vq7S-C3_HxzY",
        "colab_type": "code",
        "colab": {}
      },
      "source": [
        "\n",
        "from tensorflow.keras.models import Sequential\n",
        "from tensorflow.keras.layers import Dense\n"
      ],
      "execution_count": 1,
      "outputs": []
    },
    {
      "cell_type": "markdown",
      "metadata": {
        "id": "Y9vomhAN6FGn",
        "colab_type": "text"
      },
      "source": [
        "\n",
        "## 필요한 라이브러리를 불러옵니다.\n"
      ]
    },
    {
      "cell_type": "code",
      "metadata": {
        "id": "jNx7XNH2IKO-",
        "colab_type": "code",
        "colab": {}
      },
      "source": [
        "\n",
        "import numpy as np\n",
        "import tensorflow as tf\n"
      ],
      "execution_count": 2,
      "outputs": []
    },
    {
      "cell_type": "markdown",
      "metadata": {
        "id": "2-25PYc36C2d",
        "colab_type": "text"
      },
      "source": [
        "\n",
        "## 실행할 때마다 같은 결과를 출력하기 위해 설정하는 부분입니다.\n"
      ]
    },
    {
      "cell_type": "code",
      "metadata": {
        "id": "ziwvl3mOIL9B",
        "colab_type": "code",
        "colab": {}
      },
      "source": [
        "\n",
        "np.random.seed(3)\n",
        "tf.random.set_seed(3)\n"
      ],
      "execution_count": 4,
      "outputs": []
    },
    {
      "cell_type": "markdown",
      "metadata": {
        "id": "kY5bL9aQ6HML",
        "colab_type": "text"
      },
      "source": [
        "\n",
        "## 준비된 수술 환자 데이터를 불러들입니다.\n"
      ]
    },
    {
      "cell_type": "code",
      "metadata": {
        "id": "1idYoBOjI86k",
        "colab_type": "code",
        "colab": {}
      },
      "source": [
        "Data_set = np.loadtxt(\"https://raw.githubusercontent.com/junhansong/deeplearning/master/deeplearning/dataset/ThoraricSurgery.csv\", delimiter=\",\")\n"
      ],
      "execution_count": 5,
      "outputs": []
    },
    {
      "cell_type": "markdown",
      "metadata": {
        "id": "LCAgvYRlJBT6",
        "colab_type": "text"
      },
      "source": [
        "\n",
        "## 환자의 기록과 수술 결과를 X와 Y로 구분하여 저장합니다.\n"
      ]
    },
    {
      "cell_type": "code",
      "metadata": {
        "id": "YjMM86kvJF7C",
        "colab_type": "code",
        "colab": {}
      },
      "source": [
        "\n",
        "X = Data_set[:,0:17]\n",
        "Y = Data_set[:,17]\n"
      ],
      "execution_count": 6,
      "outputs": []
    },
    {
      "cell_type": "markdown",
      "metadata": {
        "id": "zD1PJPIz6Izz",
        "colab_type": "text"
      },
      "source": [
        "\n",
        "## 딥러닝 구조를 결정합니다(모델을 설정하고 실행하는 부분입니다).\n"
      ]
    },
    {
      "cell_type": "code",
      "metadata": {
        "id": "f3ei1KqAJRsq",
        "colab_type": "code",
        "colab": {}
      },
      "source": [
        "\n",
        "model = Sequential()\n",
        "model.add(Dense(30, input_dim=17, activation='relu'))\n",
        "model.add(Dense(1, activation='sigmoid'))\n"
      ],
      "execution_count": 7,
      "outputs": []
    },
    {
      "cell_type": "markdown",
      "metadata": {
        "id": "8HKgKey-6KEQ",
        "colab_type": "text"
      },
      "source": [
        "\n",
        "## 딥러닝을 실행합니다.\n"
      ]
    },
    {
      "cell_type": "code",
      "metadata": {
        "id": "Z7wX69LZJUso",
        "colab_type": "code",
        "colab": {
          "base_uri": "https://localhost:8080/",
          "height": 1000
        },
        "outputId": "0ea48015-d5be-48e5-f783-f8e00059848b"
      },
      "source": [
        "\n",
        "model.compile(loss='mean_squared_error', optimizer='adam', metrics=['accuracy'])\n",
        "model.fit(X, Y, epochs=100, batch_size=10)\n"
      ],
      "execution_count": 8,
      "outputs": [
        {
          "output_type": "stream",
          "text": [
            "Epoch 1/100\n",
            "47/47 [==============================] - 0s 2ms/step - loss: 0.1485 - accuracy: 0.8426\n",
            "Epoch 2/100\n",
            "47/47 [==============================] - 0s 1ms/step - loss: 0.1402 - accuracy: 0.8511\n",
            "Epoch 3/100\n",
            "47/47 [==============================] - 0s 1ms/step - loss: 0.1433 - accuracy: 0.8489\n",
            "Epoch 4/100\n",
            "47/47 [==============================] - 0s 1ms/step - loss: 0.1395 - accuracy: 0.8511\n",
            "Epoch 5/100\n",
            "47/47 [==============================] - 0s 1ms/step - loss: 0.1387 - accuracy: 0.8468\n",
            "Epoch 6/100\n",
            "47/47 [==============================] - 0s 1ms/step - loss: 0.1413 - accuracy: 0.8511\n",
            "Epoch 7/100\n",
            "47/47 [==============================] - 0s 1ms/step - loss: 0.1341 - accuracy: 0.8468\n",
            "Epoch 8/100\n",
            "47/47 [==============================] - 0s 1ms/step - loss: 0.1359 - accuracy: 0.8511\n",
            "Epoch 9/100\n",
            "47/47 [==============================] - 0s 1ms/step - loss: 0.1333 - accuracy: 0.8532\n",
            "Epoch 10/100\n",
            "47/47 [==============================] - 0s 1ms/step - loss: 0.1398 - accuracy: 0.8468\n",
            "Epoch 11/100\n",
            "47/47 [==============================] - 0s 1ms/step - loss: 0.1433 - accuracy: 0.8511\n",
            "Epoch 12/100\n",
            "47/47 [==============================] - 0s 1ms/step - loss: 0.1389 - accuracy: 0.8511\n",
            "Epoch 13/100\n",
            "47/47 [==============================] - 0s 2ms/step - loss: 0.1368 - accuracy: 0.8511\n",
            "Epoch 14/100\n",
            "47/47 [==============================] - 0s 1ms/step - loss: 0.1375 - accuracy: 0.8511\n",
            "Epoch 15/100\n",
            "47/47 [==============================] - 0s 1ms/step - loss: 0.1383 - accuracy: 0.8511\n",
            "Epoch 16/100\n",
            "47/47 [==============================] - 0s 1ms/step - loss: 0.1319 - accuracy: 0.8532\n",
            "Epoch 17/100\n",
            "47/47 [==============================] - 0s 1ms/step - loss: 0.1449 - accuracy: 0.8511\n",
            "Epoch 18/100\n",
            "47/47 [==============================] - 0s 1ms/step - loss: 0.1425 - accuracy: 0.8489\n",
            "Epoch 19/100\n",
            "47/47 [==============================] - 0s 1ms/step - loss: 0.1402 - accuracy: 0.8511\n",
            "Epoch 20/100\n",
            "47/47 [==============================] - 0s 1ms/step - loss: 0.1344 - accuracy: 0.8489\n",
            "Epoch 21/100\n",
            "47/47 [==============================] - 0s 1ms/step - loss: 0.1413 - accuracy: 0.8511\n",
            "Epoch 22/100\n",
            "47/47 [==============================] - 0s 982us/step - loss: 0.1356 - accuracy: 0.8489\n",
            "Epoch 23/100\n",
            "47/47 [==============================] - 0s 1ms/step - loss: 0.1361 - accuracy: 0.8489\n",
            "Epoch 24/100\n",
            "47/47 [==============================] - 0s 1ms/step - loss: 0.1368 - accuracy: 0.8532\n",
            "Epoch 25/100\n",
            "47/47 [==============================] - 0s 1ms/step - loss: 0.1338 - accuracy: 0.8489\n",
            "Epoch 26/100\n",
            "47/47 [==============================] - 0s 970us/step - loss: 0.1354 - accuracy: 0.8532\n",
            "Epoch 27/100\n",
            "47/47 [==============================] - 0s 1ms/step - loss: 0.1332 - accuracy: 0.8553\n",
            "Epoch 28/100\n",
            "47/47 [==============================] - 0s 992us/step - loss: 0.1407 - accuracy: 0.8489\n",
            "Epoch 29/100\n",
            "47/47 [==============================] - 0s 1ms/step - loss: 0.1298 - accuracy: 0.8489\n",
            "Epoch 30/100\n",
            "47/47 [==============================] - 0s 1ms/step - loss: 0.1285 - accuracy: 0.8511\n",
            "Epoch 31/100\n",
            "47/47 [==============================] - 0s 1ms/step - loss: 0.1451 - accuracy: 0.8511\n",
            "Epoch 32/100\n",
            "47/47 [==============================] - 0s 1ms/step - loss: 0.1411 - accuracy: 0.8511\n",
            "Epoch 33/100\n",
            "47/47 [==============================] - 0s 979us/step - loss: 0.1390 - accuracy: 0.8532\n",
            "Epoch 34/100\n",
            "47/47 [==============================] - 0s 965us/step - loss: 0.1386 - accuracy: 0.8532\n",
            "Epoch 35/100\n",
            "47/47 [==============================] - 0s 1ms/step - loss: 0.1353 - accuracy: 0.8447\n",
            "Epoch 36/100\n",
            "47/47 [==============================] - 0s 1ms/step - loss: 0.1357 - accuracy: 0.8447\n",
            "Epoch 37/100\n",
            "47/47 [==============================] - 0s 945us/step - loss: 0.1412 - accuracy: 0.8511\n",
            "Epoch 38/100\n",
            "47/47 [==============================] - 0s 960us/step - loss: 0.1385 - accuracy: 0.8511\n",
            "Epoch 39/100\n",
            "47/47 [==============================] - 0s 959us/step - loss: 0.1349 - accuracy: 0.8532\n",
            "Epoch 40/100\n",
            "47/47 [==============================] - 0s 1ms/step - loss: 0.1272 - accuracy: 0.8553\n",
            "Epoch 41/100\n",
            "47/47 [==============================] - 0s 1ms/step - loss: 0.1403 - accuracy: 0.8468\n",
            "Epoch 42/100\n",
            "47/47 [==============================] - 0s 1ms/step - loss: 0.1333 - accuracy: 0.8532\n",
            "Epoch 43/100\n",
            "47/47 [==============================] - 0s 1ms/step - loss: 0.1306 - accuracy: 0.8532\n",
            "Epoch 44/100\n",
            "47/47 [==============================] - 0s 1ms/step - loss: 0.1332 - accuracy: 0.8532\n",
            "Epoch 45/100\n",
            "47/47 [==============================] - 0s 958us/step - loss: 0.1396 - accuracy: 0.8511\n",
            "Epoch 46/100\n",
            "47/47 [==============================] - 0s 1ms/step - loss: 0.1390 - accuracy: 0.8489\n",
            "Epoch 47/100\n",
            "47/47 [==============================] - 0s 993us/step - loss: 0.1378 - accuracy: 0.8511\n",
            "Epoch 48/100\n",
            "47/47 [==============================] - 0s 1ms/step - loss: 0.1337 - accuracy: 0.8511\n",
            "Epoch 49/100\n",
            "47/47 [==============================] - 0s 1ms/step - loss: 0.1352 - accuracy: 0.8489\n",
            "Epoch 50/100\n",
            "47/47 [==============================] - 0s 1ms/step - loss: 0.1306 - accuracy: 0.8532\n",
            "Epoch 51/100\n",
            "47/47 [==============================] - 0s 1ms/step - loss: 0.1248 - accuracy: 0.8553\n",
            "Epoch 52/100\n",
            "47/47 [==============================] - 0s 974us/step - loss: 0.1236 - accuracy: 0.8532\n",
            "Epoch 53/100\n",
            "47/47 [==============================] - 0s 971us/step - loss: 0.1257 - accuracy: 0.8532\n",
            "Epoch 54/100\n",
            "47/47 [==============================] - 0s 918us/step - loss: 0.1315 - accuracy: 0.8511\n",
            "Epoch 55/100\n",
            "47/47 [==============================] - 0s 969us/step - loss: 0.1294 - accuracy: 0.8468\n",
            "Epoch 56/100\n",
            "47/47 [==============================] - 0s 1ms/step - loss: 0.1274 - accuracy: 0.8532\n",
            "Epoch 57/100\n",
            "47/47 [==============================] - 0s 1ms/step - loss: 0.1252 - accuracy: 0.8511\n",
            "Epoch 58/100\n",
            "47/47 [==============================] - 0s 1ms/step - loss: 0.1374 - accuracy: 0.8447\n",
            "Epoch 59/100\n",
            "47/47 [==============================] - 0s 1ms/step - loss: 0.1401 - accuracy: 0.8489\n",
            "Epoch 60/100\n",
            "47/47 [==============================] - 0s 950us/step - loss: 0.1336 - accuracy: 0.8532\n",
            "Epoch 61/100\n",
            "47/47 [==============================] - 0s 950us/step - loss: 0.1293 - accuracy: 0.8596\n",
            "Epoch 62/100\n",
            "47/47 [==============================] - 0s 1ms/step - loss: 0.1267 - accuracy: 0.8511\n",
            "Epoch 63/100\n",
            "47/47 [==============================] - 0s 976us/step - loss: 0.1287 - accuracy: 0.8489\n",
            "Epoch 64/100\n",
            "47/47 [==============================] - 0s 1ms/step - loss: 0.1269 - accuracy: 0.8532\n",
            "Epoch 65/100\n",
            "47/47 [==============================] - 0s 1ms/step - loss: 0.1221 - accuracy: 0.8574\n",
            "Epoch 66/100\n",
            "47/47 [==============================] - 0s 1ms/step - loss: 0.1273 - accuracy: 0.8468\n",
            "Epoch 67/100\n",
            "47/47 [==============================] - 0s 1ms/step - loss: 0.1206 - accuracy: 0.8532\n",
            "Epoch 68/100\n",
            "47/47 [==============================] - 0s 1ms/step - loss: 0.1235 - accuracy: 0.8532\n",
            "Epoch 69/100\n",
            "47/47 [==============================] - 0s 973us/step - loss: 0.1235 - accuracy: 0.8553\n",
            "Epoch 70/100\n",
            "47/47 [==============================] - 0s 979us/step - loss: 0.1217 - accuracy: 0.8532\n",
            "Epoch 71/100\n",
            "47/47 [==============================] - 0s 1ms/step - loss: 0.1295 - accuracy: 0.8426\n",
            "Epoch 72/100\n",
            "47/47 [==============================] - 0s 1ms/step - loss: 0.1283 - accuracy: 0.8447\n",
            "Epoch 73/100\n",
            "47/47 [==============================] - 0s 1ms/step - loss: 0.1355 - accuracy: 0.8532\n",
            "Epoch 74/100\n",
            "47/47 [==============================] - 0s 1ms/step - loss: 0.1311 - accuracy: 0.8617\n",
            "Epoch 75/100\n",
            "47/47 [==============================] - 0s 1ms/step - loss: 0.1223 - accuracy: 0.8553\n",
            "Epoch 76/100\n",
            "47/47 [==============================] - 0s 1ms/step - loss: 0.1308 - accuracy: 0.8574\n",
            "Epoch 77/100\n",
            "47/47 [==============================] - 0s 986us/step - loss: 0.1316 - accuracy: 0.8468\n",
            "Epoch 78/100\n",
            "47/47 [==============================] - 0s 1ms/step - loss: 0.1223 - accuracy: 0.8574\n",
            "Epoch 79/100\n",
            "47/47 [==============================] - 0s 929us/step - loss: 0.1202 - accuracy: 0.8574\n",
            "Epoch 80/100\n",
            "47/47 [==============================] - 0s 1ms/step - loss: 0.1228 - accuracy: 0.8532\n",
            "Epoch 81/100\n",
            "47/47 [==============================] - 0s 1ms/step - loss: 0.1281 - accuracy: 0.8596\n",
            "Epoch 82/100\n",
            "47/47 [==============================] - 0s 1ms/step - loss: 0.1229 - accuracy: 0.8553\n",
            "Epoch 83/100\n",
            "47/47 [==============================] - 0s 1ms/step - loss: 0.1237 - accuracy: 0.8596\n",
            "Epoch 84/100\n",
            "47/47 [==============================] - 0s 926us/step - loss: 0.1331 - accuracy: 0.8404\n",
            "Epoch 85/100\n",
            "47/47 [==============================] - 0s 1ms/step - loss: 0.1364 - accuracy: 0.8532\n",
            "Epoch 86/100\n",
            "47/47 [==============================] - 0s 966us/step - loss: 0.1330 - accuracy: 0.8574\n",
            "Epoch 87/100\n",
            "47/47 [==============================] - 0s 954us/step - loss: 0.1194 - accuracy: 0.8638\n",
            "Epoch 88/100\n",
            "47/47 [==============================] - 0s 966us/step - loss: 0.1184 - accuracy: 0.8511\n",
            "Epoch 89/100\n",
            "47/47 [==============================] - 0s 1ms/step - loss: 0.1236 - accuracy: 0.8574\n",
            "Epoch 90/100\n",
            "47/47 [==============================] - 0s 1ms/step - loss: 0.1315 - accuracy: 0.8532\n",
            "Epoch 91/100\n",
            "47/47 [==============================] - 0s 1ms/step - loss: 0.1352 - accuracy: 0.8489\n",
            "Epoch 92/100\n",
            "47/47 [==============================] - 0s 932us/step - loss: 0.1264 - accuracy: 0.8574\n",
            "Epoch 93/100\n",
            "47/47 [==============================] - 0s 959us/step - loss: 0.1180 - accuracy: 0.8574\n",
            "Epoch 94/100\n",
            "47/47 [==============================] - 0s 1ms/step - loss: 0.1228 - accuracy: 0.8596\n",
            "Epoch 95/100\n",
            "47/47 [==============================] - 0s 1ms/step - loss: 0.1216 - accuracy: 0.8596\n",
            "Epoch 96/100\n",
            "47/47 [==============================] - 0s 971us/step - loss: 0.1290 - accuracy: 0.8532\n",
            "Epoch 97/100\n",
            "47/47 [==============================] - 0s 918us/step - loss: 0.1221 - accuracy: 0.8553\n",
            "Epoch 98/100\n",
            "47/47 [==============================] - 0s 949us/step - loss: 0.1318 - accuracy: 0.8468\n",
            "Epoch 99/100\n",
            "47/47 [==============================] - 0s 1ms/step - loss: 0.1332 - accuracy: 0.8574\n",
            "Epoch 100/100\n",
            "47/47 [==============================] - 0s 942us/step - loss: 0.1185 - accuracy: 0.8660\n"
          ],
          "name": "stdout"
        },
        {
          "output_type": "execute_result",
          "data": {
            "text/plain": [
              "<tensorflow.python.keras.callbacks.History at 0x7f242ae39b70>"
            ]
          },
          "metadata": {
            "tags": []
          },
          "execution_count": 8
        }
      ]
    }
  ]
}