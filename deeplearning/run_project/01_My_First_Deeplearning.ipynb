{
  "nbformat": 4,
  "nbformat_minor": 0,
  "metadata": {
    "kernelspec": {
      "display_name": "Python 3",
      "language": "python",
      "name": "python3"
    },
    "language_info": {
      "codemirror_mode": {
        "name": "ipython",
        "version": 3
      },
      "file_extension": ".py",
      "mimetype": "text/x-python",
      "name": "python",
      "nbconvert_exporter": "python",
      "pygments_lexer": "ipython3",
      "version": "3.7.3"
    },
    "colab": {
      "name": "01_My_First_Deeplearning.ipynb",
      "provenance": [],
      "include_colab_link": true
    }
  },
  "cells": [
    {
      "cell_type": "markdown",
      "metadata": {
        "id": "view-in-github",
        "colab_type": "text"
      },
      "source": [
        "<a href=\"https://colab.research.google.com/github/junhansong/deeplearning/blob/master/deeplearning/run_project/01_My_First_Deeplearning.ipynb\" target=\"_parent\"><img src=\"https://colab.research.google.com/assets/colab-badge.svg\" alt=\"Open In Colab\"/></a>"
      ]
    },
    {
      "cell_type": "markdown",
      "metadata": {
        "id": "J3PZnTUD6Mk2",
        "colab_type": "text"
      },
      "source": [
        "<table align=\"left\">\n",
        "  <td>\n",
        "    <a target=\"_blank\" href=\"https://colab.research.google.com/github/junhansong/deeplearning/blob/master/deeplearning/run_project/01_My_First_Deeplearning.ipynb\"><img src=\"https://www.tensorflow.org/images/colab_logo_32px.png\" />구글 코랩에서 실행하기</a>\n",
        "  </td>\n",
        "</table>"
      ]
    },
    {
      "cell_type": "code",
      "metadata": {
        "id": "Husum5dR5Nb4",
        "colab_type": "code",
        "colab": {}
      },
      "source": [
        "# -*- coding: utf-8 -*-\n",
        "# 코드 내부에 한글을 사용가능 하게 해주는 부분입니다.\n",
        "\n",
        "# 딥러닝을 구동하는 데 필요한 케라스 함수를 불러옵니다.\n",
        "from tensorflow.keras.models import Sequential\n",
        "from tensorflow.keras.layers import Dense\n"
      ],
      "execution_count": 0,
      "outputs": []
    },
    {
      "cell_type": "code",
      "metadata": {
        "id": "Y9vomhAN6FGn",
        "colab_type": "code",
        "colab": {}
      },
      "source": [
        "\n",
        "# 필요한 라이브러리를 불러옵니다.\n",
        "import numpy as np\n",
        "import tensorflow as tf\n"
      ],
      "execution_count": 0,
      "outputs": []
    },
    {
      "cell_type": "code",
      "metadata": {
        "id": "2-25PYc36C2d",
        "colab_type": "code",
        "colab": {}
      },
      "source": [
        "\n",
        "# 실행할 때마다 같은 결과를 출력하기 위해 설정하는 부분입니다.\n",
        "np.random.seed(3)\n",
        "tf.random.set_seed(3)\n"
      ],
      "execution_count": 0,
      "outputs": []
    },
    {
      "cell_type": "code",
      "metadata": {
        "id": "kY5bL9aQ6HML",
        "colab_type": "code",
        "colab": {}
      },
      "source": [
        "\n",
        "# 준비된 수술 환자 데이터를 불러들입니다.\n",
        "Data_set = np.loadtxt(\"../dataset/ThoraricSurgery.csv\", delimiter=\",\")\n",
        "\n",
        "# 환자의 기록과 수술 결과를 X와 Y로 구분하여 저장합니다.\n",
        "X = Data_set[:,0:17]\n",
        "Y = Data_set[:,17]\n"
      ],
      "execution_count": 0,
      "outputs": []
    },
    {
      "cell_type": "code",
      "metadata": {
        "id": "zD1PJPIz6Izz",
        "colab_type": "code",
        "colab": {}
      },
      "source": [
        "\n",
        "# 딥러닝 구조를 결정합니다(모델을 설정하고 실행하는 부분입니다).\n",
        "model = Sequential()\n",
        "model.add(Dense(30, input_dim=17, activation='relu'))\n",
        "model.add(Dense(1, activation='sigmoid'))\n"
      ],
      "execution_count": 0,
      "outputs": []
    },
    {
      "cell_type": "code",
      "metadata": {
        "id": "8HKgKey-6KEQ",
        "colab_type": "code",
        "colab": {}
      },
      "source": [
        "\n",
        "# 딥러닝을 실행합니다.\n",
        "model.compile(loss='mean_squared_error', optimizer='adam', metrics=['accuracy'])\n",
        "model.fit(X, Y, epochs=100, batch_size=10)\n"
      ],
      "execution_count": 0,
      "outputs": []
    },
    {
      "cell_type": "code",
      "metadata": {
        "id": "jvIUnEBV5NcB",
        "colab_type": "code",
        "colab": {}
      },
      "source": [
        ""
      ],
      "execution_count": 0,
      "outputs": []
    }
  ]
}